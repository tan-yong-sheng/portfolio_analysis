{
 "cells": [
  {
   "cell_type": "markdown",
   "metadata": {},
   "source": [
    "# Telegram bot"
   ]
  },
  {
   "cell_type": "markdown",
   "metadata": {},
   "source": [
    "Reference: https://github.com/polakowo/vectorbt/blob/f78d1fd4ba4f70f91bbb0530fb29f338e2ceb41b/examples/TelegramSignals.ipynb#L172"
   ]
  },
  {
   "cell_type": "code",
   "execution_count": 3,
   "metadata": {},
   "outputs": [],
   "source": [
    "# Prerequisites: at time being: please install python-telegram-bot lower than version 20, e.g., `pip install python-telegram-bot==13.*`\n",
    "import os\n",
    "import pandas as pd\n",
    "import logging\n",
    "from dotenv import load_dotenv, find_dotenv\n",
    "from telegram.ext import CommandHandler\n",
    "import vectorbt as vbt\n",
    "from vectorbt.utils.datetime_ import get_utc_tz\n",
    "import warnings\n",
    "\n",
    "warnings.filterwarnings(\"ignore\")"
   ]
  },
  {
   "cell_type": "code",
   "execution_count": null,
   "metadata": {},
   "outputs": [],
   "source": [
    "logging.basicConfig(format='%(asctime)s - %(name)s - %(levelname)s - %(message)s', level=logging.INFO)\n",
    "logger = logging.getLogger(__name__)"
   ]
  },
  {
   "cell_type": "code",
   "execution_count": null,
   "metadata": {},
   "outputs": [],
   "source": [
    "# Initial Configuration\n",
    "_ = load_dotenv(find_dotenv()) # load environment variable from .env file\n",
    "\n",
    "# telegram\n",
    "vbt.settings.messaging['telegram']['token'] = os.getenv(\"TELEGRAM_TOKEN\")\n",
    "\n",
    "# Giphy\n",
    "vbt.settings.messaging['giphy']['api_key'] = os.getenv(\"GIPHY_API_KEY\")\n",
    "TZ_CONVERT = get_utc_tz()"
   ]
  },
  {
   "cell_type": "code",
   "execution_count": null,
   "metadata": {},
   "outputs": [],
   "source": [
    "# Data\n",
    "SYMBOLS = [\"BTC-USD\"]\n",
    "START = '1 hour ago UTC'\n",
    "TIMEFRAME = '1m' \n",
    "UPDATE_EVERY = vbt.utils.datetime_.interval_to_ms(TIMEFRAME) // 1000  # in seconds\n",
    "DT_FORMAT = '%d %b %Y %H:%M:%S %z'\n",
    "IND_PARAMS = dict(\n",
    "    timeperiod=20, \n",
    "    nbdevup=2, \n",
    "    nbdevdn=2\n",
    ")\n",
    "CHANGE_NBDEV = 2"
   ]
  },
  {
   "cell_type": "code",
   "execution_count": null,
   "metadata": {},
   "outputs": [
    {
     "name": "stdout",
     "output_type": "stream",
     "text": [
      "DatetimeIndex(['2023-08-12 07:07:00+00:00', '2023-08-12 07:08:00+00:00',\n",
      "               '2023-08-12 07:09:00+00:00', '2023-08-12 07:10:00+00:00',\n",
      "               '2023-08-12 07:11:00+00:00', '2023-08-12 07:12:00+00:00',\n",
      "               '2023-08-12 07:13:00+00:00', '2023-08-12 07:14:00+00:00',\n",
      "               '2023-08-12 07:15:00+00:00', '2023-08-12 07:16:00+00:00',\n",
      "               '2023-08-12 07:17:00+00:00', '2023-08-12 07:18:00+00:00',\n",
      "               '2023-08-12 07:19:00+00:00', '2023-08-12 07:20:00+00:00',\n",
      "               '2023-08-12 07:21:00+00:00', '2023-08-12 07:22:00+00:00',\n",
      "               '2023-08-12 07:23:00+00:00', '2023-08-12 07:24:00+00:00',\n",
      "               '2023-08-12 07:25:00+00:00', '2023-08-12 07:26:00+00:00',\n",
      "               '2023-08-12 07:27:00+00:00', '2023-08-12 07:28:00+00:00',\n",
      "               '2023-08-12 07:29:00+00:00', '2023-08-12 07:30:00+00:00',\n",
      "               '2023-08-12 07:31:00+00:00', '2023-08-12 07:32:00+00:00',\n",
      "               '2023-08-12 07:33:00+00:00', '2023-08-12 07:34:00+00:00',\n",
      "               '2023-08-12 07:35:00+00:00', '2023-08-12 07:36:00+00:00',\n",
      "               '2023-08-12 07:37:00+00:00', '2023-08-12 07:38:00+00:00',\n",
      "               '2023-08-12 07:39:00+00:00', '2023-08-12 07:40:00+00:00',\n",
      "               '2023-08-12 07:41:00+00:00', '2023-08-12 07:42:00+00:00',\n",
      "               '2023-08-12 07:43:00+00:00', '2023-08-12 07:44:00+00:00',\n",
      "               '2023-08-12 07:45:00+00:00', '2023-08-12 07:46:00+00:00',\n",
      "               '2023-08-12 07:47:00+00:00', '2023-08-12 07:48:00+00:00',\n",
      "               '2023-08-12 07:49:00+00:00', '2023-08-12 07:50:00+00:00',\n",
      "               '2023-08-12 07:51:00+00:00', '2023-08-12 07:52:00+00:00',\n",
      "               '2023-08-12 07:53:00+00:00', '2023-08-12 07:54:00+00:00',\n",
      "               '2023-08-12 07:55:00+00:00', '2023-08-12 07:56:00+00:00',\n",
      "               '2023-08-12 07:57:00+00:00', '2023-08-12 07:58:00+00:00',\n",
      "               '2023-08-12 07:59:00+00:00', '2023-08-12 08:00:00+00:00',\n",
      "               '2023-08-12 08:01:00+00:00', '2023-08-12 08:02:00+00:00',\n",
      "               '2023-08-12 08:03:00+00:00'],\n",
      "              dtype='datetime64[ns, UTC]', name='Datetime', freq='T')\n"
     ]
    }
   ],
   "source": [
    "data = vbt.YFData.download(SYMBOLS, start=START, interval=TIMEFRAME)\n",
    "\n",
    "print(data.wrapper.index)"
   ]
  },
  {
   "cell_type": "code",
   "execution_count": null,
   "metadata": {},
   "outputs": [],
   "source": [
    "def get_bbands(data):\n",
    "    return vbt.IndicatorFactory.from_talib('BBANDS').run(\n",
    "        data.get('Close'), **IND_PARAMS, hide_params=list(IND_PARAMS.keys()))\n",
    "\n",
    "\n",
    "def get_info(bbands):\n",
    "    info = dict()\n",
    "    info['last_price'] = bbands.close.iloc[-1]\n",
    "    info['last_change'] = (bbands.close.iloc[-1] - bbands.close.iloc[-2]) / bbands.close.iloc[-1]\n",
    "    info['last_crossed_above_upper'] = bbands.close_crossed_above(bbands.upperband).iloc[-1]\n",
    "    info['last_crossed_below_upper'] = bbands.close_crossed_below(bbands.upperband).iloc[-1]\n",
    "    info['last_crossed_below_lower'] = bbands.close_crossed_below(bbands.lowerband).iloc[-1]\n",
    "    info['last_crossed_above_lower'] = bbands.close_crossed_above(bbands.lowerband).iloc[-1]\n",
    "    info['bw'] = (bbands.upperband - bbands.lowerband) / bbands.middleband\n",
    "    info['last_bw_zscore'] = info['bw'].vbt.zscore().iloc[-1]\n",
    "    info['last_change_zscore'] = bbands.close.vbt.pct_change().vbt.zscore().iloc[-1]\n",
    "    info['last_change_pos'] = info['last_change_zscore'] >= CHANGE_NBDEV\n",
    "    info['last_change_neg'] = info['last_change_zscore'] <= -CHANGE_NBDEV\n",
    "    return info\n",
    "\n",
    "\n",
    "def format_symbol_info(symbol, info):\n",
    "    last_change = info['last_change'][symbol]\n",
    "    last_price = info['last_price'][symbol]\n",
    "    last_bw_zscore = info['last_bw_zscore'][symbol]\n",
    "    return \"{} ({:.2%}, {}, {:.2f})\".format(symbol, last_change, last_price, last_bw_zscore)\n",
    "\n",
    "\n",
    "def format_signals_info(emoji, signals, info):\n",
    "    symbols = signals.index[signals]\n",
    "    symbol_msgs = []\n",
    "    for symbol in symbols:\n",
    "        symbol_msgs.append(format_symbol_info(symbol, info))\n",
    "    return \"{} {}\".format(emoji, ', '.join(symbol_msgs))"
   ]
  },
  {
   "cell_type": "code",
   "execution_count": null,
   "metadata": {},
   "outputs": [],
   "source": [
    "class MyTelegramBot(vbt.TelegramBot):\n",
    "    def __init__(self, data, *args, **kwargs):\n",
    "        super().__init__(data=data, *args, **kwargs)\n",
    "        \n",
    "        self.data = data\n",
    "        self.update_ts = data.wrapper.index[-1]\n",
    "        \n",
    "    @property\n",
    "    def custom_handlers(self):\n",
    "        return (CommandHandler('info', self.info_callback),)\n",
    "    \n",
    "    def info_callback(self, update, context):\n",
    "        chat_id = update.effective_chat.id\n",
    "        if len(context.args) != 1:\n",
    "            self.send_message(chat_id, \"Please provide one symbol.\")\n",
    "            return\n",
    "        symbol = context.args[0]\n",
    "        if symbol not in SYMBOLS:\n",
    "            self.send_message(chat_id, f\"There is no such symbol as \\\"{symbol}\\\".\")\n",
    "            return\n",
    "            \n",
    "        bbands = get_bbands(self.data)\n",
    "        info = get_info(bbands)\n",
    "        messages = [format_symbol_info(symbol, info)]\n",
    "        message = '\\n'.join([\"{}:\".format(self.update_ts.strftime(DT_FORMAT))] + messages)\n",
    "        self.send_message(chat_id, message)\n",
    "        \n",
    "    @property\n",
    "    def start_message(self):\n",
    "        index = self.data.wrapper.index\n",
    "        return f\"\"\"Hello! \n",
    "\n",
    "Starting with {len(index)} rows from {index[0].strftime(DT_FORMAT)} to {index[-1].strftime(DT_FORMAT)}.\"\"\"\n",
    "        \n",
    "    @property\n",
    "    def help_message(self):\n",
    "        return \"\"\"Message format:\n",
    "[event] [symbol] ([price change], [new price], [bandwidth z-score])\n",
    "    \n",
    "Event legend:\n",
    "⬆️ - Price went above upper band\n",
    "⤵️ - Price retraced below upper band\n",
    "⬇️ - Price went below lower band\n",
    "⤴️ - Price retraced above lower band\n",
    "\n",
    "GIF is sent once a band is crossed and the price change is 2 stds from the mean.\"\"\""
   ]
  },
  {
   "cell_type": "code",
   "execution_count": null,
   "metadata": {},
   "outputs": [
    {
     "name": "stderr",
     "output_type": "stream",
     "text": [
      "2023-08-12 16:06:39,098 - vectorbt.messaging.telegram - INFO - Initializing bot\n",
      "2023-08-12 16:06:40,396 - vectorbt.messaging.telegram - INFO - Running bot ts_with_vectorbt_bot\n",
      "2023-08-12 16:06:40,397 - apscheduler.scheduler - INFO - Scheduler started\n"
     ]
    }
   ],
   "source": [
    "telegram_bot = MyTelegramBot(data)\n",
    "telegram_bot.start(in_background=True)"
   ]
  },
  {
   "cell_type": "code",
   "execution_count": null,
   "metadata": {},
   "outputs": [],
   "source": [
    "class MyDataUpdater(vbt.DataUpdater):\n",
    "    def __init__(self, data, telegram_bot, **kwargs):\n",
    "        super().__init__(data, telegram_bot=telegram_bot, **kwargs)\n",
    "        \n",
    "        self.telegram_bot = telegram_bot\n",
    "        self.update_ts = data.wrapper.index[-1]\n",
    "        \n",
    "    def update(self):\n",
    "        super().update()\n",
    "        self.update_ts = pd.Timestamp.now(tz=TZ_CONVERT)\n",
    "        self.telegram_bot.data = self.data\n",
    "        self.telegram_bot.update_ts = self.update_ts\n",
    "        \n",
    "        bbands = get_bbands(self.data)\n",
    "        info = get_info(bbands)\n",
    "    \n",
    "        messages = []\n",
    "        if info['last_crossed_above_upper'].any():\n",
    "            messages.append(format_signals_info('⬆️', info['last_crossed_above_upper'], info))\n",
    "        if info['last_crossed_below_upper'].any():\n",
    "            messages.append(format_signals_info('⤵️', info['last_crossed_below_upper'], info))\n",
    "        if info['last_crossed_below_lower'].any():\n",
    "            messages.append(format_signals_info('⬇️', info['last_crossed_below_lower'], info))\n",
    "        if info['last_crossed_above_lower'].any():\n",
    "            messages.append(format_signals_info('⤴️', info['last_crossed_above_lower'], info))\n",
    "            \n",
    "        if len(messages) > 0:\n",
    "            message = '\\n'.join([\"{}:\".format(self.update_ts.strftime(DT_FORMAT))] + messages)\n",
    "            self.telegram_bot.send_message_to_all(message)\n",
    "        if (info['last_crossed_above_upper'] & info['last_change_pos']).any():\n",
    "            self.telegram_bot.send_giphy_to_all(\"launch\")\n",
    "        if (info['last_crossed_below_lower'] & info['last_change_neg']).any():\n",
    "            self.telegram_bot.send_giphy_to_all(\"fall\")"
   ]
  },
  {
   "cell_type": "code",
   "execution_count": null,
   "metadata": {},
   "outputs": [
    {
     "name": "stderr",
     "output_type": "stream",
     "text": [
      "2023-08-12 16:06:40,685 - vectorbt.utils.schedule_ - INFO - Starting schedule manager with jobs [Every 60 seconds do update() (last run: [never], next run: 2023-08-12 16:07:40)]\n",
      "2023-08-12 16:07:41,866 - vectorbt.data.updater - INFO - Updated data has 58 rows from 2023-08-12 07:07:00+00:00 to 2023-08-12 08:04:00+00:00\n",
      "2023-08-12 16:08:46,796 - vectorbt.data.updater - INFO - Updated data has 59 rows from 2023-08-12 07:07:00+00:00 to 2023-08-12 08:05:00+00:00\n",
      "2023-08-12 16:08:55,200 - vectorbt.messaging.telegram - INFO - 1004394120 - User: \"/start\"\n",
      "2023-08-12 16:08:56,401 - vectorbt.messaging.telegram - INFO - 1004394120 - Bot: \"Hello! \n",
      "\n",
      "Starting with 59 rows from 12 Aug 2023 07:07:00 +0000 to 12 Aug 2023 08:05:00 +0000.\"\n",
      "2023-08-12 16:09:03,700 - vectorbt.messaging.telegram - INFO - 1004394120 - User: \"/start\"\n",
      "2023-08-12 16:09:04,163 - vectorbt.messaging.telegram - INFO - 1004394120 - Bot: \"Hello! \n",
      "\n",
      "Starting with 59 rows from 12 Aug 2023 07:07:00 +0000 to 12 Aug 2023 08:05:00 +0000.\"\n",
      "2023-08-12 16:09:45,689 - vectorbt.messaging.telegram - INFO - 1004394120 - User: \"/start\"\n",
      "2023-08-12 16:09:46,124 - vectorbt.messaging.telegram - INFO - 1004394120 - Bot: \"Hello! \n",
      "\n",
      "Starting with 59 rows from 12 Aug 2023 07:07:00 +0000 to 12 Aug 2023 08:05:00 +0000.\"\n",
      "2023-08-12 16:09:48,995 - vectorbt.data.updater - INFO - Updated data has 60 rows from 2023-08-12 07:07:00+00:00 to 2023-08-12 08:06:00+00:00\n",
      "2023-08-12 16:09:49,677 - vectorbt.messaging.telegram - INFO - 1004394120 - Bot: \"Hey there\"\n",
      "2023-08-12 16:10:14,557 - vectorbt.messaging.telegram - INFO - 1004394120 - User: \"/start\"\n",
      "2023-08-12 16:10:14,963 - vectorbt.messaging.telegram - INFO - 1004394120 - Bot: \"Hello! \n",
      "\n",
      "Starting with 60 rows from 12 Aug 2023 07:07:00 +0000 to 12 Aug 2023 08:06:00 +0000.\"\n",
      "2023-08-12 16:10:26,130 - vectorbt.messaging.telegram - INFO - 1004394120 - User: \"/start\"\n",
      "2023-08-12 16:10:26,534 - vectorbt.messaging.telegram - INFO - 1004394120 - Bot: \"Hello! \n",
      "\n",
      "Starting with 60 rows from 12 Aug 2023 07:07:00 +0000 to 12 Aug 2023 08:06:00 +0000.\"\n",
      "2023-08-12 16:10:52,028 - vectorbt.data.updater - INFO - Updated data has 61 rows from 2023-08-12 07:07:00+00:00 to 2023-08-12 08:07:00+00:00\n",
      "2023-08-12 16:10:52,669 - vectorbt.messaging.telegram - INFO - 1004394120 - Bot: \"Hey there\"\n",
      "2023-08-12 16:11:53,971 - vectorbt.data.updater - INFO - Updated data has 62 rows from 2023-08-12 07:07:00+00:00 to 2023-08-12 08:08:00+00:00\n",
      "2023-08-12 16:11:54,498 - vectorbt.messaging.telegram - INFO - 1004394120 - Bot: \"Hey there\"\n"
     ]
    }
   ],
   "source": [
    "data_updater = MyDataUpdater(data, telegram_bot)\n",
    "data_updater.update_every(UPDATE_EVERY)"
   ]
  },
  {
   "cell_type": "code",
   "execution_count": null,
   "metadata": {},
   "outputs": [],
   "source": [
    "telegram_bot.stop()"
   ]
  }
 ],
 "metadata": {
  "kernelspec": {
   "display_name": "vectorbt",
   "language": "python",
   "name": "python3"
  },
  "language_info": {
   "codemirror_mode": {
    "name": "ipython",
    "version": 3
   },
   "file_extension": ".py",
   "mimetype": "text/x-python",
   "name": "python",
   "nbconvert_exporter": "python",
   "pygments_lexer": "ipython3",
   "version": "3.9.17"
  },
  "orig_nbformat": 4
 },
 "nbformat": 4,
 "nbformat_minor": 2
}
