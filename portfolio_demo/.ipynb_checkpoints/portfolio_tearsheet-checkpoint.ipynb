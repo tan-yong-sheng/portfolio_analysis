{
 "cells": [
  {
   "cell_type": "code",
   "execution_count": null,
   "id": "582d6449-5745-42b5-8fb9-565944ea3c8b",
   "metadata": {},
   "outputs": [],
   "source": [
    "# you could run your code here!"
   ]
  }
 ],
 "metadata": {
  "kernelspec": {
   "display_name": "Python 3 (ipykernel)",
   "language": "python",
   "name": "python3"
  },
  "language_info": {
   "codemirror_mode": {
    "name": "ipython",
    "version": 3
   },
   "file_extension": ".py",
   "mimetype": "text/x-python",
   "name": "python",
   "nbconvert_exporter": "python",
   "pygments_lexer": "ipython3",
   "version": "3.10.12"
  }
 },
 "nbformat": 4,
 "nbformat_minor": 5
}
