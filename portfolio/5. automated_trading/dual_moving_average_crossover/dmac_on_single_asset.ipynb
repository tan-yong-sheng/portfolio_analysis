{
 "cells": [
  {
   "cell_type": "markdown",
   "metadata": {},
   "source": [
    "## Automated trading for dual moving average crossover strategy on Single Asset using Interactive Brokers API"
   ]
  },
  {
   "cell_type": "markdown",
   "metadata": {},
   "source": [
    "Prerequisites:\n",
    "1. Install TWS API: https://interactivebrokers.github.io/#\n",
    "2. `pip install ib_insync`"
   ]
  },
  {
   "cell_type": "code",
   "execution_count": 1,
   "metadata": {},
   "outputs": [],
   "source": [
    "import vectorbt as vbt\n",
    "from ib_insync import *\n",
    "\n",
    "util.startLoop()  # only use in interactive environments (i.e. Jupyter Notebooks)"
   ]
  },
  {
   "cell_type": "code",
   "execution_count": 2,
   "metadata": {},
   "outputs": [
    {
     "name": "stderr",
     "output_type": "stream",
     "text": [
      "API connection failed: ConnectionRefusedError(10061, \"Connect call failed ('127.0.0.1', 7497)\")\n",
      "Make sure API port on TWS/IBG is open\n"
     ]
    },
    {
     "ename": "ConnectionRefusedError",
     "evalue": "[Errno 10061] Connect call failed ('127.0.0.1', 7497)",
     "output_type": "error",
     "traceback": [
      "\u001b[1;31m---------------------------------------------------------------------------\u001b[0m",
      "\u001b[1;31mConnectionRefusedError\u001b[0m                    Traceback (most recent call last)",
      "Cell \u001b[1;32mIn[2], line 2\u001b[0m\n\u001b[0;32m      1\u001b[0m ib \u001b[39m=\u001b[39m IB()\n\u001b[1;32m----> 2\u001b[0m ib\u001b[39m.\u001b[39;49mconnect()\n",
      "File \u001b[1;32mc:\\Users\\yongsheng.tan\\AppData\\Local\\miniconda3\\envs\\vectorbt\\lib\\site-packages\\ib_insync\\ib.py:279\u001b[0m, in \u001b[0;36mIB.connect\u001b[1;34m(self, host, port, clientId, timeout, readonly, account)\u001b[0m\n\u001b[0;32m    257\u001b[0m \u001b[39mdef\u001b[39;00m \u001b[39mconnect\u001b[39m(\n\u001b[0;32m    258\u001b[0m         \u001b[39mself\u001b[39m, host: \u001b[39mstr\u001b[39m \u001b[39m=\u001b[39m \u001b[39m'\u001b[39m\u001b[39m127.0.0.1\u001b[39m\u001b[39m'\u001b[39m, port: \u001b[39mint\u001b[39m \u001b[39m=\u001b[39m \u001b[39m7497\u001b[39m, clientId: \u001b[39mint\u001b[39m \u001b[39m=\u001b[39m \u001b[39m1\u001b[39m,\n\u001b[0;32m    259\u001b[0m         timeout: \u001b[39mfloat\u001b[39m \u001b[39m=\u001b[39m \u001b[39m4\u001b[39m, readonly: \u001b[39mbool\u001b[39m \u001b[39m=\u001b[39m \u001b[39mFalse\u001b[39;00m, account: \u001b[39mstr\u001b[39m \u001b[39m=\u001b[39m \u001b[39m'\u001b[39m\u001b[39m'\u001b[39m):\n\u001b[0;32m    260\u001b[0m \u001b[39m    \u001b[39m\u001b[39m\"\"\"\u001b[39;00m\n\u001b[0;32m    261\u001b[0m \u001b[39m    Connect to a running TWS or IB gateway application.\u001b[39;00m\n\u001b[0;32m    262\u001b[0m \u001b[39m    After the connection is made the client is fully synchronized\u001b[39;00m\n\u001b[1;32m   (...)\u001b[0m\n\u001b[0;32m    277\u001b[0m \u001b[39m        account: Main account to receive updates for.\u001b[39;00m\n\u001b[0;32m    278\u001b[0m \u001b[39m    \"\"\"\u001b[39;00m\n\u001b[1;32m--> 279\u001b[0m     \u001b[39mreturn\u001b[39;00m \u001b[39mself\u001b[39;49m\u001b[39m.\u001b[39;49m_run(\u001b[39mself\u001b[39;49m\u001b[39m.\u001b[39;49mconnectAsync(\n\u001b[0;32m    280\u001b[0m         host, port, clientId, timeout, readonly, account))\n",
      "File \u001b[1;32mc:\\Users\\yongsheng.tan\\AppData\\Local\\miniconda3\\envs\\vectorbt\\lib\\site-packages\\ib_insync\\ib.py:318\u001b[0m, in \u001b[0;36mIB._run\u001b[1;34m(self, *awaitables)\u001b[0m\n\u001b[0;32m    317\u001b[0m \u001b[39mdef\u001b[39;00m \u001b[39m_run\u001b[39m(\u001b[39mself\u001b[39m, \u001b[39m*\u001b[39mawaitables: Awaitable):\n\u001b[1;32m--> 318\u001b[0m     \u001b[39mreturn\u001b[39;00m util\u001b[39m.\u001b[39;49mrun(\u001b[39m*\u001b[39;49mawaitables, timeout\u001b[39m=\u001b[39;49m\u001b[39mself\u001b[39;49m\u001b[39m.\u001b[39;49mRequestTimeout)\n",
      "File \u001b[1;32mc:\\Users\\yongsheng.tan\\AppData\\Local\\miniconda3\\envs\\vectorbt\\lib\\site-packages\\ib_insync\\util.py:341\u001b[0m, in \u001b[0;36mrun\u001b[1;34m(timeout, *awaitables)\u001b[0m\n\u001b[0;32m    339\u001b[0m globalErrorEvent\u001b[39m.\u001b[39mconnect(onError)\n\u001b[0;32m    340\u001b[0m \u001b[39mtry\u001b[39;00m:\n\u001b[1;32m--> 341\u001b[0m     result \u001b[39m=\u001b[39m loop\u001b[39m.\u001b[39;49mrun_until_complete(task)\n\u001b[0;32m    342\u001b[0m \u001b[39mexcept\u001b[39;00m asyncio\u001b[39m.\u001b[39mCancelledError \u001b[39mas\u001b[39;00m e:\n\u001b[0;32m    343\u001b[0m     \u001b[39mraise\u001b[39;00m globalErrorEvent\u001b[39m.\u001b[39mvalue() \u001b[39mor\u001b[39;00m e\n",
      "File \u001b[1;32mc:\\Users\\yongsheng.tan\\AppData\\Local\\miniconda3\\envs\\vectorbt\\lib\\site-packages\\nest_asyncio.py:99\u001b[0m, in \u001b[0;36m_patch_loop.<locals>.run_until_complete\u001b[1;34m(self, future)\u001b[0m\n\u001b[0;32m     96\u001b[0m \u001b[39mif\u001b[39;00m \u001b[39mnot\u001b[39;00m f\u001b[39m.\u001b[39mdone():\n\u001b[0;32m     97\u001b[0m     \u001b[39mraise\u001b[39;00m \u001b[39mRuntimeError\u001b[39;00m(\n\u001b[0;32m     98\u001b[0m         \u001b[39m'\u001b[39m\u001b[39mEvent loop stopped before Future completed.\u001b[39m\u001b[39m'\u001b[39m)\n\u001b[1;32m---> 99\u001b[0m \u001b[39mreturn\u001b[39;00m f\u001b[39m.\u001b[39;49mresult()\n",
      "File \u001b[1;32mc:\\Users\\yongsheng.tan\\AppData\\Local\\miniconda3\\envs\\vectorbt\\lib\\asyncio\\futures.py:201\u001b[0m, in \u001b[0;36mFuture.result\u001b[1;34m(self)\u001b[0m\n\u001b[0;32m    199\u001b[0m \u001b[39mself\u001b[39m\u001b[39m.\u001b[39m__log_traceback \u001b[39m=\u001b[39m \u001b[39mFalse\u001b[39;00m\n\u001b[0;32m    200\u001b[0m \u001b[39mif\u001b[39;00m \u001b[39mself\u001b[39m\u001b[39m.\u001b[39m_exception \u001b[39mis\u001b[39;00m \u001b[39mnot\u001b[39;00m \u001b[39mNone\u001b[39;00m:\n\u001b[1;32m--> 201\u001b[0m     \u001b[39mraise\u001b[39;00m \u001b[39mself\u001b[39m\u001b[39m.\u001b[39m_exception\n\u001b[0;32m    202\u001b[0m \u001b[39mreturn\u001b[39;00m \u001b[39mself\u001b[39m\u001b[39m.\u001b[39m_result\n",
      "File \u001b[1;32mc:\\Users\\yongsheng.tan\\AppData\\Local\\miniconda3\\envs\\vectorbt\\lib\\asyncio\\tasks.py:256\u001b[0m, in \u001b[0;36mTask.__step\u001b[1;34m(***failed resolving arguments***)\u001b[0m\n\u001b[0;32m    252\u001b[0m \u001b[39mtry\u001b[39;00m:\n\u001b[0;32m    253\u001b[0m     \u001b[39mif\u001b[39;00m exc \u001b[39mis\u001b[39;00m \u001b[39mNone\u001b[39;00m:\n\u001b[0;32m    254\u001b[0m         \u001b[39m# We use the `send` method directly, because coroutines\u001b[39;00m\n\u001b[0;32m    255\u001b[0m         \u001b[39m# don't have `__iter__` and `__next__` methods.\u001b[39;00m\n\u001b[1;32m--> 256\u001b[0m         result \u001b[39m=\u001b[39m coro\u001b[39m.\u001b[39;49msend(\u001b[39mNone\u001b[39;49;00m)\n\u001b[0;32m    257\u001b[0m     \u001b[39melse\u001b[39;00m:\n\u001b[0;32m    258\u001b[0m         result \u001b[39m=\u001b[39m coro\u001b[39m.\u001b[39mthrow(exc)\n",
      "File \u001b[1;32mc:\\Users\\yongsheng.tan\\AppData\\Local\\miniconda3\\envs\\vectorbt\\lib\\site-packages\\ib_insync\\ib.py:1748\u001b[0m, in \u001b[0;36mIB.connectAsync\u001b[1;34m(self, host, port, clientId, timeout, readonly, account)\u001b[0m\n\u001b[0;32m   1745\u001b[0m timeout \u001b[39m=\u001b[39m timeout \u001b[39mor\u001b[39;00m \u001b[39mNone\u001b[39;00m\n\u001b[0;32m   1746\u001b[0m \u001b[39mtry\u001b[39;00m:\n\u001b[0;32m   1747\u001b[0m     \u001b[39m# establish API connection\u001b[39;00m\n\u001b[1;32m-> 1748\u001b[0m     \u001b[39mawait\u001b[39;00m \u001b[39mself\u001b[39m\u001b[39m.\u001b[39mclient\u001b[39m.\u001b[39mconnectAsync(host, port, clientId, timeout)\n\u001b[0;32m   1750\u001b[0m     \u001b[39m# autobind manual orders\u001b[39;00m\n\u001b[0;32m   1751\u001b[0m     \u001b[39mif\u001b[39;00m clientId \u001b[39m==\u001b[39m \u001b[39m0\u001b[39m:\n",
      "File \u001b[1;32mc:\\Users\\yongsheng.tan\\AppData\\Local\\miniconda3\\envs\\vectorbt\\lib\\site-packages\\ib_insync\\client.py:211\u001b[0m, in \u001b[0;36mClient.connectAsync\u001b[1;34m(self, host, port, clientId, timeout)\u001b[0m\n\u001b[0;32m    209\u001b[0m \u001b[39mself\u001b[39m\u001b[39m.\u001b[39mconnState \u001b[39m=\u001b[39m Client\u001b[39m.\u001b[39mCONNECTING\n\u001b[0;32m    210\u001b[0m timeout \u001b[39m=\u001b[39m timeout \u001b[39mor\u001b[39;00m \u001b[39mNone\u001b[39;00m\n\u001b[1;32m--> 211\u001b[0m \u001b[39mawait\u001b[39;00m asyncio\u001b[39m.\u001b[39mwait_for(\u001b[39mself\u001b[39m\u001b[39m.\u001b[39mconn\u001b[39m.\u001b[39mconnectAsync(host, port), timeout)\n\u001b[0;32m    212\u001b[0m \u001b[39mself\u001b[39m\u001b[39m.\u001b[39m_logger\u001b[39m.\u001b[39minfo(\u001b[39m'\u001b[39m\u001b[39mConnected\u001b[39m\u001b[39m'\u001b[39m)\n\u001b[0;32m    213\u001b[0m msg \u001b[39m=\u001b[39m \u001b[39mb\u001b[39m\u001b[39m'\u001b[39m\u001b[39mAPI\u001b[39m\u001b[39m\\0\u001b[39;00m\u001b[39m'\u001b[39m \u001b[39m+\u001b[39m \u001b[39mself\u001b[39m\u001b[39m.\u001b[39m_prefix(\u001b[39mb\u001b[39m\u001b[39m'\u001b[39m\u001b[39mv\u001b[39m\u001b[39m%d\u001b[39;00m\u001b[39m..\u001b[39m\u001b[39m%d\u001b[39;00m\u001b[39m%s\u001b[39;00m\u001b[39m'\u001b[39m \u001b[39m%\u001b[39m (\n\u001b[0;32m    214\u001b[0m     \u001b[39mself\u001b[39m\u001b[39m.\u001b[39mMinClientVersion, \u001b[39mself\u001b[39m\u001b[39m.\u001b[39mMaxClientVersion,\n\u001b[0;32m    215\u001b[0m     \u001b[39mb\u001b[39m\u001b[39m'\u001b[39m\u001b[39m \u001b[39m\u001b[39m'\u001b[39m \u001b[39m+\u001b[39m \u001b[39mself\u001b[39m\u001b[39m.\u001b[39mconnectOptions \u001b[39mif\u001b[39;00m \u001b[39mself\u001b[39m\u001b[39m.\u001b[39mconnectOptions \u001b[39melse\u001b[39;00m \u001b[39mb\u001b[39m\u001b[39m'\u001b[39m\u001b[39m'\u001b[39m))\n",
      "File \u001b[1;32mc:\\Users\\yongsheng.tan\\AppData\\Local\\miniconda3\\envs\\vectorbt\\lib\\asyncio\\tasks.py:479\u001b[0m, in \u001b[0;36mwait_for\u001b[1;34m(fut, timeout, loop)\u001b[0m\n\u001b[0;32m    476\u001b[0m         \u001b[39mraise\u001b[39;00m\n\u001b[0;32m    478\u001b[0m \u001b[39mif\u001b[39;00m fut\u001b[39m.\u001b[39mdone():\n\u001b[1;32m--> 479\u001b[0m     \u001b[39mreturn\u001b[39;00m fut\u001b[39m.\u001b[39;49mresult()\n\u001b[0;32m    480\u001b[0m \u001b[39melse\u001b[39;00m:\n\u001b[0;32m    481\u001b[0m     fut\u001b[39m.\u001b[39mremove_done_callback(cb)\n",
      "File \u001b[1;32mc:\\Users\\yongsheng.tan\\AppData\\Local\\miniconda3\\envs\\vectorbt\\lib\\asyncio\\futures.py:201\u001b[0m, in \u001b[0;36mFuture.result\u001b[1;34m(self)\u001b[0m\n\u001b[0;32m    199\u001b[0m \u001b[39mself\u001b[39m\u001b[39m.\u001b[39m__log_traceback \u001b[39m=\u001b[39m \u001b[39mFalse\u001b[39;00m\n\u001b[0;32m    200\u001b[0m \u001b[39mif\u001b[39;00m \u001b[39mself\u001b[39m\u001b[39m.\u001b[39m_exception \u001b[39mis\u001b[39;00m \u001b[39mnot\u001b[39;00m \u001b[39mNone\u001b[39;00m:\n\u001b[1;32m--> 201\u001b[0m     \u001b[39mraise\u001b[39;00m \u001b[39mself\u001b[39m\u001b[39m.\u001b[39m_exception\n\u001b[0;32m    202\u001b[0m \u001b[39mreturn\u001b[39;00m \u001b[39mself\u001b[39m\u001b[39m.\u001b[39m_result\n",
      "File \u001b[1;32mc:\\Users\\yongsheng.tan\\AppData\\Local\\miniconda3\\envs\\vectorbt\\lib\\asyncio\\tasks.py:258\u001b[0m, in \u001b[0;36mTask.__step\u001b[1;34m(***failed resolving arguments***)\u001b[0m\n\u001b[0;32m    256\u001b[0m         result \u001b[39m=\u001b[39m coro\u001b[39m.\u001b[39msend(\u001b[39mNone\u001b[39;00m)\n\u001b[0;32m    257\u001b[0m     \u001b[39melse\u001b[39;00m:\n\u001b[1;32m--> 258\u001b[0m         result \u001b[39m=\u001b[39m coro\u001b[39m.\u001b[39;49mthrow(exc)\n\u001b[0;32m    259\u001b[0m \u001b[39mexcept\u001b[39;00m \u001b[39mStopIteration\u001b[39;00m \u001b[39mas\u001b[39;00m exc:\n\u001b[0;32m    260\u001b[0m     \u001b[39mif\u001b[39;00m \u001b[39mself\u001b[39m\u001b[39m.\u001b[39m_must_cancel:\n\u001b[0;32m    261\u001b[0m         \u001b[39m# Task is cancelled right before coro stops.\u001b[39;00m\n",
      "File \u001b[1;32mc:\\Users\\yongsheng.tan\\AppData\\Local\\miniconda3\\envs\\vectorbt\\lib\\site-packages\\ib_insync\\connection.py:39\u001b[0m, in \u001b[0;36mConnection.connectAsync\u001b[1;34m(self, host, port)\u001b[0m\n\u001b[0;32m     37\u001b[0m \u001b[39mself\u001b[39m\u001b[39m.\u001b[39mreset()\n\u001b[0;32m     38\u001b[0m loop \u001b[39m=\u001b[39m getLoop()\n\u001b[1;32m---> 39\u001b[0m \u001b[39mself\u001b[39m\u001b[39m.\u001b[39mtransport, _ \u001b[39m=\u001b[39m \u001b[39mawait\u001b[39;00m loop\u001b[39m.\u001b[39mcreate_connection(\n\u001b[0;32m     40\u001b[0m     \u001b[39mlambda\u001b[39;00m: \u001b[39mself\u001b[39m, host, port)\n",
      "File \u001b[1;32mc:\\Users\\yongsheng.tan\\AppData\\Local\\miniconda3\\envs\\vectorbt\\lib\\asyncio\\base_events.py:1065\u001b[0m, in \u001b[0;36mBaseEventLoop.create_connection\u001b[1;34m(self, protocol_factory, host, port, ssl, family, proto, flags, sock, local_addr, server_hostname, ssl_handshake_timeout, happy_eyeballs_delay, interleave)\u001b[0m\n\u001b[0;32m   1063\u001b[0m exceptions \u001b[39m=\u001b[39m [exc \u001b[39mfor\u001b[39;00m sub \u001b[39min\u001b[39;00m exceptions \u001b[39mfor\u001b[39;00m exc \u001b[39min\u001b[39;00m sub]\n\u001b[0;32m   1064\u001b[0m \u001b[39mif\u001b[39;00m \u001b[39mlen\u001b[39m(exceptions) \u001b[39m==\u001b[39m \u001b[39m1\u001b[39m:\n\u001b[1;32m-> 1065\u001b[0m     \u001b[39mraise\u001b[39;00m exceptions[\u001b[39m0\u001b[39m]\n\u001b[0;32m   1066\u001b[0m \u001b[39melse\u001b[39;00m:\n\u001b[0;32m   1067\u001b[0m     \u001b[39m# If they all have the same str(), raise one.\u001b[39;00m\n\u001b[0;32m   1068\u001b[0m     model \u001b[39m=\u001b[39m \u001b[39mstr\u001b[39m(exceptions[\u001b[39m0\u001b[39m])\n",
      "File \u001b[1;32mc:\\Users\\yongsheng.tan\\AppData\\Local\\miniconda3\\envs\\vectorbt\\lib\\asyncio\\base_events.py:1050\u001b[0m, in \u001b[0;36mBaseEventLoop.create_connection\u001b[1;34m(self, protocol_factory, host, port, ssl, family, proto, flags, sock, local_addr, server_hostname, ssl_handshake_timeout, happy_eyeballs_delay, interleave)\u001b[0m\n\u001b[0;32m   1048\u001b[0m \u001b[39mfor\u001b[39;00m addrinfo \u001b[39min\u001b[39;00m infos:\n\u001b[0;32m   1049\u001b[0m     \u001b[39mtry\u001b[39;00m:\n\u001b[1;32m-> 1050\u001b[0m         sock \u001b[39m=\u001b[39m \u001b[39mawait\u001b[39;00m \u001b[39mself\u001b[39m\u001b[39m.\u001b[39m_connect_sock(\n\u001b[0;32m   1051\u001b[0m             exceptions, addrinfo, laddr_infos)\n\u001b[0;32m   1052\u001b[0m         \u001b[39mbreak\u001b[39;00m\n\u001b[0;32m   1053\u001b[0m     \u001b[39mexcept\u001b[39;00m \u001b[39mOSError\u001b[39;00m:\n",
      "File \u001b[1;32mc:\\Users\\yongsheng.tan\\AppData\\Local\\miniconda3\\envs\\vectorbt\\lib\\asyncio\\base_events.py:961\u001b[0m, in \u001b[0;36mBaseEventLoop._connect_sock\u001b[1;34m(self, exceptions, addr_info, local_addr_infos)\u001b[0m\n\u001b[0;32m    959\u001b[0m         \u001b[39melse\u001b[39;00m:  \u001b[39m# all bind attempts failed\u001b[39;00m\n\u001b[0;32m    960\u001b[0m             \u001b[39mraise\u001b[39;00m my_exceptions\u001b[39m.\u001b[39mpop()\n\u001b[1;32m--> 961\u001b[0m     \u001b[39mawait\u001b[39;00m \u001b[39mself\u001b[39m\u001b[39m.\u001b[39msock_connect(sock, address)\n\u001b[0;32m    962\u001b[0m     \u001b[39mreturn\u001b[39;00m sock\n\u001b[0;32m    963\u001b[0m \u001b[39mexcept\u001b[39;00m \u001b[39mOSError\u001b[39;00m \u001b[39mas\u001b[39;00m exc:\n",
      "File \u001b[1;32mc:\\Users\\yongsheng.tan\\AppData\\Local\\miniconda3\\envs\\vectorbt\\lib\\asyncio\\selector_events.py:500\u001b[0m, in \u001b[0;36mBaseSelectorEventLoop.sock_connect\u001b[1;34m(self, sock, address)\u001b[0m\n\u001b[0;32m    498\u001b[0m fut \u001b[39m=\u001b[39m \u001b[39mself\u001b[39m\u001b[39m.\u001b[39mcreate_future()\n\u001b[0;32m    499\u001b[0m \u001b[39mself\u001b[39m\u001b[39m.\u001b[39m_sock_connect(fut, sock, address)\n\u001b[1;32m--> 500\u001b[0m \u001b[39mreturn\u001b[39;00m \u001b[39mawait\u001b[39;00m fut\n",
      "File \u001b[1;32mc:\\Users\\yongsheng.tan\\AppData\\Local\\miniconda3\\envs\\vectorbt\\lib\\asyncio\\futures.py:284\u001b[0m, in \u001b[0;36mFuture.__await__\u001b[1;34m(self)\u001b[0m\n\u001b[0;32m    282\u001b[0m \u001b[39mif\u001b[39;00m \u001b[39mnot\u001b[39;00m \u001b[39mself\u001b[39m\u001b[39m.\u001b[39mdone():\n\u001b[0;32m    283\u001b[0m     \u001b[39mself\u001b[39m\u001b[39m.\u001b[39m_asyncio_future_blocking \u001b[39m=\u001b[39m \u001b[39mTrue\u001b[39;00m\n\u001b[1;32m--> 284\u001b[0m     \u001b[39myield\u001b[39;00m \u001b[39mself\u001b[39m  \u001b[39m# This tells Task to wait for completion.\u001b[39;00m\n\u001b[0;32m    285\u001b[0m \u001b[39mif\u001b[39;00m \u001b[39mnot\u001b[39;00m \u001b[39mself\u001b[39m\u001b[39m.\u001b[39mdone():\n\u001b[0;32m    286\u001b[0m     \u001b[39mraise\u001b[39;00m \u001b[39mRuntimeError\u001b[39;00m(\u001b[39m\"\u001b[39m\u001b[39mawait wasn\u001b[39m\u001b[39m'\u001b[39m\u001b[39mt used with future\u001b[39m\u001b[39m\"\u001b[39m)\n",
      "File \u001b[1;32mc:\\Users\\yongsheng.tan\\AppData\\Local\\miniconda3\\envs\\vectorbt\\lib\\asyncio\\tasks.py:328\u001b[0m, in \u001b[0;36mTask.__wakeup\u001b[1;34m(self, future)\u001b[0m\n\u001b[0;32m    326\u001b[0m \u001b[39mdef\u001b[39;00m \u001b[39m__wakeup\u001b[39m(\u001b[39mself\u001b[39m, future):\n\u001b[0;32m    327\u001b[0m     \u001b[39mtry\u001b[39;00m:\n\u001b[1;32m--> 328\u001b[0m         future\u001b[39m.\u001b[39;49mresult()\n\u001b[0;32m    329\u001b[0m     \u001b[39mexcept\u001b[39;00m \u001b[39mBaseException\u001b[39;00m \u001b[39mas\u001b[39;00m exc:\n\u001b[0;32m    330\u001b[0m         \u001b[39m# This may also be a cancellation.\u001b[39;00m\n\u001b[0;32m    331\u001b[0m         \u001b[39mself\u001b[39m\u001b[39m.\u001b[39m__step(exc)\n",
      "File \u001b[1;32mc:\\Users\\yongsheng.tan\\AppData\\Local\\miniconda3\\envs\\vectorbt\\lib\\asyncio\\futures.py:201\u001b[0m, in \u001b[0;36mFuture.result\u001b[1;34m(self)\u001b[0m\n\u001b[0;32m    199\u001b[0m \u001b[39mself\u001b[39m\u001b[39m.\u001b[39m__log_traceback \u001b[39m=\u001b[39m \u001b[39mFalse\u001b[39;00m\n\u001b[0;32m    200\u001b[0m \u001b[39mif\u001b[39;00m \u001b[39mself\u001b[39m\u001b[39m.\u001b[39m_exception \u001b[39mis\u001b[39;00m \u001b[39mnot\u001b[39;00m \u001b[39mNone\u001b[39;00m:\n\u001b[1;32m--> 201\u001b[0m     \u001b[39mraise\u001b[39;00m \u001b[39mself\u001b[39m\u001b[39m.\u001b[39m_exception\n\u001b[0;32m    202\u001b[0m \u001b[39mreturn\u001b[39;00m \u001b[39mself\u001b[39m\u001b[39m.\u001b[39m_result\n",
      "File \u001b[1;32mc:\\Users\\yongsheng.tan\\AppData\\Local\\miniconda3\\envs\\vectorbt\\lib\\asyncio\\selector_events.py:535\u001b[0m, in \u001b[0;36mBaseSelectorEventLoop._sock_connect_cb\u001b[1;34m(self, fut, sock, address)\u001b[0m\n\u001b[0;32m    532\u001b[0m     err \u001b[39m=\u001b[39m sock\u001b[39m.\u001b[39mgetsockopt(socket\u001b[39m.\u001b[39mSOL_SOCKET, socket\u001b[39m.\u001b[39mSO_ERROR)\n\u001b[0;32m    533\u001b[0m     \u001b[39mif\u001b[39;00m err \u001b[39m!=\u001b[39m \u001b[39m0\u001b[39m:\n\u001b[0;32m    534\u001b[0m         \u001b[39m# Jump to any except clause below.\u001b[39;00m\n\u001b[1;32m--> 535\u001b[0m         \u001b[39mraise\u001b[39;00m \u001b[39mOSError\u001b[39;00m(err, \u001b[39mf\u001b[39m\u001b[39m'\u001b[39m\u001b[39mConnect call failed \u001b[39m\u001b[39m{\u001b[39;00maddress\u001b[39m}\u001b[39;00m\u001b[39m'\u001b[39m)\n\u001b[0;32m    536\u001b[0m \u001b[39mexcept\u001b[39;00m (\u001b[39mBlockingIOError\u001b[39;00m, \u001b[39mInterruptedError\u001b[39;00m):\n\u001b[0;32m    537\u001b[0m     \u001b[39m# socket is still registered, the callback will be retried later\u001b[39;00m\n\u001b[0;32m    538\u001b[0m     \u001b[39mpass\u001b[39;00m\n",
      "\u001b[1;31mConnectionRefusedError\u001b[0m: [Errno 10061] Connect call failed ('127.0.0.1', 7497)"
     ]
    }
   ],
   "source": [
    "ib = IB()\n",
    "ib.connect()"
   ]
  }
 ],
 "metadata": {
  "kernelspec": {
   "display_name": "vectorbt",
   "language": "python",
   "name": "python3"
  },
  "language_info": {
   "codemirror_mode": {
    "name": "ipython",
    "version": 3
   },
   "file_extension": ".py",
   "mimetype": "text/x-python",
   "name": "python",
   "nbconvert_exporter": "python",
   "pygments_lexer": "ipython3",
   "version": "3.9.17"
  },
  "orig_nbformat": 4
 },
 "nbformat": 4,
 "nbformat_minor": 2
}
