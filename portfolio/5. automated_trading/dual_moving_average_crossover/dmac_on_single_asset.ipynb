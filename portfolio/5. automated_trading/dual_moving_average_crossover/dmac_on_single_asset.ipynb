{
 "cells": [
  {
   "cell_type": "markdown",
   "metadata": {},
   "source": [
    "## Automated trading for dual moving average crossover strategy on Single Asset using Interactive Brokers API"
   ]
  },
  {
   "cell_type": "markdown",
   "metadata": {},
   "source": [
    "Reference: https://github.com/erdewit/ib_insync/blob/master/notebooks/"
   ]
  },
  {
   "cell_type": "markdown",
   "metadata": {},
   "source": [
    "Remarks: haven't done yet\n",
    "\n",
    "Prerequisites:\n",
    "1. Install TWS API: https://interactivebrokers.github.io/#\n",
    "2. `pip install ib_insync`"
   ]
  },
  {
   "cell_type": "code",
   "execution_count": 431,
   "metadata": {},
   "outputs": [],
   "source": [
    "import yfinance as yf\n",
    "from ib_insync import *\n",
    "\n",
    "util.startLoop()  # only use in interactive environments (i.e. Jupyter Notebooks)"
   ]
  },
  {
   "cell_type": "code",
   "execution_count": 420,
   "metadata": {},
   "outputs": [],
   "source": [
    "asset_to_trade = \"BTC\"\n",
    "yahoo_stock_code = \"BTC-USD\"\n",
    "\n",
    "market = \"PAXOS\" # \"SMART\"\n",
    "\n",
    "currency = \"USD\"\n",
    "cashQty = 1e4"
   ]
  },
  {
   "cell_type": "code",
   "execution_count": 421,
   "metadata": {},
   "outputs": [
    {
     "data": {
      "text/plain": [
       "<IB connected to 127.0.0.1:7497 clientId=2>"
      ]
     },
     "execution_count": 421,
     "metadata": {},
     "output_type": "execute_result"
    }
   ],
   "source": [
    "ib = IB()\n",
    "ib.connect(\"127.0.0.1\", 7497, clientId=2) # replace with your connection details"
   ]
  },
  {
   "cell_type": "code",
   "execution_count": 422,
   "metadata": {},
   "outputs": [
    {
     "data": {
      "text/plain": [
       "[]"
      ]
     },
     "execution_count": 422,
     "metadata": {},
     "output_type": "execute_result"
    }
   ],
   "source": [
    "ib.positions()"
   ]
  },
  {
   "cell_type": "code",
   "execution_count": 423,
   "metadata": {},
   "outputs": [
    {
     "data": {
      "text/plain": [
       "[AccountValue(account='DU6799464', tag='NetLiquidationByCurrency', value='1022025.47', currency='BASE', modelCode='')]"
      ]
     },
     "execution_count": 423,
     "metadata": {},
     "output_type": "execute_result"
    }
   ],
   "source": [
    "[v for v in ib.accountValues() if v.tag == \n",
    " 'NetLiquidationByCurrency' and v.currency == 'BASE']"
   ]
  },
  {
   "cell_type": "code",
   "execution_count": 424,
   "metadata": {},
   "outputs": [
    {
     "data": {
      "text/plain": [
       "[ContractDetails(contract=Contract(secType='CRYPTO', conId=479624278, symbol='BTC', exchange='PAXOS', currency='USD', localSymbol='BTC.USD', tradingClass='BTC'), marketName='BTC', minTick=0.25, orderTypes='AD,ADJUST,ALERT,ALLOC,BASKET,CASHQTY,COND,DAY,DEACT,DEACTDIS,DEACTEOD,GAT,GTC,GTD,GTT,IOC,LMT,MKT,NMIN,NONALGO,WHATIF', validExchanges='PAXOS', priceMagnifier=1, underConId=0, longName='Bitcoin cryptocurrency', contractMonth='', industry='', category='', subcategory='', timeZoneId='US/Eastern', tradingHours='20230812:CLOSED;20230813:0300-20230814:1600;20230814:1601-20230815:1600;20230815:1601-20230816:1600;20230816:1601-20230817:1600;20230817:1601-20230818:1600', liquidHours='20230812:CLOSED;20230813:0300-20230814:1600;20230814:1601-20230815:1600;20230815:1601-20230816:1600;20230816:1601-20230817:1600;20230817:1601-20230818:1600', evRule='', evMultiplier=0, mdSizeMultiplier=1, aggGroup=2147483647, underSymbol='', underSecType='', marketRuleIds='2806', secIdList=[], realExpirationDate='', lastTradeTime='', stockType='', minSize=1e-08, sizeIncrement=1e-08, suggestedSizeIncrement=1e-08, cusip='', ratings='', descAppend='', bondType='', couponType='', callable=False, putable=False, coupon=0, convertible=False, maturity='', issueDate='', nextOptionDate='', nextOptionType='', nextOptionPartial=False, notes='')]"
      ]
     },
     "execution_count": 424,
     "metadata": {},
     "output_type": "execute_result"
    }
   ],
   "source": [
    "# define the asset we're interested in\n",
    "contract = Crypto(asset_to_trade, market, currency)\n",
    "ib.reqContractDetails(contract)"
   ]
  },
  {
   "cell_type": "code",
   "execution_count": 425,
   "metadata": {},
   "outputs": [
    {
     "name": "stdout",
     "output_type": "stream",
     "text": [
      "[*********************100%***********************]  1 of 1 completed\n"
     ]
    }
   ],
   "source": [
    "# fetch data from yahoo finance\n",
    "data= yf.download(yahoo_stock_code,start=\"2020-01-01\",end=\"2022-12-31\")\n"
   ]
  },
  {
   "cell_type": "code",
   "execution_count": 426,
   "metadata": {},
   "outputs": [],
   "source": [
    "# Calculate moving average\n",
    "data[\"MA7\"] = data[\"Close\"].rolling(window=7).mean()\n",
    "data[\"MA14\"] = data[\"Close\"].rolling(window=14).mean()"
   ]
  },
  {
   "cell_type": "code",
   "execution_count": 427,
   "metadata": {},
   "outputs": [],
   "source": [
    "# Create signals\n",
    "data[\"Buy_Signal\"] = data[\"MA7\"] > data[\"MA14\"]\n",
    "data[\"Sell_Signal\"] = data[\"MA7\"] < data[\"MA14\"]"
   ]
  },
  {
   "cell_type": "code",
   "execution_count": 428,
   "metadata": {},
   "outputs": [],
   "source": [
    "#exchange_hours = ib.reqMarketDataType(contract)\n",
    "#exchange_hours # cannot works and suspected need to buy the data"
   ]
  },
  {
   "cell_type": "code",
   "execution_count": 429,
   "metadata": {},
   "outputs": [
    {
     "name": "stdout",
     "output_type": "stream",
     "text": [
      "BUY\n"
     ]
    }
   ],
   "source": [
    "# check for buy signal\n",
    "if data[\"Buy_Signal\"].iloc[-1]:\n",
    "    order = LimitOrder(\"SELL\", 1, lmtPrice= data[\"MA7\"].iloc[-1], tif=\"GTC\") # good-til-canceled\n",
    "    trade = ib.placeOrder(contract, order)\n",
    "    ib.sleep(1) # Wait a second for trade to execute\n",
    "    print(\"SELL\")\n",
    "\n",
    "# check for sell signal\n",
    "elif data[\"Sell_Signal\"].iloc[-1]:\n",
    "    order = LimitOrder(\"BUY\",1, lmtPrice = data[\"MA14\"].iloc[-1], tif=\"GTC\") # good-til-canceled\n",
    "    trade = ib.placeOrder(contract, order)\n",
    "    ib.sleep(1)\n",
    "    print(\"BUY\")\n",
    "    "
   ]
  },
  {
   "cell_type": "code",
   "execution_count": 430,
   "metadata": {},
   "outputs": [
    {
     "name": "stderr",
     "output_type": "stream",
     "text": [
      "Peer closed connection.\n",
      "Peer closed connection.\n"
     ]
    }
   ],
   "source": [
    "ib.disconnect()"
   ]
  }
 ],
 "metadata": {
  "kernelspec": {
   "display_name": "vectorbt",
   "language": "python",
   "name": "python3"
  },
  "language_info": {
   "codemirror_mode": {
    "name": "ipython",
    "version": 3
   },
   "file_extension": ".py",
   "mimetype": "text/x-python",
   "name": "python",
   "nbconvert_exporter": "python",
   "pygments_lexer": "ipython3",
   "version": "3.9.17"
  },
  "orig_nbformat": 4
 },
 "nbformat": 4,
 "nbformat_minor": 2
}
