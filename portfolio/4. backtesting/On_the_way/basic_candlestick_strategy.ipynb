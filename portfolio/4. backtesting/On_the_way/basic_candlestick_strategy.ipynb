{
 "cells": [
  {
   "cell_type": "code",
   "execution_count": 1,
   "id": "0c93a787-c16f-4a1d-ae1c-25cfc7866eb5",
   "metadata": {},
   "outputs": [],
   "source": [
    "import vectorbt as vbt\n",
    "import numpy\n",
    "import pandas\n",
    "from numba import njit\n",
    "import talib\n",
    "import datetime\n",
    "import time\n",
    "from collections import namedtuple\n",
    "import itertools\n",
    "import math"
   ]
  },
  {
   "cell_type": "code",
   "execution_count": 2,
   "id": "a2573fa6-f3c8-46c7-b913-b542f2fa5141",
   "metadata": {},
   "outputs": [],
   "source": [
    "data = vbt.YFData.download(\"BTC-USD\", \n",
    "                        start=\"2020-01-01\",\n",
    "                        end=\"2022-01-01\")\n",
    "Open = data.get(\"Open\").to_numpy()\n",
    "High = data.get(\"High\").to_numpy()\n",
    "Low = data.get(\"Low\").to_numpy()\n",
    "Close = data.get(\"Close\").to_numpy()"
   ]
  },
  {
   "cell_type": "code",
   "execution_count": null,
   "id": "26da045d-eb15-4a8d-a142-dfedf3d3615c",
   "metadata": {},
   "outputs": [],
   "source": [
    "def custom_simulator(open_, high_, low_, close_, "
   ]
  }
 ],
 "metadata": {
  "kernelspec": {
   "display_name": "Python 3 (ipykernel)",
   "language": "python",
   "name": "python3"
  },
  "language_info": {
   "codemirror_mode": {
    "name": "ipython",
    "version": 3
   },
   "file_extension": ".py",
   "mimetype": "text/x-python",
   "name": "python",
   "nbconvert_exporter": "python",
   "pygments_lexer": "ipython3",
   "version": "3.9.17"
  }
 },
 "nbformat": 4,
 "nbformat_minor": 5
}
