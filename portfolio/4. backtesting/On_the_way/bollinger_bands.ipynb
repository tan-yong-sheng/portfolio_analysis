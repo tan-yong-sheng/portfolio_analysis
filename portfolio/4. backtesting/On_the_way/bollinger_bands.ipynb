{
 "cells": [
  {
   "cell_type": "code",
   "execution_count": 1,
   "id": "42d57ebc-6a46-4f75-9744-50d09058c2f0",
   "metadata": {},
   "outputs": [],
   "source": [
    "import vectorbt as vbt\n",
    "import numpy\n",
    "import pandas\n",
    "import talib\n",
    "import warnings\n",
    "import datetime\n",
    "\n",
    "warnings.filterwarnings(\"ignore\")"
   ]
  },
  {
   "cell_type": "code",
   "execution_count": 33,
   "id": "6d787ad8-c9e1-4cca-8d26-980133b0193b",
   "metadata": {},
   "outputs": [],
   "source": [
    "data = vbt.YFData.download(\"AAPL\", \n",
    "                           start=\"2021-01-01\",\n",
    "                          end=\"2022-08-02\")\n",
    "Open = data.get(\"Close\")\n",
    "High = data.get(\"High\")\n",
    "Close = data.get(\"Close\")\n",
    "Low = data.get(\"Low\")\n",
    "Volume = data.get(\"Volume\")"
   ]
  },
  {
   "cell_type": "code",
   "execution_count": 27,
   "id": "39abdfa9-aa33-4708-8cda-4fe204984c5b",
   "metadata": {},
   "outputs": [],
   "source": [
    "# define the trend\n",
    "SMA_200 = vbt.MA.run(Close, window=200)\n",
    "\n",
    "# define the pullback\n",
    "BBANDS_20 = vbt.talib(\"BBANDS\").run(Close, timeperiod=20, nbdevup=2.5, nbdevdn=2.5)"
   ]
  },
  {
   "cell_type": "code",
   "execution_count": 29,
   "id": "833486f8-f694-4e3e-8edd-4a81a38cfe6b",
   "metadata": {},
   "outputs": [],
   "source": [
    "RSI_2 = vbt.RSI.run(Close, window=2)"
   ]
  },
  {
   "cell_type": "code",
   "execution_count": null,
   "id": "a93de15a-b7d5-4708-8eca-ab1b77be8a3f",
   "metadata": {},
   "outputs": [],
   "source": [
    "entries = \n",
    "exits = RSI_2.cross_above(50) # holding day of 10 days"
   ]
  },
  {
   "cell_type": "code",
   "execution_count": null,
   "id": "969980c1-b62f-433e-9fda-4c0a5303cdc6",
   "metadata": {},
   "outputs": [],
   "source": []
  }
 ],
 "metadata": {
  "kernelspec": {
   "display_name": "Python 3 (ipykernel)",
   "language": "python",
   "name": "python3"
  },
  "language_info": {
   "codemirror_mode": {
    "name": "ipython",
    "version": 3
   },
   "file_extension": ".py",
   "mimetype": "text/x-python",
   "name": "python",
   "nbconvert_exporter": "python",
   "pygments_lexer": "ipython3",
   "version": "3.9.17"
  }
 },
 "nbformat": 4,
 "nbformat_minor": 5
}
