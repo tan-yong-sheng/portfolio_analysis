{
 "cells": [
  {
   "cell_type": "markdown",
   "metadata": {},
   "source": [
    "Reference: https://www.linkedin.com/pulse/monte-carlo-backtesting-traders-ace-dfi-labs/"
   ]
  },
  {
   "cell_type": "code",
   "execution_count": 17,
   "metadata": {
    "tags": []
   },
   "outputs": [],
   "source": [
    "import numpy\n",
    "\n",
    "price = 100 # initial price\n",
    "daily_return = 0.01 # average daily return\n",
    "volatility = 0.2\n",
    "num_simulations = 1000 # number of simulations\n",
    "num_days = 30 # number of days to simulate"
   ]
  },
  {
   "cell_type": "code",
   "execution_count": 8,
   "metadata": {
    "tags": []
   },
   "outputs": [
    {
     "data": {
      "text/plain": [
       "array([[-0.26434165, -0.22481513,  0.05947453, ..., -0.09027438,\n",
       "         0.24138478, -0.27375817],\n",
       "       [-0.07351831, -0.13494468,  0.07496315, ..., -0.06614043,\n",
       "        -0.00078327,  0.18917548],\n",
       "       [-0.01342985,  0.09735927,  0.04095459, ..., -0.42516452,\n",
       "         0.04969649,  0.15641467],\n",
       "       ...,\n",
       "       [-0.1360552 , -0.03057752, -0.08301294, ...,  0.24595462,\n",
       "         0.00696563, -0.09059865],\n",
       "       [ 0.14628226,  0.28325186, -0.31248888, ...,  0.43541537,\n",
       "         0.02665545,  0.17844334],\n",
       "       [ 0.19336139, -0.09657198, -0.07884082, ..., -0.19207712,\n",
       "         0.1332547 , -0.10815531]])"
      ]
     },
     "execution_count": 8,
     "metadata": {},
     "output_type": "execute_result"
    }
   ],
   "source": [
    "# Calculate daily drift and diffusion\n",
    "drift = daily_return - 0.5 * volatility * 2\n",
    "diffusion = volatility * numpy.random.normal(0,1,size=(num_simulations, num_days))\n",
    "diffusion"
   ]
  },
  {
   "cell_type": "code",
   "execution_count": 18,
   "metadata": {
    "tags": []
   },
   "outputs": [
    {
     "ename": "ValueError",
     "evalue": "operands could not be broadcast together with shapes (1000,) (30,) ",
     "output_type": "error",
     "traceback": [
      "\u001b[1;31m---------------------------------------------------------------------------\u001b[0m",
      "\u001b[1;31mValueError\u001b[0m                                Traceback (most recent call last)",
      "Cell \u001b[1;32mIn [18], line 7\u001b[0m\n\u001b[0;32m      5\u001b[0m \u001b[38;5;66;03m# Simulate price paths\u001b[39;00m\n\u001b[0;32m      6\u001b[0m \u001b[38;5;28;01mfor\u001b[39;00m i \u001b[38;5;129;01min\u001b[39;00m \u001b[38;5;28mrange\u001b[39m(\u001b[38;5;241m1\u001b[39m, num_simulations):\n\u001b[1;32m----> 7\u001b[0m     price_matrix [i,:] \u001b[38;5;241m=\u001b[39m \u001b[43mprice_matrix\u001b[49m\u001b[43m \u001b[49m\u001b[43m[\u001b[49m\u001b[43mi\u001b[49m\u001b[38;5;241;43m-\u001b[39;49m\u001b[38;5;241;43m1\u001b[39;49m\u001b[43m,\u001b[49m\u001b[43m:\u001b[49m\u001b[43m]\u001b[49m\u001b[43m \u001b[49m\u001b[38;5;241;43m*\u001b[39;49m\u001b[43m \u001b[49m\u001b[43mnumpy\u001b[49m\u001b[38;5;241;43m.\u001b[39;49m\u001b[43mexp\u001b[49m\u001b[43m \u001b[49m\u001b[43m(\u001b[49m\u001b[43mdrift\u001b[49m\u001b[43m \u001b[49m\u001b[38;5;241;43m+\u001b[39;49m\u001b[43m \u001b[49m\u001b[43mdiffusion\u001b[49m\u001b[43m \u001b[49m\u001b[43m[\u001b[49m\u001b[43mi\u001b[49m\u001b[43m,\u001b[49m\u001b[43m:\u001b[49m\u001b[43m]\u001b[49m\u001b[43m)\u001b[49m\n",
      "\u001b[1;31mValueError\u001b[0m: operands could not be broadcast together with shapes (1000,) (30,) "
     ]
    }
   ],
   "source": [
    "# Initialize price matrix\n",
    "price_matrix = numpy.zeros([num_days, num_simulations])\n",
    "price_matrix [0,:] = price\n",
    "\n",
    "# Simulate price paths\n",
    "for i in range(1, num_simulations):\n",
    "    price_matrix [i,:] = price_matrix [i-1,:] * numpy.exp (drift + diffusion [i,:])"
   ]
  },
  {
   "cell_type": "code",
   "execution_count": null,
   "metadata": {},
   "outputs": [],
   "source": []
  }
 ],
 "metadata": {
  "kernelspec": {
   "display_name": "Python 3 (ipykernel)",
   "language": "python",
   "name": "python3"
  },
  "language_info": {
   "codemirror_mode": {
    "name": "ipython",
    "version": 3
   },
   "file_extension": ".py",
   "mimetype": "text/x-python",
   "name": "python",
   "nbconvert_exporter": "python",
   "pygments_lexer": "ipython3",
   "version": "3.9.0"
  }
 },
 "nbformat": 4,
 "nbformat_minor": 4
}
