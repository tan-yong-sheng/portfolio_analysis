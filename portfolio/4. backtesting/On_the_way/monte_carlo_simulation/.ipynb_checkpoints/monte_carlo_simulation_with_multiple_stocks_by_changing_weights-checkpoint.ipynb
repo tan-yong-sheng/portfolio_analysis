{
 "cells": [
  {
   "cell_type": "markdown",
   "metadata": {},
   "source": [
    "\n",
    "Reference: https://towardsdatascience.com/improving-your-algo-trading-by-using-monte-carlo-simulation-and-probability-cones-abacde033adf\n",
    "\n",
    "Reference - Monte Carlo Simulation of a Stock Portfolio with Python: https://www.youtube.com/watch?v=6-dhdMDiYWQ\n"
   ]
  },
  {
   "cell_type": "code",
   "execution_count": null,
   "metadata": {},
   "outputs": [],
   "source": []
  },
  {
   "cell_type": "code",
   "execution_count": null,
   "metadata": {},
   "outputs": [],
   "source": []
  }
 ],
 "metadata": {
  "language_info": {
   "name": "python"
  },
  "orig_nbformat": 4
 },
 "nbformat": 4,
 "nbformat_minor": 2
}
