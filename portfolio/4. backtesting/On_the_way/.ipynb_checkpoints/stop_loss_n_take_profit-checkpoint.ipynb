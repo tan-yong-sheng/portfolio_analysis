{
 "cells": [
  {
   "cell_type": "markdown",
   "id": "8cb7a8cb-93a2-416b-9c57-b139c01375a4",
   "metadata": {},
   "source": [
    "# Stop loss & Take profit with vectorbt"
   ]
  },
  {
   "cell_type": "markdown",
   "id": "e6eda311-d9ed-441d-9142-cdffb921607f",
   "metadata": {},
   "source": [
    "- Reference 1: https://quantnomad.com/using-sl-and-pt-in-backtesting-in-python-with-vectrobt/\n",
    "- Reference 2: https://github.com/polakowo/vectorbt/blob/master/examples/StopSignals.ipynb\n",
    "- Reference 3: http://qubitquants.pro/customsim_2/index.html"
   ]
  },
  {
   "cell_type": "markdown",
   "id": "4156866d-0865-4b3e-9664-9ac5bf8ece50",
   "metadata": {},
   "source": [
    "1. Basic stop loss & take profit by setting % relative to entry price"
   ]
  },
  {
   "cell_type": "code",
   "execution_count": 1,
   "id": "97630c86-00c0-4730-bb73-3dcf5cdaf85d",
   "metadata": {},
   "outputs": [],
   "source": [
    "import vectorbt as vbt\n",
    "import numpy as np\n",
    "import pandas as pd\n",
    "from numba import njit\n",
    "import talib\n",
    "import datetime as dt\n",
    "import time\n",
    "from collections import namedtuple\n",
    "import itertools\n",
    "import math\n",
    "from numba import njit\n"
   ]
  },
  {
   "cell_type": "code",
   "execution_count": 16,
   "id": "1c8bbc64-abb5-4342-9984-90b5f39067cf",
   "metadata": {},
   "outputs": [
    {
     "name": "stderr",
     "output_type": "stream",
     "text": [
      "C:\\Users\\yongsheng.tan\\AppData\\Local\\miniconda3\\envs\\vectorbt\\lib\\site-packages\\vectorbt\\data\\base.py:527: UserWarning: Symbols have mismatching index. Dropping missing data points.\n",
      "  data = cls.align_index(data, missing=missing_index)\n"
     ]
    }
   ],
   "source": [
    "yfdata = vbt.YFData.download(\n",
    "    [\"AAPL\",\"MSFT\"],\n",
    "    missing_index='drop',\n",
    "    interval = '1d'\n",
    ")\n",
    "data = yfdata.concat()\n",
    " \n",
    "fast_ma = vbt.MA.run(data[\"Close\"], 10, short_name='fast MA')\n",
    "slow_ma = vbt.MA.run(data[\"Close\"], 50, short_name='slow MA')\n",
    "\n",
    "long_entries = fast_ma.ma_crossed_above(slow_ma)\n",
    "short_entries = fast_ma.ma_crossed_below(slow_ma)"
   ]
  },
  {
   "cell_type": "code",
   "execution_count": 20,
   "id": "2b9d8769-2bd0-4562-92f7-bfa776e7e8ed",
   "metadata": {},
   "outputs": [],
   "source": [
    "pf = vbt.Portfolio.from_signals(\n",
    "    data[\"Close\"],\n",
    "    entries = long_entries,\n",
    "    short_entries = short_entries,\n",
    "    sl_stop=0.025, # in % relative to entry price\n",
    "    tp_stop=0.05, # in % relative to entry price\n",
    "    freq = \"1D\",\n",
    "    upon_opposite_entry='close',\n",
    "    group_by=False\n",
    ")"
   ]
  },
  {
   "cell_type": "code",
   "execution_count": 24,
   "id": "20dbf13e-9f9f-471e-86dc-5a4041d31c8d",
   "metadata": {},
   "outputs": [
    {
     "data": {
      "text/plain": [
       "MultiIndex([(10, 50, 'AAPL'),\n",
       "            (10, 50, 'MSFT')],\n",
       "           names=['fast MA_window', 'slow MA_window', 'symbol'])"
      ]
     },
     "execution_count": 24,
     "metadata": {},
     "output_type": "execute_result"
    }
   ],
   "source": [
    "pf.wrapper.columns"
   ]
  },
  {
   "cell_type": "code",
   "execution_count": 25,
   "id": "9ce5c53d-3965-452d-8ace-a39a91f35c07",
   "metadata": {},
   "outputs": [
    {
     "data": {
      "text/plain": [
       "Start                         1986-03-13 05:00:00+00:00\n",
       "End                           2023-08-18 04:00:00+00:00\n",
       "Period                               9435 days 00:00:00\n",
       "Start Value                                       100.0\n",
       "End Value                                    487.966121\n",
       "Total Return [%]                             387.966121\n",
       "Benchmark Return [%]                      203712.162946\n",
       "Max Gross Exposure [%]                            100.0\n",
       "Total Fees Paid                                     0.0\n",
       "Max Drawdown [%]                              31.128536\n",
       "Max Drawdown Duration                2219 days 00:00:00\n",
       "Total Trades                                        215\n",
       "Total Closed Trades                                 214\n",
       "Total Open Trades                                     1\n",
       "Open Trade PnL                                 8.736286\n",
       "Win Rate [%]                                  45.794393\n",
       "Best Trade [%]                                16.746468\n",
       "Worst Trade [%]                              -12.430651\n",
       "Avg Winning Trade [%]                          6.480674\n",
       "Avg Losing Trade [%]                          -3.878461\n",
       "Avg Winning Trade Duration    6 days 22:31:50.204081632\n",
       "Avg Losing Trade Duration     5 days 13:58:57.391304347\n",
       "Profit Factor                                  1.317687\n",
       "Expectancy                                     1.723596\n",
       "Sharpe Ratio                                   0.469492\n",
       "Calmar Ratio                                   0.203154\n",
       "Omega Ratio                                    1.203787\n",
       "Sortino Ratio                                  0.702088\n",
       "Name: (10, 50, AAPL), dtype: object"
      ]
     },
     "execution_count": 25,
     "metadata": {},
     "output_type": "execute_result"
    }
   ],
   "source": [
    "pf[(10, 50, 'AAPL')].stats()"
   ]
  },
  {
   "cell_type": "code",
   "execution_count": null,
   "id": "07accf7e-c093-4b85-8d17-19e0f21f2544",
   "metadata": {},
   "outputs": [],
   "source": []
  }
 ],
 "metadata": {
  "kernelspec": {
   "display_name": "Python 3 (ipykernel)",
   "language": "python",
   "name": "python3"
  },
  "language_info": {
   "codemirror_mode": {
    "name": "ipython",
    "version": 3
   },
   "file_extension": ".py",
   "mimetype": "text/x-python",
   "name": "python",
   "nbconvert_exporter": "python",
   "pygments_lexer": "ipython3",
   "version": "3.9.17"
  }
 },
 "nbformat": 4,
 "nbformat_minor": 5
}
