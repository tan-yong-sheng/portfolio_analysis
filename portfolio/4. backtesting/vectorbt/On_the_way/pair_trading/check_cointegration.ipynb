{
 "cells": [
  {
   "cell_type": "code",
   "execution_count": 8,
   "id": "564f7ff5-a747-4412-9333-2f1e7cfe5896",
   "metadata": {},
   "outputs": [],
   "source": [
    "import vectorbt as vbt\n",
    "from statsmodels.tsa.stattools import adfuller\n",
    "import statsmodels.api as sm\n",
    "import warnings\n",
    "warnings.filterwarnings(\"ignore\")"
   ]
  },
  {
   "cell_type": "code",
   "execution_count": 2,
   "id": "b50edd14-4628-4b62-9813-fcb6ba37359b",
   "metadata": {},
   "outputs": [],
   "source": [
    "symbols = [\"KO\",\"PEP\"]"
   ]
  },
  {
   "cell_type": "code",
   "execution_count": 3,
   "id": "97992dd0-3ec2-4b3d-b160-cc9755afbd9f",
   "metadata": {},
   "outputs": [],
   "source": [
    "data = vbt.YFData.download(symbols,\n",
    "                          missing_index=\"drop\",\n",
    "                          start=\"2021-01-01\").concat()"
   ]
  },
  {
   "cell_type": "code",
   "execution_count": 4,
   "id": "6ca3bf44-f768-4840-b454-836f744718dc",
   "metadata": {},
   "outputs": [
    {
     "name": "stdout",
     "output_type": "stream",
     "text": [
      "                                 OLS Regression Results                                \n",
      "=======================================================================================\n",
      "Dep. Variable:                    PEP   R-squared (uncentered):                   0.998\n",
      "Model:                            OLS   Adj. R-squared (uncentered):              0.998\n",
      "Method:                 Least Squares   F-statistic:                          2.969e+05\n",
      "Date:                Mon, 21 Aug 2023   Prob (F-statistic):                        0.00\n",
      "Time:                        00:19:07   Log-Likelihood:                         -2284.6\n",
      "No. Observations:                 662   AIC:                                      4571.\n",
      "Df Residuals:                     661   BIC:                                      4576.\n",
      "Df Model:                           1                                                  \n",
      "Covariance Type:            nonrobust                                                  \n",
      "==============================================================================\n",
      "                 coef    std err          t      P>|t|      [0.025      0.975]\n",
      "------------------------------------------------------------------------------\n",
      "KO             2.8440      0.005    544.891      0.000       2.834       2.854\n",
      "==============================================================================\n",
      "Omnibus:                      187.840   Durbin-Watson:                   0.021\n",
      "Prob(Omnibus):                  0.000   Jarque-Bera (JB):               35.221\n",
      "Skew:                           0.200   Prob(JB):                     2.25e-08\n",
      "Kurtosis:                       1.944   Cond. No.                         1.00\n",
      "==============================================================================\n",
      "\n",
      "Notes:\n",
      "[1] R² is computed without centering (uncentered) since the model does not contain a constant.\n",
      "[2] Standard Errors assume that the covariance matrix of the errors is correctly specified.\n"
     ]
    }
   ],
   "source": [
    "x = data[\"Close\"][symbols[0]]\n",
    "y = data[\"Close\"][symbols[1]]\n",
    "model = sm.OLS(y,x)\n",
    "results = model.fit()\n",
    "print(results.summary())"
   ]
  },
  {
   "cell_type": "code",
   "execution_count": 5,
   "id": "88dbd66b-846e-4982-b2b2-f046c540850d",
   "metadata": {},
   "outputs": [
    {
     "data": {
      "text/plain": [
       "Date\n",
       "2020-12-31 05:00:00+00:00    -6.208817\n",
       "2021-01-04 05:00:00+00:00    -4.484732\n",
       "2021-01-05 05:00:00+00:00    -2.553654\n",
       "2021-01-06 05:00:00+00:00     0.172291\n",
       "2021-01-07 05:00:00+00:00     1.219834\n",
       "                               ...    \n",
       "2023-08-14 04:00:00+00:00    10.475805\n",
       "2023-08-15 04:00:00+00:00     9.371865\n",
       "2023-08-16 04:00:00+00:00     9.203431\n",
       "2023-08-17 04:00:00+00:00     6.073695\n",
       "2023-08-18 04:00:00+00:00     4.836722\n",
       "Length: 662, dtype: float64"
      ]
     },
     "execution_count": 5,
     "metadata": {},
     "output_type": "execute_result"
    }
   ],
   "source": [
    "results.resid"
   ]
  },
  {
   "cell_type": "code",
   "execution_count": 6,
   "id": "6036778d-7c36-4786-b73f-edd93521169d",
   "metadata": {},
   "outputs": [
    {
     "data": {
      "text/plain": [
       "(-1.8562234196678364,\n",
       " 0.352926721850501,\n",
       " 9,\n",
       " 652,\n",
       " {'1%': -3.440419374623044,\n",
       "  '5%': -2.865983079837035,\n",
       "  '10%': -2.5691361169972526},\n",
       " 1928.0235787542574)"
      ]
     },
     "execution_count": 6,
     "metadata": {},
     "output_type": "execute_result"
    }
   ],
   "source": [
    "# Cointegrated augmented dicker fuller test (CADF)\n",
    "## p value = 0.2736, since p value > 0.10, thus cannot reject null hypothesis\n",
    "## there is non stationarity in the data\n",
    "adfuller(results.resid)"
   ]
  },
  {
   "cell_type": "code",
   "execution_count": null,
   "id": "590bf590-7f98-4293-b2d0-6bbacfd046f0",
   "metadata": {},
   "outputs": [],
   "source": []
  }
 ],
 "metadata": {
  "kernelspec": {
   "display_name": "Python 3 (ipykernel)",
   "language": "python",
   "name": "python3"
  },
  "language_info": {
   "codemirror_mode": {
    "name": "ipython",
    "version": 3
   },
   "file_extension": ".py",
   "mimetype": "text/x-python",
   "name": "python",
   "nbconvert_exporter": "python",
   "pygments_lexer": "ipython3",
   "version": "3.9.17"
  }
 },
 "nbformat": 4,
 "nbformat_minor": 5
}
