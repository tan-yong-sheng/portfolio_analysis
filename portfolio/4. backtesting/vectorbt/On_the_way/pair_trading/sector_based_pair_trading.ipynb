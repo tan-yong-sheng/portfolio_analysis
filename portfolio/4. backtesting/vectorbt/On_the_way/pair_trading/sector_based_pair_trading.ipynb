{
 "cells": [
  {
   "cell_type": "code",
   "execution_count": 1,
   "id": "f04be7e0-370b-4c4b-8b43-928b4e70d1bd",
   "metadata": {},
   "outputs": [],
   "source": [
    "# Sector-based pairs trading with Python: https://medium.com/the-financial-journal/sector-based-pairs-trading-with-python-bc55ec29f6ff"
   ]
  },
  {
   "cell_type": "code",
   "execution_count": null,
   "id": "ef043718-93b5-4c2e-9c8d-132f60d4780f",
   "metadata": {},
   "outputs": [],
   "source": []
  }
 ],
 "metadata": {
  "kernelspec": {
   "display_name": "Python 3 (ipykernel)",
   "language": "python",
   "name": "python3"
  },
  "language_info": {
   "codemirror_mode": {
    "name": "ipython",
    "version": 3
   },
   "file_extension": ".py",
   "mimetype": "text/x-python",
   "name": "python",
   "nbconvert_exporter": "python",
   "pygments_lexer": "ipython3",
   "version": "3.9.17"
  }
 },
 "nbformat": 4,
 "nbformat_minor": 5
}
