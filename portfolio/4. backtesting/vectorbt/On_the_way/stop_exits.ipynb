{
 "cells": [
  {
   "cell_type": "markdown",
   "metadata": {},
   "source": [
    "# Stop exits - buy limit order"
   ]
  },
  {
   "cell_type": "markdown",
   "metadata": {},
   "source": [
    "### Part 1 - Dummy test"
   ]
  },
  {
   "cell_type": "markdown",
   "metadata": {},
   "source": [
    "Below is the simple illustration of stop loss with dummy price series datasets, so do its entries and exits signals."
   ]
  },
  {
   "cell_type": "markdown",
   "metadata": {},
   "source": [
    "- Step 1: Create the dummy datasets"
   ]
  },
  {
   "cell_type": "code",
   "execution_count": null,
   "metadata": {},
   "outputs": [],
   "source": [
    "import pandas\n",
    "from datetime import datetime\n",
    "import vectorbt as vbt\n",
    "from vectorbt.signals.enums import StopType\n",
    "\n",
    "# create for entries and exits\n",
    "mask = pandas.DataFrame([   \n",
    "    [True, False, False],\n",
    "    [False, True, False],\n",
    "    [False, False, True],\n",
    "    [True, False, False],\n",
    "    [False, True, False],\n",
    "    [False, False, False]\n",
    "], index=pandas.Index([\n",
    "    datetime(2020, 1, 1),\n",
    "    datetime(2020, 1, 2),\n",
    "    datetime(2020, 1, 3),\n",
    "    datetime(2020, 1, 4),\n",
    "    datetime(2020, 1, 5),\n",
    "    datetime(2020, 1, 6),\n",
    "]), columns=['a', 'b', 'c'])\n",
    "\n",
    "\n",
    "price = pandas.DataFrame({\n",
    "    'open': [10, 11, 12, 11, 10, 10],\n",
    "    'high': [11, 12, 13, 12, 11, 13],\n",
    "    'low': [9, 10, 11, 10, 9, 10],\n",
    "    'close': [10, 11, 12, 11, 10, 11]\n",
    "})\n",
    "out_dict_entries={}\n",
    "out_dict_exits={}"
   ]
  },
  {
   "cell_type": "markdown",
   "metadata": {},
   "source": [
    "- Step 2: Use generate_ohlc_stop_exits to create buy limit"
   ]
  },
  {
   "cell_type": "code",
   "execution_count": null,
   "metadata": {},
   "outputs": [],
   "source": [
    "# buy limit order => buy at next close price if next close price is 4% lower than current close price\n",
    "entries = mask.vbt.signals.generate_ohlc_stop_exits(\n",
    "    price[\"open\"], price[\"high\"], price[\"low\"], price[\"close\"],\n",
    "    sl_stop=0.04, sl_trail=False,\n",
    "    out_dict=out_dict_entries, exit_wait=1)\n",
    "\n",
    "# sell limit order => exit trade at next close price if next close price is 8% higher than current close price\n",
    "exits = mask.vbt.signals.generate_ohlc_stop_exits(\n",
    "    price['open'], price['high'], price['low'], price['close'],\n",
    "    tp_stop=0.08, \n",
    "    out_dict=out_dict_exits, exit_wait=1)\n",
    "\n",
    "entries, exits = entries.vbt.signals.clean(exits) # remove ignored exit signals"
   ]
  },
  {
   "cell_type": "markdown",
   "metadata": {},
   "source": [
    "- Step 3: Check entry & exit points"
   ]
  },
  {
   "cell_type": "code",
   "execution_count": null,
   "metadata": {},
   "outputs": [],
   "source": [
    "entries"
   ]
  },
  {
   "cell_type": "code",
   "execution_count": null,
   "metadata": {},
   "outputs": [],
   "source": [
    "# check buy limit price\n",
    "## Note: When stop loss signals (in arrays of Boolean values, i.e., [True, False, False, True...]) \n",
    "## are introduced at ENTRY POINTS, the mechanism functions as a BUY LIMIT ORDER. \n",
    "## However, implementing these stop loss signals (in Boolean) at exit points will \n",
    "## result in the transformation of the mechanism into a stop loss order.\n",
    "out_dict_entries[\"stop_type\"].vbt(mapping=StopType).apply_mapping() +\\\n",
    "    \" at \" + out_dict_entries[\"stop_price\"].round(2).astype(str)"
   ]
  },
  {
   "cell_type": "markdown",
   "metadata": {},
   "source": [
    "- Step 3: Check the trades records"
   ]
  },
  {
   "cell_type": "code",
   "execution_count": null,
   "metadata": {},
   "outputs": [],
   "source": [
    "pf = vbt.Portfolio.from_signals(price[\"close\"],\n",
    "                                entries,\n",
    "                                exits,\n",
    "                                open=price[\"open\"],\n",
    "                                high=price[\"high\"],\n",
    "                                low=price[\"low\"],\n",
    "                                init_cash=1e4,\n",
    "                                direction=\"longonly\",\n",
    "                                fees=0.01, #in %\n",
    "                                )\n",
    "pf.trades.records_readable"
   ]
  },
  {
   "cell_type": "code",
   "execution_count": null,
   "metadata": {},
   "outputs": [],
   "source": [
    "pf.orders.records_readable"
   ]
  },
  {
   "cell_type": "code",
   "execution_count": null,
   "metadata": {},
   "outputs": [],
   "source": [
    "pf[\"a\"].stats()"
   ]
  },
  {
   "cell_type": "markdown",
   "metadata": {},
   "source": [
    "## Real case"
   ]
  },
  {
   "cell_type": "code",
   "execution_count": null,
   "metadata": {},
   "outputs": [],
   "source": [
    "import numpy\n",
    "import vectorbt as vbt\n",
    "\n",
    "ohlcv = vbt.YFData.download(\n",
    "    \"BTC-USD\",\n",
    "    start='2017-01-01 UTC',\n",
    "    end='2020-01-01 UTC'\n",
    ").concat()\n",
    "\n",
    "# Random enter signal generator based on the number of signals.\n",
    "rand = vbt.RAND.run(ohlcv[\"Close\"].shape, n=10, seed=42)\n",
    "# Random exit signal generator based on the number of signals.\n",
    "randx = vbt.RANDX.run(rand.entries, seed=42)\n",
    "\n",
    "stops = [0.1,]\n",
    "sl_exits = vbt.OHLCSTX.run(\n",
    "    rand.entries, \n",
    "    ohlcv['Open'], \n",
    "    ohlcv['High'], \n",
    "    ohlcv['Low'], \n",
    "    ohlcv['Close'], \n",
    "    sl_stop=list(stops),\n",
    "    stop_type=None, \n",
    "    stop_price=None\n",
    ").exits\n",
    "exits = randx.exits.vbt | sl_exits\n",
    "\n",
    "pf1 = vbt.Portfolio.from_signals(ohlcv['Close'], rand.entries, exits)  # with SL\n",
    "pf1.stats()"
   ]
  },
  {
   "cell_type": "code",
   "execution_count": null,
   "metadata": {},
   "outputs": [],
   "source": [
    "import vectorbt as vbt\n",
    "\n",
    "ohlcv = vbt.YFData.download(\n",
    "    \"BTC-USD\",\n",
    "    start='2017-01-01 UTC',\n",
    "    end='2020-01-01 UTC'\n",
    ").concat()\n",
    "\n",
    "# Random enter signal generator based on the number of signals.\n",
    "rand = vbt.RAND.run(ohlcv[\"Close\"].shape, n=10, seed=42)\n",
    "# Random exit signal generator based on the number of signals.\n",
    "randx = vbt.RANDX.run(rand.entries, seed=42)\n",
    "\n",
    "stop_exits = rand.entries.vbt.signals.generate_stop_exits(\n",
    "    ohlcv['Close'], \n",
    "    stop=0.1, \n",
    "    trailing=False,\n",
    ")\n",
    "exits = randx.exits.vbt | stop_exits\n",
    "entries, exits = rand.entries.vbt.signals.clean(exits)\n",
    "\n",
    "pf4 = vbt.Portfolio.from_signals(ohlcv['Close'], entries, exits,\n",
    "                                 open=ohlcv[\"Open\"],high=ohlcv[\"High\"],\n",
    "                                 low=ohlcv[\"Low\"])\n",
    "pf4.stats()"
   ]
  },
  {
   "cell_type": "code",
   "execution_count": null,
   "metadata": {},
   "outputs": [],
   "source": [
    "import vectorbt as vbt\n",
    "\n",
    "ohlcv = vbt.YFData.download(\n",
    "    \"BTC-USD\",\n",
    "    start='2017-01-01 UTC',\n",
    "    end='2020-01-01 UTC'\n",
    ").concat()\n",
    "\n",
    "# Random enter signal generator based on the number of signals.\n",
    "rand = vbt.RAND.run(ohlcv[\"Close\"].shape, n=10, seed=42)\n",
    "# Random exit signal generator based on the number of signals.\n",
    "randx = vbt.RANDX.run(rand.entries, seed=42)\n",
    "\n",
    "stop_exits = rand.entries.vbt.signals.generate_ohlc_stop_exits(\n",
    "    open=ohlcv[\"Open\"], \n",
    "    high=ohlcv['High'],\n",
    "    low=ohlcv['Low'], \n",
    "    close=ohlcv['Close'], \n",
    "    sl_stop=0.1,\n",
    "    sl_trail=False,\n",
    ")\n",
    "exits = randx.exits.vbt | stop_exits # optional: combine exit signals such that the first exit of two conditions wins\n",
    "entries, exits = rand.entries.vbt.signals.clean(exits) # optional: automatically remove ignored exit signals\n",
    "\n",
    "pf2 = vbt.Portfolio.from_signals(ohlcv['Close'], entries, exits,\n",
    "                                 open=ohlcv[\"Open\"],high=ohlcv[\"High\"],\n",
    "                                 low=ohlcv[\"Low\"])\n",
    "pf2.stats()"
   ]
  },
  {
   "cell_type": "code",
   "execution_count": null,
   "metadata": {},
   "outputs": [],
   "source": [
    "pf2.orders.records_readable"
   ]
  },
  {
   "cell_type": "code",
   "execution_count": 3,
   "metadata": {},
   "outputs": [
    {
     "data": {
      "text/plain": [
       "Start                         2017-01-01 00:00:00+00:00\n",
       "End                           2019-12-31 00:00:00+00:00\n",
       "Period                               1095 days 00:00:00\n",
       "Start Value                                       100.0\n",
       "End Value                                    459.051539\n",
       "Total Return [%]                             359.051539\n",
       "Benchmark Return [%]                         620.566853\n",
       "Max Gross Exposure [%]                            100.0\n",
       "Total Fees Paid                                     0.0\n",
       "Max Drawdown [%]                              50.865378\n",
       "Max Drawdown Duration                 510 days 00:00:00\n",
       "Total Trades                                         10\n",
       "Total Closed Trades                                  10\n",
       "Total Open Trades                                     0\n",
       "Open Trade PnL                                      0.0\n",
       "Win Rate [%]                                       60.0\n",
       "Best Trade [%]                                93.069372\n",
       "Worst Trade [%]                              -16.794292\n",
       "Avg Winning Trade [%]                         41.307384\n",
       "Avg Losing Trade [%]                           -9.82517\n",
       "Avg Winning Trade Duration             49 days 16:00:00\n",
       "Avg Losing Trade Duration              12 days 18:00:00\n",
       "Profit Factor                                  2.817181\n",
       "Expectancy                                    35.905154\n",
       "Sharpe Ratio                                   1.279492\n",
       "Calmar Ratio                                   1.301395\n",
       "Omega Ratio                                    1.444706\n",
       "Sortino Ratio                                  2.123835\n",
       "dtype: object"
      ]
     },
     "execution_count": 3,
     "metadata": {},
     "output_type": "execute_result"
    }
   ],
   "source": [
    "import numpy\n",
    "import vectorbt as vbt\n",
    "\n",
    "ohlcv = vbt.YFData.download(\n",
    "    \"BTC-USD\",\n",
    "    start='2017-01-01 UTC',\n",
    "    end='2020-01-01 UTC'\n",
    ").concat()\n",
    "\n",
    "# Random enter signal generator based on the number of signals.\n",
    "rand = vbt.RAND.run(ohlcv[\"Close\"].shape, n=10, seed=42)\n",
    "# Random exit signal generator based on the number of signals.\n",
    "randx = vbt.RANDX.run(rand.entries, seed=42)\n",
    "\n",
    "stops = [0.1,]\n",
    "sl_exits = vbt.OHLCSTX.run(\n",
    "    rand.entries, \n",
    "    ohlcv['Open'], \n",
    "    ohlcv['High'], \n",
    "    ohlcv['Low'], \n",
    "    ohlcv['Close'], \n",
    "    sl_stop=list(stops),\n",
    "    stop_type=None, \n",
    "    stop_price=None\n",
    ").exits\n",
    "exits = randx.exits.vbt | sl_exits\n",
    "\n",
    "pf3 = vbt.Portfolio.from_signals(ohlcv['Close'], rand.entries, exits)  # with SL\n",
    "pf3.stats()"
   ]
  },
  {
   "cell_type": "code",
   "execution_count": null,
   "metadata": {},
   "outputs": [],
   "source": [
    "# Reference: stop exits with RANDENEX indicator: https://github.com/polakowo/vectorbt/issues/181\n",
    "import vectorbt as vbt\n",
    "\n",
    "ohlcv = vbt.YFData.download(\n",
    "    \"BTC-USD\",\n",
    "    start='2017-01-01 UTC',\n",
    "    end='2020-01-01 UTC'\n",
    ").concat()\n",
    "# Random enter signal generator based on the number of signals.\n",
    "rand = vbt.RAND.run(ohlcv[\"Close\"].shape, n=10, seed=42)\n",
    "# Random exit signal generator based on the number of signals.\n",
    "randx = vbt.RANDX.run(rand.entries, seed=42)\n",
    "pf3 = vbt.Portfolio.from_signals(ohlcv[\"Close\"], \n",
    "                                rand.entries, \n",
    "                                randx.exits,\n",
    "                                open=ohlcv[\"Open\"],\n",
    "                                high=ohlcv[\"High\"],\n",
    "                                low=ohlcv[\"Low\"],\n",
    "                                sl_stop=0.1,\n",
    "                                sl_trail=False,\n",
    "                                )\n",
    "pf3.stats()"
   ]
  },
  {
   "cell_type": "code",
   "execution_count": null,
   "metadata": {},
   "outputs": [],
   "source": [
    "pf3.orders.records_readable"
   ]
  }
 ],
 "metadata": {
  "kernelspec": {
   "display_name": "vectorbt",
   "language": "python",
   "name": "python3"
  },
  "language_info": {
   "codemirror_mode": {
    "name": "ipython",
    "version": 3
   },
   "file_extension": ".py",
   "mimetype": "text/x-python",
   "name": "python",
   "nbconvert_exporter": "python",
   "pygments_lexer": "ipython3",
   "version": "3.9.17"
  },
  "orig_nbformat": 4
 },
 "nbformat": 4,
 "nbformat_minor": 2
}
