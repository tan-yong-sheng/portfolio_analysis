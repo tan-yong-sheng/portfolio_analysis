{
 "cells": [
  {
   "cell_type": "markdown",
   "id": "65b48246-3ed1-4dbb-806c-d28e8d9dd739",
   "metadata": {},
   "source": [
    "# 4 different ways to Combine two (or more) strategies to backtest on multiple assets "
   ]
  },
  {
   "cell_type": "markdown",
   "id": "c8ef41a4-6d49-418f-a98d-9b9de63b25ca",
   "metadata": {},
   "source": [
    "Reference 0: https://github.com/polakowo/vectorbt/blob/master/tests/notebooks/indicators.ipynb\n",
    "\n",
    "Reference 1: strategy combination: https://github.com/sergio12S/youtoube/blob/master/vectorbt/combination_parameters.ipynb\n",
    "\n",
    "Reference 2 - create a custom indicator: https://greyhoundanalytics.com/blog/create-a-custom-indicator-in-vectorbt/"
   ]
  },
  {
   "cell_type": "markdown",
   "id": "b297479e",
   "metadata": {},
   "source": [
    "**Description:**\n",
    "\n",
    "- Assets: Bitcoin, Etheruem\n",
    "- Strategy used: Dual moving average crossover (DMAC) + Relative Strength Index (RSI)\n",
    "- Entry: SMA 180's value above SMA 240 & RSI < 80\n",
    "- Exit: SMA 180's value below SMA 240 & RSI > 20\n",
    "- Direction = Long Only"
   ]
  },
  {
   "cell_type": "markdown",
   "id": "0749ea9c",
   "metadata": {},
   "source": [
    "### Get the data"
   ]
  },
  {
   "cell_type": "code",
   "execution_count": 1,
   "id": "3f53cdfd-8a5d-40b6-aefb-7fbb95838fcb",
   "metadata": {},
   "outputs": [],
   "source": [
    "import pandas as pd\n",
    "import numpy\n",
    "import vectorbt as vbt\n",
    "from numba import njit"
   ]
  },
  {
   "cell_type": "code",
   "execution_count": 2,
   "id": "119245e8-6128-4d69-8471-165f6c64a9ee",
   "metadata": {},
   "outputs": [],
   "source": [
    "symbols = [\"BTC-USD\",\"ETH-USD\"]\n",
    "fast_window, slow_window, rsi_window, top, bottom = (180,240, 14, 80,20)\n",
    "fees = 0.001\n",
    "interval = \"1D\"\n",
    "start = \"2020-01-01\""
   ]
  },
  {
   "cell_type": "code",
   "execution_count": 3,
   "id": "7ee9d9a9-0eed-4e4e-b7bf-273ef41001e6",
   "metadata": {},
   "outputs": [
    {
     "data": {
      "text/html": [
       "<div>\n",
       "<style scoped>\n",
       "    .dataframe tbody tr th:only-of-type {\n",
       "        vertical-align: middle;\n",
       "    }\n",
       "\n",
       "    .dataframe tbody tr th {\n",
       "        vertical-align: top;\n",
       "    }\n",
       "\n",
       "    .dataframe thead th {\n",
       "        text-align: right;\n",
       "    }\n",
       "</style>\n",
       "<table border=\"1\" class=\"dataframe\">\n",
       "  <thead>\n",
       "    <tr style=\"text-align: right;\">\n",
       "      <th>symbol</th>\n",
       "      <th>BTC-USD</th>\n",
       "      <th>ETH-USD</th>\n",
       "    </tr>\n",
       "    <tr>\n",
       "      <th>Date</th>\n",
       "      <th></th>\n",
       "      <th></th>\n",
       "    </tr>\n",
       "  </thead>\n",
       "  <tbody>\n",
       "    <tr>\n",
       "      <th>2019-12-31 00:00:00+00:00</th>\n",
       "      <td>7193.599121</td>\n",
       "      <td>129.610855</td>\n",
       "    </tr>\n",
       "    <tr>\n",
       "      <th>2020-01-01 00:00:00+00:00</th>\n",
       "      <td>7200.174316</td>\n",
       "      <td>130.802002</td>\n",
       "    </tr>\n",
       "    <tr>\n",
       "      <th>2020-01-02 00:00:00+00:00</th>\n",
       "      <td>6985.470215</td>\n",
       "      <td>127.410179</td>\n",
       "    </tr>\n",
       "    <tr>\n",
       "      <th>2020-01-03 00:00:00+00:00</th>\n",
       "      <td>7344.884277</td>\n",
       "      <td>134.171707</td>\n",
       "    </tr>\n",
       "    <tr>\n",
       "      <th>2020-01-04 00:00:00+00:00</th>\n",
       "      <td>7410.656738</td>\n",
       "      <td>135.069366</td>\n",
       "    </tr>\n",
       "    <tr>\n",
       "      <th>...</th>\n",
       "      <td>...</td>\n",
       "      <td>...</td>\n",
       "    </tr>\n",
       "    <tr>\n",
       "      <th>2023-08-22 00:00:00+00:00</th>\n",
       "      <td>26031.656250</td>\n",
       "      <td>1633.892578</td>\n",
       "    </tr>\n",
       "    <tr>\n",
       "      <th>2023-08-23 00:00:00+00:00</th>\n",
       "      <td>26431.640625</td>\n",
       "      <td>1679.274414</td>\n",
       "    </tr>\n",
       "    <tr>\n",
       "      <th>2023-08-24 00:00:00+00:00</th>\n",
       "      <td>26162.373047</td>\n",
       "      <td>1659.944580</td>\n",
       "    </tr>\n",
       "    <tr>\n",
       "      <th>2023-08-25 00:00:00+00:00</th>\n",
       "      <td>26047.667969</td>\n",
       "      <td>1652.935059</td>\n",
       "    </tr>\n",
       "    <tr>\n",
       "      <th>2023-08-26 00:00:00+00:00</th>\n",
       "      <td>26047.951172</td>\n",
       "      <td>1652.117554</td>\n",
       "    </tr>\n",
       "  </tbody>\n",
       "</table>\n",
       "<p>1335 rows × 2 columns</p>\n",
       "</div>"
      ],
      "text/plain": [
       "symbol                          BTC-USD      ETH-USD\n",
       "Date                                                \n",
       "2019-12-31 00:00:00+00:00   7193.599121   129.610855\n",
       "2020-01-01 00:00:00+00:00   7200.174316   130.802002\n",
       "2020-01-02 00:00:00+00:00   6985.470215   127.410179\n",
       "2020-01-03 00:00:00+00:00   7344.884277   134.171707\n",
       "2020-01-04 00:00:00+00:00   7410.656738   135.069366\n",
       "...                                 ...          ...\n",
       "2023-08-22 00:00:00+00:00  26031.656250  1633.892578\n",
       "2023-08-23 00:00:00+00:00  26431.640625  1679.274414\n",
       "2023-08-24 00:00:00+00:00  26162.373047  1659.944580\n",
       "2023-08-25 00:00:00+00:00  26047.667969  1652.935059\n",
       "2023-08-26 00:00:00+00:00  26047.951172  1652.117554\n",
       "\n",
       "[1335 rows x 2 columns]"
      ]
     },
     "execution_count": 3,
     "metadata": {},
     "output_type": "execute_result"
    }
   ],
   "source": [
    "data = vbt.YFData.download(symbols,\n",
    "                           start=start, \n",
    "                           interval=interval).concat()\n",
    "data[\"Close\"]"
   ]
  },
  {
   "cell_type": "markdown",
   "id": "848987c8-daf1-42a1-be73-17a982ec401c",
   "metadata": {},
   "source": [
    "### Approach 1: using \"&\" operator"
   ]
  },
  {
   "cell_type": "markdown",
   "id": "623a9c6e-e755-4543-b2a0-7fd284b3aefd",
   "metadata": {},
   "source": [
    "(Note: my preferred method)"
   ]
  },
  {
   "cell_type": "code",
   "execution_count": 4,
   "id": "285d7c2f-48ae-49c6-a637-b28807e66348",
   "metadata": {},
   "outputs": [
    {
     "data": {
      "text/plain": [
       "fast_window  slow_window  RSI_window  symbol \n",
       "180          240          14          BTC-USD    2.243247\n",
       "                                      ETH-USD    5.198917\n",
       "Name: total_return, dtype: float64"
      ]
     },
     "execution_count": 4,
     "metadata": {},
     "output_type": "execute_result"
    }
   ],
   "source": [
    "rsi = vbt.RSI.run(data[\"Close\"], window=rsi_window, short_name =\"RSI\")\n",
    "fast = vbt.MA.run(data[\"Close\"], window=fast_window, short_name=\"fast\")\n",
    "slow = vbt.MA.run(data[\"Close\"], window=slow_window, short_name=\"slow\")\n",
    "\n",
    "entries = fast.ma_above(slow).vbt & rsi.rsi_below(top).vbt\n",
    "exits = fast.ma_below(slow).vbt & rsi.rsi_above(bottom).vbt\n",
    "\n",
    "pf = vbt.Portfolio.from_signals(data[\"Close\"], entries, exits, fees=fees, freq=interval)\n",
    "pf.total_return()"
   ]
  },
  {
   "cell_type": "markdown",
   "id": "a40173ff-8329-4c54-8874-1d46f6b7ce23",
   "metadata": {},
   "source": [
    "### Approach 2: Combine indicators using to_numpy()"
   ]
  },
  {
   "cell_type": "markdown",
   "id": "00bc5318-6f95-4aee-958e-d96b77396bb8",
   "metadata": {},
   "source": [
    "- (a) built-in vbt indicator + numpy "
   ]
  },
  {
   "cell_type": "code",
   "execution_count": 5,
   "id": "9294121e-8a74-4fd4-978d-781558ddcba3",
   "metadata": {},
   "outputs": [
    {
     "data": {
      "text/plain": [
       "symbol\n",
       "BTC-USD    2.243247\n",
       "ETH-USD    5.198917\n",
       "Name: total_return, dtype: float64"
      ]
     },
     "execution_count": 5,
     "metadata": {},
     "output_type": "execute_result"
    }
   ],
   "source": [
    "def get_signals(close, fast_window, slow_window, rsi_window, top, bottom):\n",
    "    rsi = vbt.RSI.run(close, window=rsi_window, short_name = \"RSI\").rsi.to_numpy()\n",
    "    fast = vbt.MA.run(close, window=fast_window, short_name=\"fast\").ma.to_numpy()\n",
    "    slow = vbt.MA.run(close, window=slow_window, short_name=\"slow\").ma.to_numpy()\n",
    "    entries = (fast > slow) & (rsi < top)\n",
    "    exits = (fast < slow) & (rsi > bottom)\n",
    "    return entries, exits\n",
    "\n",
    "entries, exits = get_signals(data[\"Close\"], fast_window, slow_window, \n",
    "                             rsi_window, top, bottom)\n",
    "pf = vbt.Portfolio.from_signals(data[\"Close\"], entries, exits, \n",
    "                                fees=fees, freq=interval)\n",
    "pf.total_return()"
   ]
  },
  {
   "cell_type": "markdown",
   "id": "7ea21558-0b19-4026-8ac9-a0d052bb6179",
   "metadata": {},
   "source": [
    "- (b) talib indicator + numpy\n",
    "\n",
    "(Note: got accuracy problem for talib?)"
   ]
  },
  {
   "cell_type": "code",
   "execution_count": 6,
   "id": "662480f6-0bf4-48a0-b427-1d6affb8d3d5",
   "metadata": {},
   "outputs": [
    {
     "data": {
      "text/plain": [
       "symbol\n",
       "BTC-USD    2.243247\n",
       "ETH-USD    5.367018\n",
       "Name: total_return, dtype: float64"
      ]
     },
     "execution_count": 6,
     "metadata": {},
     "output_type": "execute_result"
    }
   ],
   "source": [
    "# I try to replicate the above result with talib package but I get inconsistent result for ETH-USD\n",
    "# (e.g., ETH-USD should be -0.262052 but in this example, I get -0.242040 instead)\n",
    "## Possible Reason: talib RSI seems calculated in a very different way compared to others: https://github.com/TA-Lib/ta-lib-python/issues/448\n",
    "\n",
    "def get_signals(close, fast_window, slow_window, rsi_window, top, bottom):\n",
    "    rsi = vbt.talib(\"RSI\").run(close, timeperiod=rsi_window, short_name = \"RSI\").real.to_numpy() # talib got problem calculating RSI?\n",
    "    fast = vbt.talib(\"MA\").run(close, timeperiod=fast_window, short_name=\"fast\").real.to_numpy()\n",
    "    slow = vbt.talib(\"MA\").run(close, timeperiod=slow_window, short_name=\"slow\").real.to_numpy()\n",
    "    entries = (fast > slow) & (rsi < top)\n",
    "    exits = (fast < slow) & (rsi > bottom)\n",
    "    return entries, exits\n",
    "\n",
    "entries, exits = get_signals(data[\"Close\"], fast_window, slow_window, \n",
    "                             rsi_window, top, bottom)\n",
    "pf = vbt.Portfolio.from_signals(data[\"Close\"], \n",
    "                                entries, exits, \n",
    "                                fees=fees, freq=interval)\n",
    "pf.total_return()"
   ]
  },
  {
   "cell_type": "markdown",
   "id": "dc1b02eb-973e-4625-b02c-bd69fd2eb81f",
   "metadata": {},
   "source": [
    "### Approach 4: Combine indicators using vbt.IndicatorFactory"
   ]
  },
  {
   "cell_type": "markdown",
   "id": "0d0c7bb7",
   "metadata": {},
   "source": [
    "- Reference 1: https://vectorbt.dev/api/indicators/factory/#inputs\n",
    "- Reference 2: https://greyhoundanalytics.com/blog/create-a-custom-indicator-in-vectorbt/\n",
    "- Reference 3: https://www.youtube.com/watch?v=57hsQz70vVE&t=209s & https://github.com/mikolaje/TradingTutorial/blob/main/Vector"
   ]
  },
  {
   "cell_type": "code",
   "execution_count": 7,
   "id": "b6409568",
   "metadata": {},
   "outputs": [
    {
     "data": {
      "text/html": [
       "<div>\n",
       "<style scoped>\n",
       "    .dataframe tbody tr th:only-of-type {\n",
       "        vertical-align: middle;\n",
       "    }\n",
       "\n",
       "    .dataframe tbody tr th {\n",
       "        vertical-align: top;\n",
       "    }\n",
       "\n",
       "    .dataframe thead tr th {\n",
       "        text-align: left;\n",
       "    }\n",
       "\n",
       "    .dataframe thead tr:last-of-type th {\n",
       "        text-align: right;\n",
       "    }\n",
       "</style>\n",
       "<table border=\"1\" class=\"dataframe\">\n",
       "  <thead>\n",
       "    <tr>\n",
       "      <th>custom_1_window</th>\n",
       "      <th colspan=\"2\" halign=\"left\">180</th>\n",
       "    </tr>\n",
       "    <tr>\n",
       "      <th>symbol</th>\n",
       "      <th>BTC-USD</th>\n",
       "      <th>ETH-USD</th>\n",
       "    </tr>\n",
       "    <tr>\n",
       "      <th>Date</th>\n",
       "      <th></th>\n",
       "      <th></th>\n",
       "    </tr>\n",
       "  </thead>\n",
       "  <tbody>\n",
       "    <tr>\n",
       "      <th>2019-12-31 00:00:00+00:00</th>\n",
       "      <td>NaN</td>\n",
       "      <td>NaN</td>\n",
       "    </tr>\n",
       "    <tr>\n",
       "      <th>2020-01-01 00:00:00+00:00</th>\n",
       "      <td>NaN</td>\n",
       "      <td>NaN</td>\n",
       "    </tr>\n",
       "    <tr>\n",
       "      <th>2020-01-02 00:00:00+00:00</th>\n",
       "      <td>NaN</td>\n",
       "      <td>NaN</td>\n",
       "    </tr>\n",
       "    <tr>\n",
       "      <th>2020-01-03 00:00:00+00:00</th>\n",
       "      <td>NaN</td>\n",
       "      <td>NaN</td>\n",
       "    </tr>\n",
       "    <tr>\n",
       "      <th>2020-01-04 00:00:00+00:00</th>\n",
       "      <td>NaN</td>\n",
       "      <td>NaN</td>\n",
       "    </tr>\n",
       "    <tr>\n",
       "      <th>...</th>\n",
       "      <td>...</td>\n",
       "      <td>...</td>\n",
       "    </tr>\n",
       "    <tr>\n",
       "      <th>2023-08-22 00:00:00+00:00</th>\n",
       "      <td>27798.592253</td>\n",
       "      <td>1819.084241</td>\n",
       "    </tr>\n",
       "    <tr>\n",
       "      <th>2023-08-23 00:00:00+00:00</th>\n",
       "      <td>27816.556217</td>\n",
       "      <td>1819.478137</td>\n",
       "    </tr>\n",
       "    <tr>\n",
       "      <th>2023-08-24 00:00:00+00:00</th>\n",
       "      <td>27833.150651</td>\n",
       "      <td>1819.839412</td>\n",
       "    </tr>\n",
       "    <tr>\n",
       "      <th>2023-08-25 00:00:00+00:00</th>\n",
       "      <td>27846.964290</td>\n",
       "      <td>1819.906734</td>\n",
       "    </tr>\n",
       "    <tr>\n",
       "      <th>2023-08-26 00:00:00+00:00</th>\n",
       "      <td>27860.992513</td>\n",
       "      <td>1820.005574</td>\n",
       "    </tr>\n",
       "  </tbody>\n",
       "</table>\n",
       "<p>1335 rows × 2 columns</p>\n",
       "</div>"
      ],
      "text/plain": [
       "custom_1_window                     180             \n",
       "symbol                          BTC-USD      ETH-USD\n",
       "Date                                                \n",
       "2019-12-31 00:00:00+00:00           NaN          NaN\n",
       "2020-01-01 00:00:00+00:00           NaN          NaN\n",
       "2020-01-02 00:00:00+00:00           NaN          NaN\n",
       "2020-01-03 00:00:00+00:00           NaN          NaN\n",
       "2020-01-04 00:00:00+00:00           NaN          NaN\n",
       "...                                 ...          ...\n",
       "2023-08-22 00:00:00+00:00  27798.592253  1819.084241\n",
       "2023-08-23 00:00:00+00:00  27816.556217  1819.478137\n",
       "2023-08-24 00:00:00+00:00  27833.150651  1819.839412\n",
       "2023-08-25 00:00:00+00:00  27846.964290  1819.906734\n",
       "2023-08-26 00:00:00+00:00  27860.992513  1820.005574\n",
       "\n",
       "[1335 rows x 2 columns]"
      ]
     },
     "execution_count": 7,
     "metadata": {},
     "output_type": "execute_result"
    }
   ],
   "source": [
    "## create simple moving average strategy\n",
    "@njit\n",
    "def ma_indicator(close, window):\n",
    "    output = numpy.full(close.shape, numpy.nan, dtype=numpy.float_)\n",
    "    for col in range(close.shape[1]):\n",
    "        for i in range(window-1, close.shape[0]):\n",
    "            mavg = numpy.mean(close[i-window+1:i+1, col])\n",
    "            output[i, col] = mavg\n",
    "    return output\n",
    "\n",
    "SMA_factory = vbt.IndicatorFactory(\n",
    "    input_names=['close'],\n",
    "    param_names=['window'],\n",
    "    output_names=['output']\n",
    ").from_apply_func(ma_indicator)\n",
    "\n",
    "FAST_SMA, SLOW_SMA =  SMA_factory.run_combs(\n",
    "    data[\"Close\"],\n",
    "    window=[fast_window, slow_window],\n",
    ")\n",
    "FAST_SMA.output"
   ]
  },
  {
   "cell_type": "code",
   "execution_count": 13,
   "id": "d73fd5a1",
   "metadata": {},
   "outputs": [
    {
     "data": {
      "text/html": [
       "<div>\n",
       "<style scoped>\n",
       "    .dataframe tbody tr th:only-of-type {\n",
       "        vertical-align: middle;\n",
       "    }\n",
       "\n",
       "    .dataframe tbody tr th {\n",
       "        vertical-align: top;\n",
       "    }\n",
       "\n",
       "    .dataframe thead tr th {\n",
       "        text-align: left;\n",
       "    }\n",
       "\n",
       "    .dataframe thead tr:last-of-type th {\n",
       "        text-align: right;\n",
       "    }\n",
       "</style>\n",
       "<table border=\"1\" class=\"dataframe\">\n",
       "  <thead>\n",
       "    <tr>\n",
       "      <th>custom_window</th>\n",
       "      <th colspan=\"2\" halign=\"left\">14</th>\n",
       "    </tr>\n",
       "    <tr>\n",
       "      <th>symbol</th>\n",
       "      <th>BTC-USD</th>\n",
       "      <th>ETH-USD</th>\n",
       "    </tr>\n",
       "    <tr>\n",
       "      <th>Date</th>\n",
       "      <th></th>\n",
       "      <th></th>\n",
       "    </tr>\n",
       "  </thead>\n",
       "  <tbody>\n",
       "    <tr>\n",
       "      <th>2019-12-31 00:00:00+00:00</th>\n",
       "      <td>NaN</td>\n",
       "      <td>NaN</td>\n",
       "    </tr>\n",
       "    <tr>\n",
       "      <th>2020-01-01 00:00:00+00:00</th>\n",
       "      <td>NaN</td>\n",
       "      <td>NaN</td>\n",
       "    </tr>\n",
       "    <tr>\n",
       "      <th>2020-01-02 00:00:00+00:00</th>\n",
       "      <td>NaN</td>\n",
       "      <td>NaN</td>\n",
       "    </tr>\n",
       "    <tr>\n",
       "      <th>2020-01-03 00:00:00+00:00</th>\n",
       "      <td>NaN</td>\n",
       "      <td>NaN</td>\n",
       "    </tr>\n",
       "    <tr>\n",
       "      <th>2020-01-04 00:00:00+00:00</th>\n",
       "      <td>NaN</td>\n",
       "      <td>NaN</td>\n",
       "    </tr>\n",
       "    <tr>\n",
       "      <th>...</th>\n",
       "      <td>...</td>\n",
       "      <td>...</td>\n",
       "    </tr>\n",
       "    <tr>\n",
       "      <th>2023-08-22 00:00:00+00:00</th>\n",
       "      <td>6.597931</td>\n",
       "      <td>10.802279</td>\n",
       "    </tr>\n",
       "    <tr>\n",
       "      <th>2023-08-23 00:00:00+00:00</th>\n",
       "      <td>15.204020</td>\n",
       "      <td>23.233388</td>\n",
       "    </tr>\n",
       "    <tr>\n",
       "      <th>2023-08-24 00:00:00+00:00</th>\n",
       "      <td>14.753407</td>\n",
       "      <td>22.163288</td>\n",
       "    </tr>\n",
       "    <tr>\n",
       "      <th>2023-08-25 00:00:00+00:00</th>\n",
       "      <td>14.494379</td>\n",
       "      <td>21.946816</td>\n",
       "    </tr>\n",
       "    <tr>\n",
       "      <th>2023-08-26 00:00:00+00:00</th>\n",
       "      <td>14.167491</td>\n",
       "      <td>21.495593</td>\n",
       "    </tr>\n",
       "  </tbody>\n",
       "</table>\n",
       "<p>1335 rows × 2 columns</p>\n",
       "</div>"
      ],
      "text/plain": [
       "custom_window                     14           \n",
       "symbol                       BTC-USD    ETH-USD\n",
       "Date                                           \n",
       "2019-12-31 00:00:00+00:00        NaN        NaN\n",
       "2020-01-01 00:00:00+00:00        NaN        NaN\n",
       "2020-01-02 00:00:00+00:00        NaN        NaN\n",
       "2020-01-03 00:00:00+00:00        NaN        NaN\n",
       "2020-01-04 00:00:00+00:00        NaN        NaN\n",
       "...                              ...        ...\n",
       "2023-08-22 00:00:00+00:00   6.597931  10.802279\n",
       "2023-08-23 00:00:00+00:00  15.204020  23.233388\n",
       "2023-08-24 00:00:00+00:00  14.753407  22.163288\n",
       "2023-08-25 00:00:00+00:00  14.494379  21.946816\n",
       "2023-08-26 00:00:00+00:00  14.167491  21.495593\n",
       "\n",
       "[1335 rows x 2 columns]"
      ]
     },
     "execution_count": 13,
     "metadata": {},
     "output_type": "execute_result"
    }
   ],
   "source": [
    "# create rsi indicator\n",
    "@njit\n",
    "def rsi_indicator(close, window):\n",
    "    # rsi strategy\n",
    "    delta = close[1:] - close[:-1] # calculate price change over time\n",
    "    gain = numpy.where(delta>0, delta, 0) \n",
    "    loss = -numpy.where(delta<0, delta, 0)\n",
    "    avg_gain_ = numpy.full(close.shape, numpy.nan, dtype=numpy.float_)\n",
    "    avg_loss_ = numpy.full(close.shape, numpy.nan, dtype=numpy.float_)\n",
    "    for col in range(close.shape[1]):\n",
    "        for i in range(window+1, close.shape[0]):\n",
    "            avg_gain = numpy.mean(gain[i-window:i, col])\n",
    "            avg_loss = numpy.mean(loss[i-window:i, col])\n",
    "            avg_gain_[i, col] = avg_gain\n",
    "            avg_loss_[i, col] = avg_loss\n",
    "    rs = numpy.divide(avg_gain_,avg_loss_)\n",
    "    output = 100 - (100/(1+rs)) # rsi\n",
    "    return output\n",
    "\n",
    "RSI_factory = vbt.IndicatorFactory(\n",
    "    input_names=['close'],\n",
    "    param_names=['window'],\n",
    "    output_names=['output']\n",
    ").from_apply_func(rsi_indicator)\n",
    "\n",
    "RSI =  RSI_factory.run(\n",
    "    data[\"Close\"],\n",
    "    window=rsi_window,\n",
    ")\n",
    "RSI.output"
   ]
  },
  {
   "cell_type": "code",
   "execution_count": 9,
   "id": "c543c7a6",
   "metadata": {},
   "outputs": [
    {
     "data": {
      "text/plain": [
       "custom_1_window  custom_2_window  custom_window  symbol \n",
       "180              240              14             BTC-USD    2.243247\n",
       "                                                 ETH-USD    5.198917\n",
       "Name: total_return, dtype: float64"
      ]
     },
     "execution_count": 9,
     "metadata": {},
     "output_type": "execute_result"
    }
   ],
   "source": [
    "entries = (FAST_SMA.output_above(SLOW_SMA).vbt & RSI.output_below(top).vbt)\n",
    "exits = (FAST_SMA.output_below(SLOW_SMA).vbt & RSI.output_above(bottom).vbt)\n",
    "\n",
    "pf = vbt.Portfolio.from_signals(data[\"Close\"],\n",
    "                                entries, exits,\n",
    "                                fees=fees, freq=interval)\n",
    "pf.total_return()"
   ]
  }
 ],
 "metadata": {
  "kernelspec": {
   "display_name": "Python 3 (ipykernel)",
   "language": "python",
   "name": "python3"
  },
  "language_info": {
   "codemirror_mode": {
    "name": "ipython",
    "version": 3
   },
   "file_extension": ".py",
   "mimetype": "text/x-python",
   "name": "python",
   "nbconvert_exporter": "python",
   "pygments_lexer": "ipython3",
   "version": "3.9.17"
  }
 },
 "nbformat": 4,
 "nbformat_minor": 5
}
