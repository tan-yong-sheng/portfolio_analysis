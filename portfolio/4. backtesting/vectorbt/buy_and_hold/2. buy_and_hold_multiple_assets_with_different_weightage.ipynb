{
 "cells": [
  {
   "cell_type": "markdown",
   "metadata": {},
   "source": [
    "# Buy and hold multiple assets with different weightage"
   ]
  },
  {
   "cell_type": "code",
   "execution_count": 3,
   "metadata": {},
   "outputs": [],
   "source": [
    "import pandas as pd\n",
    "import numpy as np\n",
    "import vectorbt as vbt\n",
    "import warnings\n",
    "\n",
    "warnings.filterwarnings(\"ignore\")"
   ]
  },
  {
   "cell_type": "code",
   "execution_count": 4,
   "metadata": {},
   "outputs": [],
   "source": [
    "close = vbt.YFData.download([\"BTC-USD\", \"ETH-USD\"], missing_index='drop').get('Close')\n",
    "size = pd.DataFrame.vbt.empty_like(close, fill_value=np.nan)\n",
    "\n",
    "# using the target percentage sizer that is needed to represent weights,\n",
    "size.iloc[0] = [0.3, 0.7]  # starting weights\n",
    "\n",
    "pf = vbt.Portfolio.from_orders(\n",
    "    close, \n",
    "    size, \n",
    "    size_type='targetpercent', \n",
    "    group_by=True,  # group of two columns\n",
    "    cash_sharing=True  # share capital between columns\n",
    ")"
   ]
  },
  {
   "cell_type": "code",
   "execution_count": 5,
   "metadata": {},
   "outputs": [
    {
     "data": {
      "text/plain": [
       "Start                         2017-11-09 00:00:00+00:00\n",
       "End                           2023-07-30 00:00:00+00:00\n",
       "Period                               2090 days 00:00:00\n",
       "Start Value                                       100.0\n",
       "End Value                                    532.337902\n",
       "Total Return [%]                             432.337902\n",
       "Benchmark Return [%]                         397.599559\n",
       "Max Gross Exposure [%]                            100.0\n",
       "Total Fees Paid                                     0.0\n",
       "Max Drawdown [%]                              91.228864\n",
       "Max Drawdown Duration                1087 days 00:00:00\n",
       "Total Trades                                          2\n",
       "Total Closed Trades                                   0\n",
       "Total Open Trades                                     2\n",
       "Open Trade PnL                               432.337902\n",
       "Win Rate [%]                                        NaN\n",
       "Best Trade [%]                                      NaN\n",
       "Worst Trade [%]                                     NaN\n",
       "Avg Winning Trade [%]                               NaN\n",
       "Avg Losing Trade [%]                                NaN\n",
       "Avg Winning Trade Duration                          NaT\n",
       "Avg Losing Trade Duration                           NaT\n",
       "Profit Factor                                       NaN\n",
       "Expectancy                                          NaN\n",
       "Sharpe Ratio                                   0.775878\n",
       "Calmar Ratio                                   0.371734\n",
       "Omega Ratio                                    1.124295\n",
       "Sortino Ratio                                  1.099837\n",
       "Name: group, dtype: object"
      ]
     },
     "execution_count": 5,
     "metadata": {},
     "output_type": "execute_result"
    }
   ],
   "source": [
    "pf.stats()"
   ]
  }
 ],
 "metadata": {
  "kernelspec": {
   "display_name": "my_quant_lab",
   "language": "python",
   "name": "python3"
  },
  "language_info": {
   "codemirror_mode": {
    "name": "ipython",
    "version": 3
   },
   "file_extension": ".py",
   "mimetype": "text/x-python",
   "name": "python",
   "nbconvert_exporter": "python",
   "pygments_lexer": "ipython3",
   "version": "3.10.12"
  },
  "orig_nbformat": 4
 },
 "nbformat": 4,
 "nbformat_minor": 2
}
