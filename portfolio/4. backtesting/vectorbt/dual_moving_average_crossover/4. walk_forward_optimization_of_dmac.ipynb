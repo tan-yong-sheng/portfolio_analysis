{
 "cells": [
  {
   "cell_type": "markdown",
   "metadata": {},
   "source": [
    "# Walk forward optimization"
   ]
  },
  {
   "cell_type": "markdown",
   "metadata": {},
   "source": [
    "Reference: https://github.com/polakowo/vectorbt/blob/master/examples/WalkForwardOptimization.ipynb\n",
    "\n",
    "Reference 1: https://wire.insiderfinance.io/advanced-backtesting-on-nifty-using-walk-forward-analysis-in-python-90da743fcf78\n",
    "\n",
    "Reference 2: https://pyquantnews.com/1000000-backtest-simulations-20-seconds-vectorbt/\n",
    "\n",
    "Reference 3: https://algotrading101.com/learn/walk-forward-optimization/\n",
    "\n",
    "Reference 4: https://www.forexfactory.com/thread/472656-why-walk-forward-analysis-is-still-unreliable-and"
   ]
  },
  {
   "cell_type": "code",
   "execution_count": 148,
   "metadata": {},
   "outputs": [],
   "source": [
    "import numpy as np\n",
    "import scipy.stats as stats\n",
    "import vectorbt as vbt\n",
    "import warnings\n",
    "\n",
    "warnings.filterwarnings(\"ignore\")"
   ]
  },
  {
   "cell_type": "code",
   "execution_count": 149,
   "metadata": {},
   "outputs": [],
   "source": [
    "split_kwargs = dict(\n",
    "    n=30, \n",
    "    window_len=365 * 2, \n",
    "    set_lens=(180,), # \n",
    "    left_to_right=False\n",
    ")  # 30 windows, each 2 years long, reserve 180 days for test\n",
    "pf_kwargs = dict(\n",
    "    direction='LongOnly',  # long, short and both\n",
    "    freq='d'\n",
    ")\n",
    "\n",
    "windows = np.arange(10, 50)"
   ]
  },
  {
   "cell_type": "code",
   "execution_count": 156,
   "metadata": {},
   "outputs": [],
   "source": [
    "price = vbt.YFData.download('AAPL', missing_index=\"drop\").get('Close')"
   ]
  },
  {
   "cell_type": "code",
   "execution_count": 158,
   "metadata": {},
   "outputs": [],
   "source": [
    "def roll_in_and_out_samples(price, **kwargs):\n",
    "    return price.vbt.rolling_split(**kwargs)"
   ]
  },
  {
   "cell_type": "code",
   "execution_count": 221,
   "metadata": {},
   "outputs": [
    {
     "data": {
      "image/svg+xml": [
       "<svg class=\"main-svg\" xmlns=\"http://www.w3.org/2000/svg\" xmlns:xlink=\"http://www.w3.org/1999/xlink\" width=\"700\" height=\"212\" style=\"\" viewBox=\"0 0 700 212\"><rect x=\"0\" y=\"0\" width=\"700\" height=\"212\" style=\"fill: rgb(255, 255, 255); fill-opacity: 1;\"/><defs id=\"defs-f69516\"><g class=\"clips\"><clipPath id=\"clipf69516xyplot\" class=\"plotclip\"><rect width=\"640\" height=\"138\"/></clipPath><clipPath class=\"axesclip\" id=\"clipf69516x\"><rect x=\"30\" y=\"0\" width=\"640\" height=\"212\"/></clipPath><clipPath class=\"axesclip\" id=\"clipf69516y\"><rect x=\"0\" y=\"44\" width=\"700\" height=\"138\"/></clipPath><clipPath class=\"axesclip\" id=\"clipf69516xy\"><rect x=\"30\" y=\"44\" width=\"640\" height=\"138\"/></clipPath></g><g class=\"gradients\"><linearGradient x1=\"1\" x2=\"0\" y1=\"0\" y2=\"0\" id=\"gf69516-legendfill-67ea4f16-7e12-4e30-8cb0-26761c2b91d6\"><stop offset=\"0%\" stop-color=\"rgb(31, 119, 180)\" stop-opacity=\"1\"/><stop offset=\"100%\" stop-color=\"rgb(31, 119, 180)\" stop-opacity=\"1\"/></linearGradient><linearGradient x1=\"1\" x2=\"0\" y1=\"0\" y2=\"0\" id=\"gf69516-legendfill-89ae097d-8c29-441b-ad3f-15956b37b482\"><stop offset=\"0%\" stop-color=\"rgb(255, 127, 14)\" stop-opacity=\"1\"/><stop offset=\"100%\" stop-color=\"rgb(255, 127, 14)\" stop-opacity=\"1\"/></linearGradient></g><g class=\"patterns\"/></defs><g class=\"bglayer\"><rect class=\"bg\" x=\"30\" y=\"44\" width=\"640\" height=\"138\" style=\"fill: rgb(229, 236, 246); fill-opacity: 1; stroke-width: 0;\"/></g><g class=\"layer-below\"><g class=\"imagelayer\"/><g class=\"shapelayer\"/></g><g class=\"cartesianlayer\"><g class=\"subplot xy\"><g class=\"layer-subplot\"><g class=\"shapelayer\"/><g class=\"imagelayer\"/></g><g class=\"minor-gridlayer\"><g class=\"x\"/><g class=\"y\"/></g><g class=\"gridlayer\"><g class=\"x\"><path class=\"xgrid crisp\" transform=\"translate(90.87,0)\" d=\"M0,44v138\" style=\"stroke: rgb(255, 255, 255); stroke-opacity: 1; stroke-width: 1px;\"/><path class=\"xgrid crisp\" transform=\"translate(165.86,0)\" d=\"M0,44v138\" style=\"stroke: rgb(255, 255, 255); stroke-opacity: 1; stroke-width: 1px;\"/><path class=\"xgrid crisp\" transform=\"translate(240.85,0)\" d=\"M0,44v138\" style=\"stroke: rgb(255, 255, 255); stroke-opacity: 1; stroke-width: 1px;\"/><path class=\"xgrid crisp\" transform=\"translate(315.84,0)\" d=\"M0,44v138\" style=\"stroke: rgb(255, 255, 255); stroke-opacity: 1; stroke-width: 1px;\"/><path class=\"xgrid crisp\" transform=\"translate(390.88,0)\" d=\"M0,44v138\" style=\"stroke: rgb(255, 255, 255); stroke-opacity: 1; stroke-width: 1px;\"/><path class=\"xgrid crisp\" transform=\"translate(465.87,0)\" d=\"M0,44v138\" style=\"stroke: rgb(255, 255, 255); stroke-opacity: 1; stroke-width: 1px;\"/><path class=\"xgrid crisp\" transform=\"translate(540.86,0)\" d=\"M0,44v138\" style=\"stroke: rgb(255, 255, 255); stroke-opacity: 1; stroke-width: 1px;\"/><path class=\"xgrid crisp\" transform=\"translate(615.85,0)\" d=\"M0,44v138\" style=\"stroke: rgb(255, 255, 255); stroke-opacity: 1; stroke-width: 1px;\"/></g><g class=\"y\"><path class=\"ygrid crisp\" transform=\"translate(0,179.7)\" d=\"M30,0h640\" style=\"stroke: rgb(255, 255, 255); stroke-opacity: 1; stroke-width: 1px;\"/><path class=\"ygrid crisp\" transform=\"translate(0,161.3)\" d=\"M30,0h640\" style=\"stroke: rgb(255, 255, 255); stroke-opacity: 1; stroke-width: 1px;\"/><path class=\"ygrid crisp\" transform=\"translate(0,142.9)\" d=\"M30,0h640\" style=\"stroke: rgb(255, 255, 255); stroke-opacity: 1; stroke-width: 1px;\"/><path class=\"ygrid crisp\" transform=\"translate(0,124.5)\" d=\"M30,0h640\" style=\"stroke: rgb(255, 255, 255); stroke-opacity: 1; stroke-width: 1px;\"/><path class=\"ygrid crisp\" transform=\"translate(0,106.1)\" d=\"M30,0h640\" style=\"stroke: rgb(255, 255, 255); stroke-opacity: 1; stroke-width: 1px;\"/><path class=\"ygrid crisp\" transform=\"translate(0,87.7)\" d=\"M30,0h640\" style=\"stroke: rgb(255, 255, 255); stroke-opacity: 1; stroke-width: 1px;\"/><path class=\"ygrid crisp\" transform=\"translate(0,69.3)\" d=\"M30,0h640\" style=\"stroke: rgb(255, 255, 255); stroke-opacity: 1; stroke-width: 1px;\"/><path class=\"ygrid crisp\" transform=\"translate(0,50.9)\" d=\"M30,0h640\" style=\"stroke: rgb(255, 255, 255); stroke-opacity: 1; stroke-width: 1px;\"/></g></g><g class=\"zerolinelayer\"/><path class=\"xlines-below\"/><path class=\"ylines-below\"/><g class=\"overlines-below\"/><g class=\"xaxislayer-below\"/><g class=\"yaxislayer-below\"/><g class=\"overaxes-below\"/><g class=\"plot\" transform=\"translate(30,44)\" clip-path=\"url(#clipf69516xyplot)\"><g class=\"heatmaplayer mlayer\"><g class=\"hm\"><image xmlns=\"http://www.w3.org/2000/svg\" preserveAspectRatio=\"none\" height=\"138\" width=\"640\" x=\"0\" y=\"0\" xlink:href=\"data:image/png;base64,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\" style=\"opacity: 1;\"/></g><g class=\"hm\"><image xmlns=\"http://www.w3.org/2000/svg\" preserveAspectRatio=\"none\" height=\"138\" width=\"640\" x=\"0\" y=\"0\" xlink:href=\"data:image/png;base64,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\" style=\"opacity: 1;\"/></g></g></g><g class=\"overplot\"/><path class=\"xlines-above crisp\" d=\"M0,0\" style=\"fill: none;\"/><path class=\"ylines-above crisp\" d=\"M0,0\" style=\"fill: none;\"/><g class=\"overlines-above\"/><g class=\"xaxislayer-above\"><g class=\"xtick\"><text text-anchor=\"middle\" x=\"0\" y=\"195\" transform=\"translate(90.87,0)\" style=\"font-family: 'Open Sans', verdana, arial, sans-serif; font-size: 12px; fill: rgb(42, 63, 95); fill-opacity: 1; white-space: pre; opacity: 1;\">1985</text></g><g class=\"xtick\"><text text-anchor=\"middle\" x=\"0\" y=\"195\" style=\"font-family: 'Open Sans', verdana, arial, sans-serif; font-size: 12px; fill: rgb(42, 63, 95); fill-opacity: 1; white-space: pre; opacity: 1;\" transform=\"translate(165.86,0)\">1990</text></g><g class=\"xtick\"><text text-anchor=\"middle\" x=\"0\" y=\"195\" style=\"font-family: 'Open Sans', verdana, arial, sans-serif; font-size: 12px; fill: rgb(42, 63, 95); fill-opacity: 1; white-space: pre; opacity: 1;\" transform=\"translate(240.85,0)\">1995</text></g><g class=\"xtick\"><text text-anchor=\"middle\" x=\"0\" y=\"195\" style=\"font-family: 'Open Sans', verdana, arial, sans-serif; font-size: 12px; fill: rgb(42, 63, 95); fill-opacity: 1; white-space: pre; opacity: 1;\" transform=\"translate(315.84,0)\">2000</text></g><g class=\"xtick\"><text text-anchor=\"middle\" x=\"0\" y=\"195\" style=\"font-family: 'Open Sans', verdana, arial, sans-serif; font-size: 12px; fill: rgb(42, 63, 95); fill-opacity: 1; white-space: pre; opacity: 1;\" transform=\"translate(390.88,0)\">2005</text></g><g class=\"xtick\"><text text-anchor=\"middle\" x=\"0\" y=\"195\" style=\"font-family: 'Open Sans', verdana, arial, sans-serif; font-size: 12px; fill: rgb(42, 63, 95); fill-opacity: 1; white-space: pre; opacity: 1;\" transform=\"translate(465.87,0)\">2010</text></g><g class=\"xtick\"><text text-anchor=\"middle\" x=\"0\" y=\"195\" style=\"font-family: 'Open Sans', verdana, arial, sans-serif; font-size: 12px; fill: rgb(42, 63, 95); fill-opacity: 1; white-space: pre; opacity: 1;\" transform=\"translate(540.86,0)\">2015</text></g><g class=\"xtick\"><text text-anchor=\"middle\" x=\"0\" y=\"195\" style=\"font-family: 'Open Sans', verdana, arial, sans-serif; font-size: 12px; fill: rgb(42, 63, 95); fill-opacity: 1; white-space: pre; opacity: 1;\" transform=\"translate(615.85,0)\">2020</text></g></g><g class=\"yaxislayer-above\"><g class=\"ytick\"><text text-anchor=\"end\" x=\"29\" y=\"4.199999999999999\" transform=\"translate(0,179.7)\" style=\"font-family: 'Open Sans', verdana, arial, sans-serif; font-size: 12px; fill: rgb(42, 63, 95); fill-opacity: 1; white-space: pre; opacity: 1;\">29</text></g><g class=\"ytick\"><text text-anchor=\"end\" x=\"29\" y=\"4.199999999999999\" transform=\"translate(0,161.3)\" style=\"font-family: 'Open Sans', verdana, arial, sans-serif; font-size: 12px; fill: rgb(42, 63, 95); fill-opacity: 1; white-space: pre; opacity: 1;\">25</text></g><g class=\"ytick\"><text text-anchor=\"end\" x=\"29\" y=\"4.199999999999999\" transform=\"translate(0,142.9)\" style=\"font-family: 'Open Sans', verdana, arial, sans-serif; font-size: 12px; fill: rgb(42, 63, 95); fill-opacity: 1; white-space: pre; opacity: 1;\">21</text></g><g class=\"ytick\"><text text-anchor=\"end\" x=\"29\" y=\"4.199999999999999\" transform=\"translate(0,124.5)\" style=\"font-family: 'Open Sans', verdana, arial, sans-serif; font-size: 12px; fill: rgb(42, 63, 95); fill-opacity: 1; white-space: pre; opacity: 1;\">17</text></g><g class=\"ytick\"><text text-anchor=\"end\" x=\"29\" y=\"4.199999999999999\" transform=\"translate(0,106.1)\" style=\"font-family: 'Open Sans', verdana, arial, sans-serif; font-size: 12px; fill: rgb(42, 63, 95); fill-opacity: 1; white-space: pre; opacity: 1;\">13</text></g><g class=\"ytick\"><text text-anchor=\"end\" x=\"29\" y=\"4.199999999999999\" transform=\"translate(0,87.7)\" style=\"font-family: 'Open Sans', verdana, arial, sans-serif; font-size: 12px; fill: rgb(42, 63, 95); fill-opacity: 1; white-space: pre; opacity: 1;\">9</text></g><g class=\"ytick\"><text text-anchor=\"end\" x=\"29\" y=\"4.199999999999999\" transform=\"translate(0,69.3)\" style=\"font-family: 'Open Sans', verdana, arial, sans-serif; font-size: 12px; fill: rgb(42, 63, 95); fill-opacity: 1; white-space: pre; opacity: 1;\">5</text></g><g class=\"ytick\"><text text-anchor=\"end\" x=\"29\" y=\"4.199999999999999\" transform=\"translate(0,50.9)\" style=\"font-family: 'Open Sans', verdana, arial, sans-serif; font-size: 12px; fill: rgb(42, 63, 95); fill-opacity: 1; white-space: pre; opacity: 1;\">1</text></g></g><g class=\"overaxes-above\"/></g></g><g class=\"polarlayer\"/><g class=\"smithlayer\"/><g class=\"ternarylayer\"/><g class=\"geolayer\"/><g class=\"funnelarealayer\"/><g class=\"pielayer\"/><g class=\"iciclelayer\"/><g class=\"treemaplayer\"/><g class=\"sunburstlayer\"/><g class=\"glimages\"/><defs id=\"topdefs-f69516\"><g class=\"clips\"/><clipPath id=\"legendf69516\"><rect width=\"212\" height=\"29\" x=\"0\" y=\"0\"/></clipPath></defs><g class=\"layer-above\"><g class=\"imagelayer\"/><g class=\"shapelayer\"/></g><g class=\"infolayer\"><g class=\"legend\" pointer-events=\"all\" transform=\"translate(458,12.239999999999995)\"><rect class=\"bg\" shape-rendering=\"crispEdges\" width=\"212\" height=\"29\" x=\"0\" y=\"0\" style=\"stroke: rgb(68, 68, 68); stroke-opacity: 1; fill: rgb(255, 255, 255); fill-opacity: 1; stroke-width: 0px;\"/><g class=\"scrollbox\" transform=\"\" clip-path=\"url(#legendf69516)\"><g class=\"groups\"><g class=\"traces\" transform=\"translate(0,14.5)\" style=\"opacity: 1;\"><text class=\"legendtext\" text-anchor=\"start\" x=\"40\" y=\"4.680000000000001\" style=\"font-family: 'Open Sans', verdana, arial, sans-serif; font-size: 12px; fill: rgb(42, 63, 95); fill-opacity: 1; white-space: pre;\">in_sample</text><g class=\"layers\" style=\"opacity: 1;\"><g class=\"legendfill\"/><g class=\"legendlines\"/><g class=\"legendsymbols\"><g class=\"legendpoints\"><path class=\"legend3dandfriends gradient_filled\" transform=\"translate(20,0)\" d=\"M-15,-2V4H15V-2Z\" style=\"stroke-miterlimit: 1; fill: url('#gf69516-legendfill-67ea4f16-7e12-4e30-8cb0-26761c2b91d6');\"/></g></g></g><rect class=\"legendtoggle\" x=\"0\" y=\"-9.5\" width=\"99.015625\" height=\"19\" style=\"fill: rgb(0, 0, 0); fill-opacity: 0;\"/></g><g class=\"traces\" transform=\"translate(101.515625,14.5)\" style=\"opacity: 1;\"><text class=\"legendtext\" text-anchor=\"start\" x=\"40\" y=\"4.680000000000001\" style=\"font-family: 'Open Sans', verdana, arial, sans-serif; font-size: 12px; fill: rgb(42, 63, 95); fill-opacity: 1; white-space: pre;\">out_sample</text><g class=\"layers\" style=\"opacity: 1;\"><g class=\"legendfill\"/><g class=\"legendlines\"/><g class=\"legendsymbols\"><g class=\"legendpoints\"><path class=\"legend3dandfriends gradient_filled\" transform=\"translate(20,0)\" d=\"M-15,-2V4H15V-2Z\" style=\"stroke-miterlimit: 1; fill: url('#gf69516-legendfill-89ae097d-8c29-441b-ad3f-15956b37b482');\"/></g></g></g><rect class=\"legendtoggle\" x=\"0\" y=\"-9.5\" width=\"107.484375\" height=\"19\" style=\"fill: rgb(0, 0, 0); fill-opacity: 0;\"/></g></g></g><rect class=\"scrollbar\" rx=\"20\" ry=\"3\" width=\"0\" height=\"0\" x=\"0\" y=\"0\" style=\"fill: rgb(128, 139, 164); fill-opacity: 1;\"/></g><g class=\"g-gtitle\"/><g class=\"g-xtitle\"/><g class=\"g-ytitle\"/></g></svg>"
      ]
     },
     "metadata": {},
     "output_type": "display_data"
    },
    {
     "name": "stdout",
     "output_type": "stream",
     "text": [
      "(550, 30) 30\n",
      "(180, 30) 30\n"
     ]
    }
   ],
   "source": [
    "(in_price, in_indexes), (out_price, out_indexes) =\\\n",
    "            roll_in_and_out_samples(price, **split_kwargs)\n",
    "\n",
    "roll_in_and_out_samples(price, plot=True, \n",
    "                        trace_names=[\"in_sample\",\"out_sample\"],\n",
    "                        **split_kwargs).show_svg()\n",
    "\n",
    "print(in_price.shape, len(in_indexes))\n",
    "print(out_price.shape, len(out_indexes))\n",
    "\n",
    "# Here n = 30 means we are dividing our total datapoints into 30 different windows, with each window lenght *2 from which\n",
    "# 450 are insample data and 50 are out of the sample data"
   ]
  },
  {
   "cell_type": "code",
   "execution_count": 222,
   "metadata": {},
   "outputs": [
    {
     "name": "stdout",
     "output_type": "stream",
     "text": [
      "2009-11-13 05:00:00+00:00\n",
      "2009-03-03 05:00:00+00:00\n"
     ]
    }
   ],
   "source": [
    "print(out_indexes[19].max())\n",
    "print(out_indexes[19].min())\n"
   ]
  },
  {
   "cell_type": "code",
   "execution_count": 223,
   "metadata": {},
   "outputs": [
    {
     "data": {
      "text/plain": [
       "Date\n",
       "2009-03-02 05:00:00+00:00    0.0\n",
       "2009-03-03 05:00:00+00:00    0.0\n",
       "2009-03-04 05:00:00+00:00    0.0\n",
       "2009-03-05 05:00:00+00:00    0.0\n",
       "2009-03-06 05:00:00+00:00    0.0\n",
       "                            ... \n",
       "2009-11-06 05:00:00+00:00    0.0\n",
       "2009-11-09 05:00:00+00:00    0.0\n",
       "2009-11-10 05:00:00+00:00    0.0\n",
       "2009-11-11 05:00:00+00:00    0.0\n",
       "2009-11-12 05:00:00+00:00    0.0\n",
       "Length: 180, dtype: float64"
      ]
     },
     "execution_count": 223,
     "metadata": {},
     "output_type": "execute_result"
    }
   ],
   "source": [
    "pf.returns()"
   ]
  },
  {
   "cell_type": "code",
   "execution_count": 224,
   "metadata": {},
   "outputs": [],
   "source": [
    "def simulate_all_params(price, windows, **kwargs):\n",
    "    fast_ma, slow_ma = vbt.MA.run_combs(\n",
    "        price, windows, r=2, short_names=['fast', 'slow'])\n",
    "    entries = fast_ma.ma_crossed_above(slow_ma)\n",
    "    exits = fast_ma.ma_crossed_below(slow_ma)\n",
    "    pf = vbt.Portfolio.from_signals(price, entries, exits, **kwargs)\n",
    "    return pf.sharpe_ratio()\n"
   ]
  },
  {
   "cell_type": "code",
   "execution_count": 225,
   "metadata": {},
   "outputs": [
    {
     "name": "stdout",
     "output_type": "stream",
     "text": [
      "fast_window  slow_window  split_idx\n",
      "10           11           0            0.453424\n",
      "                          1            0.032089\n",
      "                          2           -0.469838\n",
      "                          3            0.709905\n",
      "                          4            2.002159\n",
      "                                         ...   \n",
      "48           49           25           0.629877\n",
      "                          26           2.220341\n",
      "                          27           1.650278\n",
      "                          28           0.983049\n",
      "                          29          -0.503428\n",
      "Name: sharpe_ratio, Length: 23400, dtype: float64\n"
     ]
    }
   ],
   "source": [
    "in_sharpe = simulate_all_params(in_price, windows,**pf_kwargs)\n",
    "print(in_sharpe)"
   ]
  },
  {
   "cell_type": "code",
   "execution_count": 226,
   "metadata": {},
   "outputs": [
    {
     "name": "stdout",
     "output_type": "stream",
     "text": [
      "MultiIndex([(27, 37,  0),\n",
      "            (15, 30,  1),\n",
      "            (19, 22,  2),\n",
      "            (35, 36,  3),\n",
      "            (10, 11,  4),\n",
      "            (11, 13,  5),\n",
      "            (17, 18,  6),\n",
      "            (19, 20,  7),\n",
      "            (13, 15,  8),\n",
      "            (12, 20,  9),\n",
      "            (14, 29, 10),\n",
      "            (10, 45, 11),\n",
      "            (26, 32, 12),\n",
      "            (48, 49, 13),\n",
      "            (13, 15, 14),\n",
      "            (28, 36, 15),\n",
      "            (12, 14, 16),\n",
      "            (10, 37, 17),\n",
      "            (31, 32, 18),\n",
      "            (38, 49, 19),\n",
      "            (38, 49, 20),\n",
      "            (41, 44, 21),\n",
      "            (17, 24, 22),\n",
      "            (32, 33, 23),\n",
      "            (26, 29, 24),\n",
      "            (10, 17, 25),\n",
      "            (48, 49, 26),\n",
      "            (18, 27, 27),\n",
      "            (18, 20, 28),\n",
      "            (19, 20, 29)],\n",
      "           names=['fast_window', 'slow_window', 'split_idx'])\n"
     ]
    }
   ],
   "source": [
    "def get_best_index(performance, higher_better=True):\n",
    "    if higher_better:\n",
    "        return performance[performance.groupby(\n",
    "            'split_idx').idxmax()].index\n",
    "    return performance[performance.groupby(\n",
    "        'split_idx').idxmin()].index\n",
    "in_best_index = get_best_index(in_sharpe)\n",
    "\n",
    "print(in_best_index)"
   ]
  },
  {
   "cell_type": "code",
   "execution_count": 247,
   "metadata": {},
   "outputs": [
    {
     "name": "stdout",
     "output_type": "stream",
     "text": [
      "[[27 37]\n",
      " [15 30]\n",
      " [19 22]\n",
      " [35 36]\n",
      " [10 11]\n",
      " [11 13]\n",
      " [17 18]\n",
      " [19 20]\n",
      " [13 15]\n",
      " [12 20]\n",
      " [14 29]\n",
      " [10 45]\n",
      " [26 32]\n",
      " [48 49]\n",
      " [13 15]\n",
      " [28 36]\n",
      " [12 14]\n",
      " [10 37]\n",
      " [31 32]\n",
      " [38 49]\n",
      " [38 49]\n",
      " [41 44]\n",
      " [17 24]\n",
      " [32 33]\n",
      " [26 29]\n",
      " [10 17]\n",
      " [48 49]\n",
      " [18 27]\n",
      " [18 20]\n",
      " [19 20]]\n"
     ]
    }
   ],
   "source": [
    "def get_best_params(best_index, level_name):\n",
    "    return best_index.get_level_values(level_name).to_numpy()\n",
    "\n",
    "in_best_fast_windows = get_best_params(in_best_index,\"fast_window\")\n",
    "in_best_slow_windows = get_best_params(in_best_index, \"slow_window\")\n",
    "in_best_window_pairs = np.array(list(zip(in_best_fast_windows, in_best_slow_windows)))\n",
    "print(in_best_window_pairs)"
   ]
  },
  {
   "cell_type": "code",
   "execution_count": 228,
   "metadata": {},
   "outputs": [
    {
     "data": {
      "image/svg+xml": [
       "<svg class=\"main-svg\" xmlns=\"http://www.w3.org/2000/svg\" xmlns:xlink=\"http://www.w3.org/1999/xlink\" width=\"700\" height=\"350\" style=\"\" viewBox=\"0 0 700 350\"><rect x=\"0\" y=\"0\" width=\"700\" height=\"350\" style=\"fill: rgb(255, 255, 255); fill-opacity: 1;\"/><defs id=\"defs-9ef636\"><g class=\"clips\"><clipPath id=\"clip9ef636xyplot\" class=\"plotclip\"><rect width=\"640\" height=\"274\"/></clipPath><clipPath class=\"axesclip\" id=\"clip9ef636x\"><rect x=\"30\" y=\"0\" width=\"640\" height=\"350\"/></clipPath><clipPath class=\"axesclip\" id=\"clip9ef636y\"><rect x=\"0\" y=\"46\" width=\"700\" height=\"274\"/></clipPath><clipPath class=\"axesclip\" id=\"clip9ef636xy\"><rect x=\"30\" y=\"46\" width=\"640\" height=\"274\"/></clipPath></g><g class=\"gradients\"/><g class=\"patterns\"/></defs><g class=\"bglayer\"><rect class=\"bg\" x=\"30\" y=\"46\" width=\"640\" height=\"274\" style=\"fill: rgb(229, 236, 246); fill-opacity: 1; stroke-width: 0;\"/></g><g class=\"layer-below\"><g class=\"imagelayer\"/><g class=\"shapelayer\"/></g><g class=\"cartesianlayer\"><g class=\"subplot xy\"><g class=\"layer-subplot\"><g class=\"shapelayer\"/><g class=\"imagelayer\"/></g><g class=\"minor-gridlayer\"><g class=\"x\"/><g class=\"y\"/></g><g class=\"gridlayer\"><g class=\"x\"><path class=\"xgrid crisp\" transform=\"translate(140.34,0)\" d=\"M0,46v274\" style=\"stroke: rgb(255, 255, 255); stroke-opacity: 1; stroke-width: 1px;\"/><path class=\"xgrid crisp\" transform=\"translate(250.69,0)\" d=\"M0,46v274\" style=\"stroke: rgb(255, 255, 255); stroke-opacity: 1; stroke-width: 1px;\"/><path class=\"xgrid crisp\" transform=\"translate(361.03,0)\" d=\"M0,46v274\" style=\"stroke: rgb(255, 255, 255); stroke-opacity: 1; stroke-width: 1px;\"/><path class=\"xgrid crisp\" transform=\"translate(471.38,0)\" d=\"M0,46v274\" style=\"stroke: rgb(255, 255, 255); stroke-opacity: 1; stroke-width: 1px;\"/><path class=\"xgrid crisp\" transform=\"translate(581.72,0)\" d=\"M0,46v274\" style=\"stroke: rgb(255, 255, 255); stroke-opacity: 1; stroke-width: 1px;\"/></g><g class=\"y\"><path class=\"ygrid crisp\" transform=\"translate(0,306.3)\" d=\"M30,0h640\" style=\"stroke: rgb(255, 255, 255); stroke-opacity: 1; stroke-width: 1px;\"/><path class=\"ygrid crisp\" transform=\"translate(0,243.07)\" d=\"M30,0h640\" style=\"stroke: rgb(255, 255, 255); stroke-opacity: 1; stroke-width: 1px;\"/><path class=\"ygrid crisp\" transform=\"translate(0,179.84)\" d=\"M30,0h640\" style=\"stroke: rgb(255, 255, 255); stroke-opacity: 1; stroke-width: 1px;\"/><path class=\"ygrid crisp\" transform=\"translate(0,116.61)\" d=\"M30,0h640\" style=\"stroke: rgb(255, 255, 255); stroke-opacity: 1; stroke-width: 1px;\"/><path class=\"ygrid crisp\" transform=\"translate(0,53.38)\" d=\"M30,0h640\" style=\"stroke: rgb(255, 255, 255); stroke-opacity: 1; stroke-width: 1px;\"/></g></g><g class=\"zerolinelayer\"><path class=\"xzl zl crisp\" transform=\"translate(30,0)\" d=\"M0,46v274\" style=\"stroke: rgb(255, 255, 255); stroke-opacity: 1; stroke-width: 2px;\"/></g><path class=\"xlines-below\"/><path class=\"ylines-below\"/><g class=\"overlines-below\"/><g class=\"xaxislayer-below\"/><g class=\"yaxislayer-below\"/><g class=\"overaxes-below\"/><g class=\"plot\" transform=\"translate(30,46)\" clip-path=\"url(#clip9ef636xyplot)\"><g class=\"scatterlayer mlayer\"><g class=\"trace scatter tracee7a2d13c-8d60-4604-813f-10b61acdb549\" style=\"stroke-miterlimit: 2; opacity: 1;\"><g class=\"fills\"/><g class=\"errorbars\"/><g class=\"lines\"><path class=\"js-line\" d=\"M0,152.81L22.07,228.68L44.14,203.39L66.21,102.22L88.28,260.3L110.34,253.98L132.41,216.04L154.48,203.39L176.55,241.33L198.62,247.65L220.69,235.01L242.76,260.3L264.83,159.13L286.9,20.02L308.97,241.33L331.03,146.48L353.1,247.65L375.17,260.3L397.24,127.52L419.31,83.25L441.38,83.25L463.45,64.28L485.52,216.04L507.59,121.19L529.66,159.13L551.72,260.3L573.79,20.02L595.86,209.72L617.93,209.72L640,203.39\" style=\"vector-effect: none; fill: none; stroke: rgb(31, 119, 180); stroke-opacity: 1; stroke-width: 2px; opacity: 1;\"/></g><g class=\"points\"/><g class=\"text\"/></g><g class=\"trace scatter trace500a518d-7a70-48cb-ac1f-499c5a29ae66\" style=\"stroke-miterlimit: 2; opacity: 1;\"><g class=\"fills\"/><g class=\"errorbars\"/><g class=\"lines\"><path class=\"js-line\" d=\"M0,89.58L22.07,133.84L44.14,184.42L66.21,95.9L88.28,253.98L110.34,241.33L132.41,209.72L154.48,197.07L176.55,228.68L198.62,197.07L220.69,140.16L242.76,38.99L264.83,121.19L286.9,13.7L308.97,228.68L331.03,95.9L353.1,235.01L375.17,89.58L397.24,121.19L419.31,13.7L441.38,13.7L463.45,45.32L485.52,171.78L507.59,114.87L529.66,140.16L551.72,216.04L573.79,13.7L595.86,152.81L617.93,197.07L640,197.07\" style=\"vector-effect: none; fill: none; stroke: rgb(255, 127, 14); stroke-opacity: 1; stroke-width: 2px; opacity: 1;\"/></g><g class=\"points\"/><g class=\"text\"/></g></g></g><g class=\"overplot\"/><path class=\"xlines-above crisp\" d=\"M0,0\" style=\"fill: none;\"/><path class=\"ylines-above crisp\" d=\"M0,0\" style=\"fill: none;\"/><g class=\"overlines-above\"/><g class=\"xaxislayer-above\"><g class=\"xtick\"><text text-anchor=\"middle\" x=\"0\" y=\"333\" transform=\"translate(30,0)\" style=\"font-family: 'Open Sans', verdana, arial, sans-serif; font-size: 12px; fill: rgb(42, 63, 95); fill-opacity: 1; white-space: pre; opacity: 1;\">0</text></g><g class=\"xtick\"><text text-anchor=\"middle\" x=\"0\" y=\"333\" style=\"font-family: 'Open Sans', verdana, arial, sans-serif; font-size: 12px; fill: rgb(42, 63, 95); fill-opacity: 1; white-space: pre; opacity: 1;\" transform=\"translate(140.34,0)\">5</text></g><g class=\"xtick\"><text text-anchor=\"middle\" x=\"0\" y=\"333\" style=\"font-family: 'Open Sans', verdana, arial, sans-serif; font-size: 12px; fill: rgb(42, 63, 95); fill-opacity: 1; white-space: pre; opacity: 1;\" transform=\"translate(250.69,0)\">10</text></g><g class=\"xtick\"><text text-anchor=\"middle\" x=\"0\" y=\"333\" style=\"font-family: 'Open Sans', verdana, arial, sans-serif; font-size: 12px; fill: rgb(42, 63, 95); fill-opacity: 1; white-space: pre; opacity: 1;\" transform=\"translate(361.03,0)\">15</text></g><g class=\"xtick\"><text text-anchor=\"middle\" x=\"0\" y=\"333\" style=\"font-family: 'Open Sans', verdana, arial, sans-serif; font-size: 12px; fill: rgb(42, 63, 95); fill-opacity: 1; white-space: pre; opacity: 1;\" transform=\"translate(471.38,0)\">20</text></g><g class=\"xtick\"><text text-anchor=\"middle\" x=\"0\" y=\"333\" style=\"font-family: 'Open Sans', verdana, arial, sans-serif; font-size: 12px; fill: rgb(42, 63, 95); fill-opacity: 1; white-space: pre; opacity: 1;\" transform=\"translate(581.72,0)\">25</text></g></g><g class=\"yaxislayer-above\"><g class=\"ytick\"><text text-anchor=\"end\" x=\"29\" y=\"4.199999999999999\" transform=\"translate(0,306.3)\" style=\"font-family: 'Open Sans', verdana, arial, sans-serif; font-size: 12px; fill: rgb(42, 63, 95); fill-opacity: 1; white-space: pre; opacity: 1;\">10</text></g><g class=\"ytick\"><text text-anchor=\"end\" x=\"29\" y=\"4.199999999999999\" style=\"font-family: 'Open Sans', verdana, arial, sans-serif; font-size: 12px; fill: rgb(42, 63, 95); fill-opacity: 1; white-space: pre; opacity: 1;\" transform=\"translate(0,243.07)\">20</text></g><g class=\"ytick\"><text text-anchor=\"end\" x=\"29\" y=\"4.199999999999999\" style=\"font-family: 'Open Sans', verdana, arial, sans-serif; font-size: 12px; fill: rgb(42, 63, 95); fill-opacity: 1; white-space: pre; opacity: 1;\" transform=\"translate(0,179.84)\">30</text></g><g class=\"ytick\"><text text-anchor=\"end\" x=\"29\" y=\"4.199999999999999\" style=\"font-family: 'Open Sans', verdana, arial, sans-serif; font-size: 12px; fill: rgb(42, 63, 95); fill-opacity: 1; white-space: pre; opacity: 1;\" transform=\"translate(0,116.61)\">40</text></g><g class=\"ytick\"><text text-anchor=\"end\" x=\"29\" y=\"4.199999999999999\" style=\"font-family: 'Open Sans', verdana, arial, sans-serif; font-size: 12px; fill: rgb(42, 63, 95); fill-opacity: 1; white-space: pre; opacity: 1;\" transform=\"translate(0,53.38)\">50</text></g></g><g class=\"overaxes-above\"/></g></g><g class=\"polarlayer\"/><g class=\"smithlayer\"/><g class=\"ternarylayer\"/><g class=\"geolayer\"/><g class=\"funnelarealayer\"/><g class=\"pielayer\"/><g class=\"iciclelayer\"/><g class=\"treemaplayer\"/><g class=\"sunburstlayer\"/><g class=\"glimages\"/><defs id=\"topdefs-9ef636\"><g class=\"clips\"/><clipPath id=\"legend9ef636\"><rect width=\"236\" height=\"29\" x=\"0\" y=\"0\"/></clipPath></defs><g class=\"layer-above\"><g class=\"imagelayer\"/><g class=\"shapelayer\"/></g><g class=\"infolayer\"><g class=\"legend\" pointer-events=\"all\" transform=\"translate(434,11.519999999999996)\"><rect class=\"bg\" shape-rendering=\"crispEdges\" width=\"236\" height=\"29\" x=\"0\" y=\"0\" style=\"stroke: rgb(68, 68, 68); stroke-opacity: 1; fill: rgb(255, 255, 255); fill-opacity: 1; stroke-width: 0px;\"/><g class=\"scrollbox\" transform=\"\" clip-path=\"url(#legend9ef636)\"><g class=\"groups\"><g class=\"traces\" transform=\"translate(0,14.5)\" style=\"opacity: 1;\"><text class=\"legendtext\" text-anchor=\"start\" x=\"40\" y=\"4.680000000000001\" style=\"font-family: 'Open Sans', verdana, arial, sans-serif; font-size: 12px; fill: rgb(42, 63, 95); fill-opacity: 1; white-space: pre;\">fast_window</text><g class=\"layers\" style=\"opacity: 1;\"><g class=\"legendfill\"/><g class=\"legendlines\"><path class=\"js-line\" d=\"M5,0h30\" style=\"fill: none; stroke: rgb(31, 119, 180); stroke-opacity: 1; stroke-width: 2px;\"/></g><g class=\"legendsymbols\"><g class=\"legendpoints\"/></g></g><rect class=\"legendtoggle\" x=\"0\" y=\"-9.5\" width=\"113.71875\" height=\"19\" style=\"fill: rgb(0, 0, 0); fill-opacity: 0;\"/></g><g class=\"traces\" transform=\"translate(116.21875,14.5)\" style=\"opacity: 1;\"><text class=\"legendtext\" text-anchor=\"start\" x=\"40\" y=\"4.680000000000001\" style=\"font-family: 'Open Sans', verdana, arial, sans-serif; font-size: 12px; fill: rgb(42, 63, 95); fill-opacity: 1; white-space: pre;\">slow_window</text><g class=\"layers\" style=\"opacity: 1;\"><g class=\"legendfill\"/><g class=\"legendlines\"><path class=\"js-line\" d=\"M5,0h30\" style=\"fill: none; stroke: rgb(255, 127, 14); stroke-opacity: 1; stroke-width: 2px;\"/></g><g class=\"legendsymbols\"><g class=\"legendpoints\"/></g></g><rect class=\"legendtoggle\" x=\"0\" y=\"-9.5\" width=\"117.28125\" height=\"19\" style=\"fill: rgb(0, 0, 0); fill-opacity: 0;\"/></g></g></g><rect class=\"scrollbar\" rx=\"20\" ry=\"3\" width=\"0\" height=\"0\" x=\"0\" y=\"0\" style=\"fill: rgb(128, 139, 164); fill-opacity: 1;\"/></g><g class=\"g-gtitle\"/><g class=\"g-xtitle\"/><g class=\"g-ytitle\"/></g></svg>"
      ]
     },
     "metadata": {},
     "output_type": "display_data"
    }
   ],
   "source": [
    "pd.DataFrame(in_best_window_pairs, columns=['fast_window', 'slow_window']).vbt.plot().show_svg()"
   ]
  },
  {
   "cell_type": "code",
   "execution_count": 229,
   "metadata": {},
   "outputs": [
    {
     "name": "stdout",
     "output_type": "stream",
     "text": [
      "fast_window  slow_window  split_idx\n",
      "10           11           0           -1.635750\n",
      "                          1            0.510985\n",
      "                          2            1.036077\n",
      "                          3            1.433579\n",
      "                          4           -1.226708\n",
      "                                         ...   \n",
      "48           49           25           1.288928\n",
      "                          26           1.209520\n",
      "                          27           2.050741\n",
      "                          28           1.272411\n",
      "                          29           2.108858\n",
      "Name: sharpe_ratio, Length: 23400, dtype: float64\n"
     ]
    }
   ],
   "source": [
    "# Simulate all params for out-sample ranges\n",
    "out_sharpe = simulate_all_params(out_price, windows, **pf_kwargs)\n",
    "\n",
    "print(out_sharpe)"
   ]
  },
  {
   "cell_type": "code",
   "execution_count": 230,
   "metadata": {},
   "outputs": [],
   "source": [
    "def simulate_best_params(price, best_fast_windows, best_slow_windows, **kwargs):\n",
    "    fast_ma = vbt.MA.run(price, window=best_fast_windows, per_column=True)\n",
    "    slow_ma = vbt.MA.run(price, window=best_slow_windows, per_column=True)\n",
    "\n",
    "    entries = fast_ma.ma_crossed_above(slow_ma)\n",
    "    exits = fast_ma.ma_crossed_below(slow_ma)\n",
    "\n",
    "    pf = vbt.Portfolio.from_signals(price, entries, exits, **kwargs)\n",
    "    return pf.sharpe_ratio()"
   ]
  },
  {
   "cell_type": "code",
   "execution_count": 231,
   "metadata": {},
   "outputs": [
    {
     "name": "stdout",
     "output_type": "stream",
     "text": [
      "ma_window  ma_window  split_idx\n",
      "27         37         0            1.709994\n",
      "15         30         1            0.496050\n",
      "19         22         2            1.903047\n",
      "35         36         3           -0.513083\n",
      "10         11         4           -1.981186\n",
      "11         13         5           -0.534257\n",
      "17         18         6           -1.903761\n",
      "19         20         7            0.843401\n",
      "13         15         8            0.457506\n",
      "12         20         9            0.917088\n",
      "14         29         10           1.898677\n",
      "10         45         11           0.561127\n",
      "26         32         12          -0.173749\n",
      "48         49         13           0.293351\n",
      "13         15         14          -0.410594\n",
      "28         36         15          -1.155256\n",
      "12         14         16          -1.939144\n",
      "10         37         17           0.194498\n",
      "31         32         18           0.054854\n",
      "38         49         19                inf\n",
      "                      20                inf\n",
      "41         44         21          -0.898228\n",
      "17         24         22           0.616090\n",
      "32         33         23           0.054384\n",
      "26         29         24          -0.858922\n",
      "10         17         25           1.132562\n",
      "48         49         26           0.978493\n",
      "18         27         27           1.965496\n",
      "           20         28          -0.485067\n",
      "19         20         29           1.670311\n",
      "Name: sharpe_ratio, dtype: float64\n"
     ]
    }
   ],
   "source": [
    "out_test_sharpe = simulate_best_params(\n",
    "    out_price, \n",
    "    in_best_fast_windows, \n",
    "    in_best_slow_windows, \n",
    "    direction=\"both\", \n",
    "    freq=\"d\"\n",
    ")\n",
    "print(out_test_sharpe)"
   ]
  },
  {
   "cell_type": "code",
   "execution_count": 238,
   "metadata": {},
   "outputs": [
    {
     "data": {
      "image/svg+xml": [
       "<svg class=\"main-svg\" xmlns=\"http://www.w3.org/2000/svg\" xmlns:xlink=\"http://www.w3.org/1999/xlink\" width=\"700\" height=\"350\" style=\"\" viewBox=\"0 0 700 350\"><rect x=\"0\" y=\"0\" width=\"700\" height=\"350\" style=\"fill: rgb(255, 255, 255); fill-opacity: 1;\"/><defs id=\"defs-7fb8a9\"><g class=\"clips\"><clipPath id=\"clip7fb8a9xyplot\" class=\"plotclip\"><rect width=\"640\" height=\"274\"/></clipPath><clipPath class=\"axesclip\" id=\"clip7fb8a9x\"><rect x=\"30\" y=\"0\" width=\"640\" height=\"350\"/></clipPath><clipPath class=\"axesclip\" id=\"clip7fb8a9y\"><rect x=\"0\" y=\"46\" width=\"700\" height=\"274\"/></clipPath><clipPath class=\"axesclip\" id=\"clip7fb8a9xy\"><rect x=\"30\" y=\"46\" width=\"640\" height=\"274\"/></clipPath></g><g class=\"gradients\"/><g class=\"patterns\"/></defs><g class=\"bglayer\"><rect class=\"bg\" x=\"30\" y=\"46\" width=\"640\" height=\"274\" style=\"fill: rgb(229, 236, 246); fill-opacity: 1; stroke-width: 0;\"/></g><g class=\"layer-below\"><g class=\"imagelayer\"/><g class=\"shapelayer\"/></g><g class=\"cartesianlayer\"><g class=\"subplot xy\"><g class=\"layer-subplot\"><g class=\"shapelayer\"/><g class=\"imagelayer\"/></g><g class=\"minor-gridlayer\"><g class=\"x\"/><g class=\"y\"/></g><g class=\"gridlayer\"><g class=\"x\"><path class=\"xgrid crisp\" transform=\"translate(140.34,0)\" d=\"M0,46v274\" style=\"stroke: rgb(255, 255, 255); stroke-opacity: 1; stroke-width: 1px;\"/><path class=\"xgrid crisp\" transform=\"translate(250.69,0)\" d=\"M0,46v274\" style=\"stroke: rgb(255, 255, 255); stroke-opacity: 1; stroke-width: 1px;\"/><path class=\"xgrid crisp\" transform=\"translate(361.03,0)\" d=\"M0,46v274\" style=\"stroke: rgb(255, 255, 255); stroke-opacity: 1; stroke-width: 1px;\"/><path class=\"xgrid crisp\" transform=\"translate(471.38,0)\" d=\"M0,46v274\" style=\"stroke: rgb(255, 255, 255); stroke-opacity: 1; stroke-width: 1px;\"/><path class=\"xgrid crisp\" transform=\"translate(581.72,0)\" d=\"M0,46v274\" style=\"stroke: rgb(255, 255, 255); stroke-opacity: 1; stroke-width: 1px;\"/></g><g class=\"y\"><path class=\"ygrid crisp\" transform=\"translate(0,307.25)\" d=\"M30,0h640\" style=\"stroke: rgb(255, 255, 255); stroke-opacity: 1; stroke-width: 1px;\"/><path class=\"ygrid crisp\" transform=\"translate(0,256.53999999999996)\" d=\"M30,0h640\" style=\"stroke: rgb(255, 255, 255); stroke-opacity: 1; stroke-width: 1px;\"/><path class=\"ygrid crisp\" transform=\"translate(0,155.11)\" d=\"M30,0h640\" style=\"stroke: rgb(255, 255, 255); stroke-opacity: 1; stroke-width: 1px;\"/><path class=\"ygrid crisp\" transform=\"translate(0,104.4)\" d=\"M30,0h640\" style=\"stroke: rgb(255, 255, 255); stroke-opacity: 1; stroke-width: 1px;\"/><path class=\"ygrid crisp\" transform=\"translate(0,53.69)\" d=\"M30,0h640\" style=\"stroke: rgb(255, 255, 255); stroke-opacity: 1; stroke-width: 1px;\"/></g></g><g class=\"zerolinelayer\"><path class=\"xzl zl crisp\" transform=\"translate(30,0)\" d=\"M0,46v274\" style=\"stroke: rgb(255, 255, 255); stroke-opacity: 1; stroke-width: 2px;\"/><path class=\"yzl zl crisp\" transform=\"translate(0,205.83)\" d=\"M30,0h640\" style=\"stroke: rgb(255, 255, 255); stroke-opacity: 1; stroke-width: 2px;\"/></g><path class=\"xlines-below\"/><path class=\"ylines-below\"/><g class=\"overlines-below\"/><g class=\"xaxislayer-below\"/><g class=\"yaxislayer-below\"/><g class=\"overaxes-below\"/><g class=\"plot\" transform=\"translate(30,46)\" clip-path=\"url(#clip7fb8a9xyplot)\"><g class=\"scatterlayer mlayer\"><g class=\"trace scatter trace59af0272-43e1-43dd-81f5-4ddeaccd9d75\" style=\"stroke-miterlimit: 2; opacity: 1;\"><g class=\"fills\"/><g class=\"errorbars\"/><g class=\"lines\"><path class=\"js-line\" d=\"M0,90.15L22.07,86.03L44.14,159.2L66.21,51.22L88.28,115.73L110.34,171.22L132.41,92.13L154.48,100.32L176.55,204.73L198.62,142.24L220.69,183.09L242.76,145.15L264.83,103.09L286.9,147.5L308.97,185.87L331.03,132.72L353.1,71.56L375.17,43.06L397.24,79.29L419.31,123.27L441.38,111.57L463.45,127.54L485.52,100.4L507.59,107.06L529.66,111.69L551.72,111.66L573.79,93.94L595.86,78.67L617.93,62.13L640,149.12\" style=\"vector-effect: none; fill: none; stroke: rgb(31, 119, 180); stroke-opacity: 1; stroke-width: 2px; opacity: 1;\"/></g><g class=\"points\"/><g class=\"text\"/></g><g class=\"trace scatter traceca0425e4-f50e-4450-847a-3ff9d499d9ea\" style=\"stroke-miterlimit: 2; opacity: 1;\"><g class=\"fills\"/><g class=\"errorbars\"/><g class=\"lines\"><path class=\"js-line\" d=\"M0,57.87L22.07,44.18L44.14,107.6L66.21,18.43L88.28,58.29L110.34,105.14L132.41,49.66L154.48,67.57L176.55,101.25L198.62,93.03L220.69,122.71L242.76,106.73L264.83,70.55L286.9,93.56L308.97,109.02L331.03,87.83L353.1,34.86L375.17,19.36L397.24,46.02L419.31,88.99L441.38,13.7L463.45,74.02L485.52,73.51L507.59,61.91L529.66,71.31L551.72,77.37L573.79,47.22L595.86,34.08L617.93,18.8L640,80.06\" style=\"vector-effect: none; fill: none; stroke: rgb(31, 119, 180); stroke-opacity: 1; stroke-dasharray: 9px, 9px; stroke-width: 2px; opacity: 1;\"/></g><g class=\"points\"/><g class=\"text\"/></g><g class=\"trace scatter trace9e23d55b-5fb0-4ac7-bf2b-6437fcc90af7\" style=\"stroke-miterlimit: 2; opacity: 1;\"><g class=\"fills\"/><g class=\"errorbars\"/><g class=\"lines\"><path class=\"js-line\" d=\"M0,170.6L22.07,164.27\" style=\"vector-effect: none; fill: none; stroke: rgb(255, 127, 14); stroke-opacity: 1; stroke-width: 2px; opacity: 1;\"/><path class=\"js-line\" d=\"M66.21,160.36L88.28,191.07L110.34,153.67L132.41,110.18L154.48,115.66L176.55,91.31L198.62,249.46L220.69,174.01L242.76,122.18L264.83,70.23L286.9,171.66L308.97,191.27L331.03,123.24L353.1,71.12L375.17,94.48L397.24,110.12\" style=\"vector-effect: none; fill: none; stroke: rgb(255, 127, 14); stroke-opacity: 1; stroke-width: 2px; opacity: 1;\"/><path class=\"js-line\" d=\"M441.38,61.87L463.45,85.53L485.52,74.31L507.59,104.19L529.66,109.71L551.72,165.5L573.79,118.08L595.86,36.12L617.93,119.2L640,67.28\" style=\"vector-effect: none; fill: none; stroke: rgb(255, 127, 14); stroke-opacity: 1; stroke-width: 2px; opacity: 1;\"/></g><g class=\"points\"/><g class=\"text\"/></g><g class=\"trace scatter trace19d0a1b3-28aa-48a1-ba58-a8ffa5f8f6c9\" style=\"stroke-miterlimit: 2; opacity: 1;\"><g class=\"fills\"/><g class=\"errorbars\"/><g class=\"lines\"><path class=\"js-line\" d=\"M0,73.11L22.07,134.67L44.14,63.32L66.21,185.85L88.28,260.3L110.34,186.92L132.41,256.37L154.48,117.05L176.55,136.62L198.62,113.32L220.69,63.54L242.76,131.37L264.83,168.64L286.9,144.95L308.97,180.65L331.03,218.41L353.1,258.17L375.17,149.96L397.24,157.04\" style=\"vector-effect: none; fill: none; stroke: rgb(255, 127, 14); stroke-opacity: 1; stroke-dasharray: 9px, 9px; stroke-width: 2px; opacity: 1;\"/><path class=\"js-line\" d=\"M463.45,205.38L485.52,128.58L507.59,157.07L529.66,203.39L551.72,102.39L573.79,110.2L595.86,60.15L617.93,184.43L640,75.12\" style=\"vector-effect: none; fill: none; stroke: rgb(255, 127, 14); stroke-opacity: 1; stroke-dasharray: 9px, 9px; stroke-width: 2px; opacity: 1;\"/></g><g class=\"points\"/><g class=\"text\"/></g></g></g><g class=\"overplot\"/><path class=\"xlines-above crisp\" d=\"M0,0\" style=\"fill: none;\"/><path class=\"ylines-above crisp\" d=\"M0,0\" style=\"fill: none;\"/><g class=\"overlines-above\"/><g class=\"xaxislayer-above\"><g class=\"xtick\"><text text-anchor=\"middle\" x=\"0\" y=\"333\" transform=\"translate(30,0)\" style=\"font-family: 'Open Sans', verdana, arial, sans-serif; font-size: 12px; fill: rgb(42, 63, 95); fill-opacity: 1; white-space: pre; opacity: 1;\">0</text></g><g class=\"xtick\"><text text-anchor=\"middle\" x=\"0\" y=\"333\" style=\"font-family: 'Open Sans', verdana, arial, sans-serif; font-size: 12px; fill: rgb(42, 63, 95); fill-opacity: 1; white-space: pre; opacity: 1;\" transform=\"translate(140.34,0)\">5</text></g><g class=\"xtick\"><text text-anchor=\"middle\" x=\"0\" y=\"333\" style=\"font-family: 'Open Sans', verdana, arial, sans-serif; font-size: 12px; fill: rgb(42, 63, 95); fill-opacity: 1; white-space: pre; opacity: 1;\" transform=\"translate(250.69,0)\">10</text></g><g class=\"xtick\"><text text-anchor=\"middle\" x=\"0\" y=\"333\" style=\"font-family: 'Open Sans', verdana, arial, sans-serif; font-size: 12px; fill: rgb(42, 63, 95); fill-opacity: 1; white-space: pre; opacity: 1;\" transform=\"translate(361.03,0)\">15</text></g><g class=\"xtick\"><text text-anchor=\"middle\" x=\"0\" y=\"333\" style=\"font-family: 'Open Sans', verdana, arial, sans-serif; font-size: 12px; fill: rgb(42, 63, 95); fill-opacity: 1; white-space: pre; opacity: 1;\" transform=\"translate(471.38,0)\">20</text></g><g class=\"xtick\"><text text-anchor=\"middle\" x=\"0\" y=\"333\" style=\"font-family: 'Open Sans', verdana, arial, sans-serif; font-size: 12px; fill: rgb(42, 63, 95); fill-opacity: 1; white-space: pre; opacity: 1;\" transform=\"translate(581.72,0)\">25</text></g></g><g class=\"yaxislayer-above\"><g class=\"ytick\"><text text-anchor=\"end\" x=\"29\" y=\"4.199999999999999\" transform=\"translate(0,307.25)\" style=\"font-family: 'Open Sans', verdana, arial, sans-serif; font-size: 12px; fill: rgb(42, 63, 95); fill-opacity: 1; white-space: pre; opacity: 1;\">−2</text></g><g class=\"ytick\"><text text-anchor=\"end\" x=\"29\" y=\"4.199999999999999\" style=\"font-family: 'Open Sans', verdana, arial, sans-serif; font-size: 12px; fill: rgb(42, 63, 95); fill-opacity: 1; white-space: pre; opacity: 1;\" transform=\"translate(0,256.53999999999996)\">−1</text></g><g class=\"ytick\"><text text-anchor=\"end\" x=\"29\" y=\"4.199999999999999\" style=\"font-family: 'Open Sans', verdana, arial, sans-serif; font-size: 12px; fill: rgb(42, 63, 95); fill-opacity: 1; white-space: pre; opacity: 1;\" transform=\"translate(0,205.83)\">0</text></g><g class=\"ytick\"><text text-anchor=\"end\" x=\"29\" y=\"4.199999999999999\" style=\"font-family: 'Open Sans', verdana, arial, sans-serif; font-size: 12px; fill: rgb(42, 63, 95); fill-opacity: 1; white-space: pre; opacity: 1;\" transform=\"translate(0,155.11)\">1</text></g><g class=\"ytick\"><text text-anchor=\"end\" x=\"29\" y=\"4.199999999999999\" style=\"font-family: 'Open Sans', verdana, arial, sans-serif; font-size: 12px; fill: rgb(42, 63, 95); fill-opacity: 1; white-space: pre; opacity: 1;\" transform=\"translate(0,104.4)\">2</text></g><g class=\"ytick\"><text text-anchor=\"end\" x=\"29\" y=\"4.199999999999999\" style=\"font-family: 'Open Sans', verdana, arial, sans-serif; font-size: 12px; fill: rgb(42, 63, 95); fill-opacity: 1; white-space: pre; opacity: 1;\" transform=\"translate(0,53.69)\">3</text></g></g><g class=\"overaxes-above\"/></g></g><g class=\"polarlayer\"/><g class=\"smithlayer\"/><g class=\"ternarylayer\"/><g class=\"geolayer\"/><g class=\"funnelarealayer\"/><g class=\"pielayer\"/><g class=\"iciclelayer\"/><g class=\"treemaplayer\"/><g class=\"sunburstlayer\"/><g class=\"glimages\"/><defs id=\"topdefs-7fb8a9\"><g class=\"clips\"/><clipPath id=\"legend7fb8a9\"><rect width=\"575\" height=\"29\" x=\"0\" y=\"0\"/></clipPath></defs><g class=\"layer-above\"><g class=\"imagelayer\"/><g class=\"shapelayer\"/></g><g class=\"infolayer\"><g class=\"legend\" pointer-events=\"all\" transform=\"translate(95,11.519999999999996)\"><rect class=\"bg\" shape-rendering=\"crispEdges\" width=\"575\" height=\"29\" x=\"0\" y=\"0\" style=\"stroke: rgb(68, 68, 68); stroke-opacity: 1; fill: rgb(255, 255, 255); fill-opacity: 1; stroke-width: 0px;\"/><g class=\"scrollbox\" transform=\"\" clip-path=\"url(#legend7fb8a9)\"><g class=\"groups\"><g class=\"traces\" transform=\"translate(0,14.5)\" style=\"opacity: 1;\"><text class=\"legendtext\" text-anchor=\"start\" x=\"40\" y=\"4.680000000000001\" style=\"font-family: 'Open Sans', verdana, arial, sans-serif; font-size: 12px; fill: rgb(42, 63, 95); fill-opacity: 1; white-space: pre;\">in_sample_median</text><g class=\"layers\" style=\"opacity: 1;\"><g class=\"legendfill\"/><g class=\"legendlines\"><path class=\"js-line\" d=\"M5,0h30\" style=\"fill: none; stroke: rgb(31, 119, 180); stroke-opacity: 1; stroke-width: 2px;\"/></g><g class=\"legendsymbols\"><g class=\"legendpoints\"/></g></g><rect class=\"legendtoggle\" x=\"0\" y=\"-9.5\" width=\"146.265625\" height=\"19\" style=\"fill: rgb(0, 0, 0); fill-opacity: 0;\"/></g><g class=\"traces\" transform=\"translate(148.765625,14.5)\" style=\"opacity: 1;\"><text class=\"legendtext\" text-anchor=\"start\" x=\"40\" y=\"4.680000000000001\" style=\"font-family: 'Open Sans', verdana, arial, sans-serif; font-size: 12px; fill: rgb(42, 63, 95); fill-opacity: 1; white-space: pre;\">in_sample_best</text><g class=\"layers\" style=\"opacity: 1;\"><g class=\"legendfill\"/><g class=\"legendlines\"><path class=\"js-line\" d=\"M5,0h30\" style=\"fill: none; stroke: rgb(31, 119, 180); stroke-opacity: 1; stroke-dasharray: 9px, 9px; stroke-width: 2px;\"/></g><g class=\"legendsymbols\"><g class=\"legendpoints\"/></g></g><rect class=\"legendtoggle\" x=\"0\" y=\"-9.5\" width=\"128.8125\" height=\"19\" style=\"fill: rgb(0, 0, 0); fill-opacity: 0;\"/></g><g class=\"traces\" transform=\"translate(280.078125,14.5)\" style=\"opacity: 1;\"><text class=\"legendtext\" text-anchor=\"start\" x=\"40\" y=\"4.680000000000001\" style=\"font-family: 'Open Sans', verdana, arial, sans-serif; font-size: 12px; fill: rgb(42, 63, 95); fill-opacity: 1; white-space: pre;\">out_sample_median</text><g class=\"layers\" style=\"opacity: 1;\"><g class=\"legendfill\"/><g class=\"legendlines\"><path class=\"js-line\" d=\"M5,0h30\" style=\"fill: none; stroke: rgb(255, 127, 14); stroke-opacity: 1; stroke-width: 2px;\"/></g><g class=\"legendsymbols\"><g class=\"legendpoints\"/></g></g><rect class=\"legendtoggle\" x=\"0\" y=\"-9.5\" width=\"154.71875\" height=\"19\" style=\"fill: rgb(0, 0, 0); fill-opacity: 0;\"/></g><g class=\"traces\" transform=\"translate(437.296875,14.5)\" style=\"opacity: 1;\"><text class=\"legendtext\" text-anchor=\"start\" x=\"40\" y=\"4.680000000000001\" style=\"font-family: 'Open Sans', verdana, arial, sans-serif; font-size: 12px; fill: rgb(42, 63, 95); fill-opacity: 1; white-space: pre;\">out_sample_test</text><g class=\"layers\" style=\"opacity: 1;\"><g class=\"legendfill\"/><g class=\"legendlines\"><path class=\"js-line\" d=\"M5,0h30\" style=\"fill: none; stroke: rgb(255, 127, 14); stroke-opacity: 1; stroke-dasharray: 9px, 9px; stroke-width: 2px;\"/></g><g class=\"legendsymbols\"><g class=\"legendpoints\"/></g></g><rect class=\"legendtoggle\" x=\"0\" y=\"-9.5\" width=\"134.21875\" height=\"19\" style=\"fill: rgb(0, 0, 0); fill-opacity: 0;\"/></g></g></g><rect class=\"scrollbar\" rx=\"20\" ry=\"3\" width=\"0\" height=\"0\" x=\"0\" y=\"0\" style=\"fill: rgb(128, 139, 164); fill-opacity: 1;\"/></g><g class=\"g-gtitle\"/><g class=\"g-xtitle\"/><g class=\"g-ytitle\"/></g></svg>"
      ]
     },
     "metadata": {},
     "output_type": "display_data"
    }
   ],
   "source": [
    "cv_results_df = pd.DataFrame({\n",
    "    #'in_sample_hold': in_hold_sharpe.values,\n",
    "    'in_sample_median': in_sharpe.groupby('split_idx').median().values,\n",
    "    'in_sample_best': in_sharpe[in_best_index].values,\n",
    "    #'out_sample_hold': out_hold_sharpe.values,\n",
    "    'out_sample_median': out_sharpe.groupby('split_idx').median().values,\n",
    "    'out_sample_test': out_test_sharpe.values\n",
    "})\n",
    "\n",
    "color_schema = vbt.settings['plotting']['color_schema']\n",
    "\n",
    "cv_results_df.vbt.plot(\n",
    "    trace_kwargs=[\n",
    "        dict(line_color=color_schema['blue']),\n",
    "        dict(line_color=color_schema['blue'], line_dash='dash'),\n",
    "        #dict(line_color=color_schema['blue'], line_dash='dot'),\n",
    "        dict(line_color=color_schema['orange']),\n",
    "        dict(line_color=color_schema['orange'], line_dash='dash'),\n",
    "        #dict(line_color=color_schema['orange'], line_dash='dot')\n",
    "    ]\n",
    ").show_svg()"
   ]
  },
  {
   "cell_type": "code",
   "execution_count": 255,
   "metadata": {},
   "outputs": [
    {
     "name": "stdout",
     "output_type": "stream",
     "text": [
      "t-test statistics: -5.9815292314787\n",
      "p-value: 0.9999988893981844\n"
     ]
    }
   ],
   "source": [
    "# Perform independent t test \n",
    "## Alternative hypothesis: out-of-sample sharpe ratio > in-sample sharpe ratio if p-value < 0.05\n",
    "\n",
    "in_sample_best = in_sharpe[in_best_index].values\n",
    "out_sample_test = out_test_sharpe.values\n",
    "\n",
    "## data preprocessing - remove inf values, so it won't disrupt the t-test calculations\n",
    "df = pd.DataFrame()\n",
    "df[\"in_sample_best\"] = in_sample_best\n",
    "df[\"out_sample_test\"] = out_sample_test\n",
    "df.replace([np.inf, -np.inf], np.nan, inplace=True)\n",
    "df.dropna(inplace=True, axis=0)\n",
    "\n",
    "# independ t-test\n",
    "t, p = stats.ttest_rel(\n",
    "    a=df[\"out_sample_test\"],\n",
    "    b=df[\"in_sample_best\"],\n",
    "    alternative=\"greater\"\n",
    ")\n",
    "\n",
    "print(f\"t-test statistics: {t}\")\n",
    "# if p-value close to 1, \n",
    "# it means out-of-sample sharpe ratio is NOT greater than in-sample sharpe ratio (as shown in boxplot below)\n",
    "# and this suggest there is overfitting for your strategy \n",
    "print(f\"p-value: {p}\")"
   ]
  },
  {
   "cell_type": "code",
   "execution_count": 258,
   "metadata": {},
   "outputs": [
    {
     "data": {
      "text/plain": [
       "<Axes: >"
      ]
     },
     "execution_count": 258,
     "metadata": {},
     "output_type": "execute_result"
    },
    {
     "data": {
      "image/png": "[encoded data removed]",
      "text/plain": [
       "<Figure size 1000x600 with 1 Axes>"
      ]
     },
     "metadata": {},
     "output_type": "display_data"
    }
   ],
   "source": [
    "# a double check that in_sample sharpe ratio is much greater than out-of-sample sharpe ratio for your strategy\n",
    "df.boxplot()"
   ]
  }
 ],
 "metadata": {
  "kernelspec": {
   "display_name": "vectorbt",
   "language": "python",
   "name": "python3"
  },
  "language_info": {
   "codemirror_mode": {
    "name": "ipython",
    "version": 3
   },
   "file_extension": ".py",
   "mimetype": "text/x-python",
   "name": "python",
   "nbconvert_exporter": "python",
   "pygments_lexer": "ipython3",
   "version": "3.9.17"
  },
  "orig_nbformat": 4
 },
 "nbformat": 4,
 "nbformat_minor": 2
}
