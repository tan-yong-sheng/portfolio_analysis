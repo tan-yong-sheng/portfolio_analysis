{
 "cells": [
  {
   "cell_type": "markdown",
   "metadata": {},
   "source": [
    "### VectorBT Pro - Aligning MTF time series Data with Resampling"
   ]
  },
  {
   "cell_type": "markdown",
   "metadata": {},
   "source": [
    "Reference: https://qubitquants.pro/aligning-mtf-data/index.html"
   ]
  },
  {
   "cell_type": "code",
   "execution_count": 11,
   "metadata": {},
   "outputs": [],
   "source": [
    "import vectorbt as vbt\n",
    "import pandas"
   ]
  },
  {
   "cell_type": "code",
   "execution_count": 2,
   "metadata": {},
   "outputs": [
    {
     "name": "stdout",
     "output_type": "stream",
     "text": [
      "                                   Open          High           Low  \\\n",
      "Datetime                                                              \n",
      "2023-08-03 12:43:00+00:00  29083.423828  29083.423828  29083.423828   \n",
      "2023-08-03 12:44:00+00:00  29095.437500  29095.437500  29095.437500   \n",
      "2023-08-03 12:45:00+00:00  29088.664062  29088.664062  29088.664062   \n",
      "2023-08-03 12:46:00+00:00  29076.572266  29076.572266  29076.572266   \n",
      "2023-08-03 12:47:00+00:00  29073.769531  29073.769531  29073.769531   \n",
      "...                                 ...           ...           ...   \n",
      "2023-08-10 12:35:00+00:00  29570.041016  29570.041016  29570.041016   \n",
      "2023-08-10 12:36:00+00:00  29566.263672  29566.263672  29566.263672   \n",
      "2023-08-10 12:37:00+00:00  29564.951172  29564.951172  29564.951172   \n",
      "2023-08-10 12:38:00+00:00  29555.578125  29555.578125  29555.578125   \n",
      "2023-08-10 12:39:00+00:00  29508.492188  29508.492188  29508.492188   \n",
      "\n",
      "                                  Close    Volume  \n",
      "Datetime                                           \n",
      "2023-08-03 12:43:00+00:00  29083.423828         0  \n",
      "2023-08-03 12:44:00+00:00  29095.437500   1165312  \n",
      "2023-08-03 12:45:00+00:00  29088.664062   7231488  \n",
      "2023-08-03 12:46:00+00:00  29076.572266  13459456  \n",
      "2023-08-03 12:47:00+00:00  29073.769531         0  \n",
      "...                                 ...       ...  \n",
      "2023-08-10 12:35:00+00:00  29570.041016  10916864  \n",
      "2023-08-10 12:36:00+00:00  29566.263672         0  \n",
      "2023-08-10 12:37:00+00:00  29564.951172    736256  \n",
      "2023-08-10 12:38:00+00:00  29555.578125         0  \n",
      "2023-08-10 12:39:00+00:00  29508.492188   1810432  \n",
      "\n",
      "[10057 rows x 5 columns]\n"
     ]
    }
   ],
   "source": [
    "cols = [\"Open\",\"High\",\"Low\",\"Close\",\"Volume\"]\n",
    "m1_data= vbt.YFData.download(\"BTC-USD\", missing_index=True, interval=\"1m\").get(cols)\n",
    "print(m1_data)"
   ]
  },
  {
   "cell_type": "code",
   "execution_count": 3,
   "metadata": {},
   "outputs": [],
   "source": [
    "# resample 1 min data to different timeframe\n",
    "m15_data = m1_data.resample(\"15T\").last()\n",
    "h1_data = m1_data.resample(\"1h\").last()\n",
    "h4_data = m1_data.resample(\"4h\").last()"
   ]
  },
  {
   "cell_type": "code",
   "execution_count": 4,
   "metadata": {},
   "outputs": [
    {
     "name": "stdout",
     "output_type": "stream",
     "text": [
      "================ 15 min close ==================\n",
      "Datetime\n",
      "2023-08-03 12:30:00+00:00    29095.437500\n",
      "2023-08-03 12:45:00+00:00    29072.644531\n",
      "2023-08-03 13:00:00+00:00    29110.406250\n",
      "2023-08-03 13:15:00+00:00    29114.136719\n",
      "2023-08-03 13:30:00+00:00    29149.416016\n",
      "                                 ...     \n",
      "2023-08-10 11:30:00+00:00    29470.228516\n",
      "2023-08-10 11:45:00+00:00    29470.025391\n",
      "2023-08-10 12:00:00+00:00    29480.224609\n",
      "2023-08-10 12:15:00+00:00    29528.027344\n",
      "2023-08-10 12:30:00+00:00    29508.492188\n",
      "Freq: 15T, Name: Close, Length: 673, dtype: float64\n"
     ]
    }
   ],
   "source": [
    "# m15 close\n",
    "m15_close = m15_data.Close\n",
    "\n",
    "# h4 data\n",
    "h4_open = h4_data.Open\n",
    "h4_close = h4_data.Close\n",
    "h4_high = h4_data.High\n",
    "h4_low = h4_data.Low\n",
    "\n",
    "## h1 data\n",
    "h1_open  = h1_data.Open\n",
    "h1_close = h1_data.Close\n",
    "h1_high  = h1_data.High\n",
    "h1_low   = h1_data.Low\n",
    "\n",
    "print(\"================ 15 min close ==================\")\n",
    "print(m15_close)"
   ]
  },
  {
   "cell_type": "code",
   "execution_count": 5,
   "metadata": {},
   "outputs": [],
   "source": [
    "rsi_period = 21\n",
    "\n",
    "# 15m indicators\n",
    "m15_rsi = vbt.talib(\"RSI\").run(m15_close,[rsi_period]).real.ffill()\n",
    "m15_bbands = vbt.talib(\"BBANDS\").run(m15_close)\n",
    "m15_bbands_rsi = vbt.talib(\"BBANDS\").run(m15_rsi)\n",
    "\n",
    "# h4 indicators\n",
    "h4_rsi = vbt.talib(\"RSI\").run(h4_close).real.ffill()\n",
    "h4_bbands = vbt.talib(\"BBANDS\").run(h4_close)\n",
    "h4_bbands_rsi = vbt.talib(\"BBANDS\").run(h4_rsi)"
   ]
  },
  {
   "cell_type": "code",
   "execution_count": 20,
   "metadata": {},
   "outputs": [],
   "source": [
    "## Initialize  dictionary\n",
    "data = {}\n",
    "\n",
    "col_values = [\n",
    "    m15_close, m15_rsi, m15_bbands.upperband, m15_bbands.middleband, m15_bbands.lowerband, \n",
    "    m15_bbands_rsi.upperband, m15_bbands_rsi.middleband, m15_bbands_rsi.lowerband\n",
    "    ]\n",
    "\n",
    "col_keys = [\n",
    "    \"m15_close\", \"m15_rsi\", \"m15_bband_price_upper\",  \"m15_bband_price_middle\", \"m15_bband_price_lower\", \n",
    "    \"m15_bband_rsi_upper\",  \"m15_bband_rsi_middle\", \"m15_bband_rsi_lower\"\n",
    "         ]\n",
    "\n",
    "# Assign key, value pairs for method of time series data to store in data dict\n",
    "for key, time_series in zip(col_keys, col_values):\n",
    "    data[key] = time_series.ffill()"
   ]
  },
  {
   "cell_type": "code",
   "execution_count": 21,
   "metadata": {},
   "outputs": [
    {
     "data": {
      "text/plain": [
       "{'m15_close': Datetime\n",
       " 2023-08-03 12:30:00+00:00    29095.437500\n",
       " 2023-08-03 12:45:00+00:00    29072.644531\n",
       " 2023-08-03 13:00:00+00:00    29110.406250\n",
       " 2023-08-03 13:15:00+00:00    29114.136719\n",
       " 2023-08-03 13:30:00+00:00    29149.416016\n",
       "                                  ...     \n",
       " 2023-08-10 11:30:00+00:00    29470.228516\n",
       " 2023-08-10 11:45:00+00:00    29470.025391\n",
       " 2023-08-10 12:00:00+00:00    29480.224609\n",
       " 2023-08-10 12:15:00+00:00    29528.027344\n",
       " 2023-08-10 12:30:00+00:00    29508.492188\n",
       " Freq: 15T, Name: Close, Length: 673, dtype: float64,\n",
       " 'm15_rsi': Datetime\n",
       " 2023-08-03 12:30:00+00:00          NaN\n",
       " 2023-08-03 12:45:00+00:00          NaN\n",
       " 2023-08-03 13:00:00+00:00          NaN\n",
       " 2023-08-03 13:15:00+00:00          NaN\n",
       " 2023-08-03 13:30:00+00:00          NaN\n",
       "                                ...    \n",
       " 2023-08-10 11:30:00+00:00    43.169417\n",
       " 2023-08-10 11:45:00+00:00    43.144205\n",
       " 2023-08-10 12:00:00+00:00    44.842529\n",
       " 2023-08-10 12:15:00+00:00    51.911583\n",
       " 2023-08-10 12:30:00+00:00    49.205601\n",
       " Freq: 15T, Name: (21, Close), Length: 673, dtype: float64,\n",
       " 'm15_bband_price_upper': Datetime\n",
       " 2023-08-03 12:30:00+00:00             NaN\n",
       " 2023-08-03 12:45:00+00:00             NaN\n",
       " 2023-08-03 13:00:00+00:00             NaN\n",
       " 2023-08-03 13:15:00+00:00             NaN\n",
       " 2023-08-03 13:30:00+00:00    29158.732973\n",
       "                                  ...     \n",
       " 2023-08-10 11:30:00+00:00    29536.229728\n",
       " 2023-08-10 11:45:00+00:00    29536.939077\n",
       " 2023-08-10 12:00:00+00:00    29521.097319\n",
       " 2023-08-10 12:15:00+00:00    29531.691875\n",
       " 2023-08-10 12:30:00+00:00    29537.561934\n",
       " Freq: 15T, Name: Close, Length: 673, dtype: float64,\n",
       " 'm15_bband_price_middle': Datetime\n",
       " 2023-08-03 12:30:00+00:00             NaN\n",
       " 2023-08-03 12:45:00+00:00             NaN\n",
       " 2023-08-03 13:00:00+00:00             NaN\n",
       " 2023-08-03 13:15:00+00:00             NaN\n",
       " 2023-08-03 13:30:00+00:00    29108.408203\n",
       "                                  ...     \n",
       " 2023-08-10 11:30:00+00:00    29500.607031\n",
       " 2023-08-10 11:45:00+00:00    29494.038281\n",
       " 2023-08-10 12:00:00+00:00    29486.157422\n",
       " 2023-08-10 12:15:00+00:00    29488.473438\n",
       " 2023-08-10 12:30:00+00:00    29491.399609\n",
       " Freq: 15T, Name: Close, Length: 673, dtype: float64,\n",
       " 'm15_bband_price_lower': Datetime\n",
       " 2023-08-03 12:30:00+00:00             NaN\n",
       " 2023-08-03 12:45:00+00:00             NaN\n",
       " 2023-08-03 13:00:00+00:00             NaN\n",
       " 2023-08-03 13:15:00+00:00             NaN\n",
       " 2023-08-03 13:30:00+00:00    29058.083433\n",
       "                                  ...     \n",
       " 2023-08-10 11:30:00+00:00    29464.984335\n",
       " 2023-08-10 11:45:00+00:00    29451.137486\n",
       " 2023-08-10 12:00:00+00:00    29451.217524\n",
       " 2023-08-10 12:15:00+00:00    29445.255000\n",
       " 2023-08-10 12:30:00+00:00    29445.237285\n",
       " Freq: 15T, Name: Close, Length: 673, dtype: float64,\n",
       " 'm15_bband_rsi_upper': Datetime\n",
       " 2023-08-03 12:30:00+00:00          NaN\n",
       " 2023-08-03 12:45:00+00:00          NaN\n",
       " 2023-08-03 13:00:00+00:00          NaN\n",
       " 2023-08-03 13:15:00+00:00          NaN\n",
       " 2023-08-03 13:30:00+00:00          NaN\n",
       "                                ...    \n",
       " 2023-08-10 11:30:00+00:00    51.842787\n",
       " 2023-08-10 11:45:00+00:00    51.959300\n",
       " 2023-08-10 12:00:00+00:00    49.861319\n",
       " 2023-08-10 12:15:00+00:00    52.317240\n",
       " 2023-08-10 12:30:00+00:00    53.480139\n",
       " Freq: 15T, Name: (21, Close), Length: 673, dtype: float64,\n",
       " 'm15_bband_rsi_middle': Datetime\n",
       " 2023-08-03 12:30:00+00:00          NaN\n",
       " 2023-08-03 12:45:00+00:00          NaN\n",
       " 2023-08-03 13:00:00+00:00          NaN\n",
       " 2023-08-03 13:15:00+00:00          NaN\n",
       " 2023-08-03 13:30:00+00:00          NaN\n",
       "                                ...    \n",
       " 2023-08-10 11:30:00+00:00    47.120987\n",
       " 2023-08-10 11:45:00+00:00    46.289037\n",
       " 2023-08-10 12:00:00+00:00    45.315350\n",
       " 2023-08-10 12:15:00+00:00    45.845178\n",
       " 2023-08-10 12:30:00+00:00    46.454667\n",
       " Freq: 15T, Name: (21, Close), Length: 673, dtype: float64,\n",
       " 'm15_bband_rsi_lower': Datetime\n",
       " 2023-08-03 12:30:00+00:00          NaN\n",
       " 2023-08-03 12:45:00+00:00          NaN\n",
       " 2023-08-03 13:00:00+00:00          NaN\n",
       " 2023-08-03 13:15:00+00:00          NaN\n",
       " 2023-08-03 13:30:00+00:00          NaN\n",
       "                                ...    \n",
       " 2023-08-10 11:30:00+00:00    42.399187\n",
       " 2023-08-10 11:45:00+00:00    40.618774\n",
       " 2023-08-10 12:00:00+00:00    40.769380\n",
       " 2023-08-10 12:15:00+00:00    39.373116\n",
       " 2023-08-10 12:30:00+00:00    39.429194\n",
       " Freq: 15T, Name: (21, Close), Length: 673, dtype: float64}"
      ]
     },
     "execution_count": 21,
     "metadata": {},
     "output_type": "execute_result"
    }
   ],
   "source": [
    "data"
   ]
  },
  {
   "cell_type": "code",
   "execution_count": 23,
   "metadata": {},
   "outputs": [
    {
     "ename": "KeyError",
     "evalue": "\"['h1_open', 'h1_high', 'h1_low', 'h1_close', 'h1_rsi', 'h1_bband_price_upper', 'h1_bband_price_middle', 'h1_bband_price_lower', 'h1_bband_rsi_upper', 'h1_bband_rsi_middle', 'h1_bband_rsi_lower', 'h4_open', 'h4_high', 'h4_low', 'h4_close', 'h4_rsi', 'h4_bband_price_upper', 'h4_bband_price_middle', 'h4_bband_price_lower', 'h4_bband_rsi_upper', 'h4_bband_rsi_middle', 'h4_bband_rsi_lower'] not in index\"",
     "output_type": "error",
     "traceback": [
      "\u001b[1;31m---------------------------------------------------------------------------\u001b[0m",
      "\u001b[1;31mKeyError\u001b[0m                                  Traceback (most recent call last)",
      "Cell \u001b[1;32mIn[23], line 12\u001b[0m\n\u001b[0;32m      1\u001b[0m cols_order \u001b[39m=\u001b[39m [\u001b[39m'\u001b[39m\u001b[39mm15_close\u001b[39m\u001b[39m'\u001b[39m, \u001b[39m'\u001b[39m\u001b[39mm15_rsi\u001b[39m\u001b[39m'\u001b[39m, \u001b[39m'\u001b[39m\u001b[39mm15_bband_price_upper\u001b[39m\u001b[39m'\u001b[39m,\u001b[39m'\u001b[39m\u001b[39mm15_bband_price_middle\u001b[39m\u001b[39m'\u001b[39m, \u001b[39m'\u001b[39m\u001b[39mm15_bband_price_lower\u001b[39m\u001b[39m'\u001b[39m,\n\u001b[0;32m      2\u001b[0m               \u001b[39m'\u001b[39m\u001b[39mm15_bband_rsi_upper\u001b[39m\u001b[39m'\u001b[39m,\u001b[39m'\u001b[39m\u001b[39mm15_bband_rsi_middle\u001b[39m\u001b[39m'\u001b[39m, \u001b[39m'\u001b[39m\u001b[39mm15_bband_rsi_lower\u001b[39m\u001b[39m'\u001b[39m,\n\u001b[0;32m      3\u001b[0m               \u001b[39m'\u001b[39m\u001b[39mh1_open\u001b[39m\u001b[39m'\u001b[39m, \u001b[39m'\u001b[39m\u001b[39mh1_high\u001b[39m\u001b[39m'\u001b[39m, \u001b[39m'\u001b[39m\u001b[39mh1_low\u001b[39m\u001b[39m'\u001b[39m, \u001b[39m'\u001b[39m\u001b[39mh1_close\u001b[39m\u001b[39m'\u001b[39m, \u001b[39m'\u001b[39m\u001b[39mh1_rsi\u001b[39m\u001b[39m'\u001b[39m,\n\u001b[1;32m   (...)\u001b[0m\n\u001b[0;32m      8\u001b[0m               \u001b[39m'\u001b[39m\u001b[39mh4_bband_rsi_upper\u001b[39m\u001b[39m'\u001b[39m, \u001b[39m'\u001b[39m\u001b[39mh4_bband_rsi_middle\u001b[39m\u001b[39m'\u001b[39m, \u001b[39m'\u001b[39m\u001b[39mh4_bband_rsi_lower\u001b[39m\u001b[39m'\u001b[39m\n\u001b[0;32m      9\u001b[0m               ]\n\u001b[0;32m     11\u001b[0m \u001b[39m## construct a multi-timeframe dataframe\u001b[39;00m\n\u001b[1;32m---> 12\u001b[0m mtf_df \u001b[39m=\u001b[39m pandas\u001b[39m.\u001b[39;49mDataFrame(data)[cols_order]\n\u001b[0;32m     13\u001b[0m display(mtf_df)   \n",
      "File \u001b[1;32mc:\\Users\\yongsheng.tan\\AppData\\Local\\miniconda3\\envs\\vectorbt\\lib\\site-packages\\pandas\\core\\frame.py:3767\u001b[0m, in \u001b[0;36mDataFrame.__getitem__\u001b[1;34m(self, key)\u001b[0m\n\u001b[0;32m   3765\u001b[0m     \u001b[39mif\u001b[39;00m is_iterator(key):\n\u001b[0;32m   3766\u001b[0m         key \u001b[39m=\u001b[39m \u001b[39mlist\u001b[39m(key)\n\u001b[1;32m-> 3767\u001b[0m     indexer \u001b[39m=\u001b[39m \u001b[39mself\u001b[39;49m\u001b[39m.\u001b[39;49mcolumns\u001b[39m.\u001b[39;49m_get_indexer_strict(key, \u001b[39m\"\u001b[39;49m\u001b[39mcolumns\u001b[39;49m\u001b[39m\"\u001b[39;49m)[\u001b[39m1\u001b[39m]\n\u001b[0;32m   3769\u001b[0m \u001b[39m# take() does not accept boolean indexers\u001b[39;00m\n\u001b[0;32m   3770\u001b[0m \u001b[39mif\u001b[39;00m \u001b[39mgetattr\u001b[39m(indexer, \u001b[39m\"\u001b[39m\u001b[39mdtype\u001b[39m\u001b[39m\"\u001b[39m, \u001b[39mNone\u001b[39;00m) \u001b[39m==\u001b[39m \u001b[39mbool\u001b[39m:\n",
      "File \u001b[1;32mc:\\Users\\yongsheng.tan\\AppData\\Local\\miniconda3\\envs\\vectorbt\\lib\\site-packages\\pandas\\core\\indexes\\base.py:5877\u001b[0m, in \u001b[0;36mIndex._get_indexer_strict\u001b[1;34m(self, key, axis_name)\u001b[0m\n\u001b[0;32m   5874\u001b[0m \u001b[39melse\u001b[39;00m:\n\u001b[0;32m   5875\u001b[0m     keyarr, indexer, new_indexer \u001b[39m=\u001b[39m \u001b[39mself\u001b[39m\u001b[39m.\u001b[39m_reindex_non_unique(keyarr)\n\u001b[1;32m-> 5877\u001b[0m \u001b[39mself\u001b[39;49m\u001b[39m.\u001b[39;49m_raise_if_missing(keyarr, indexer, axis_name)\n\u001b[0;32m   5879\u001b[0m keyarr \u001b[39m=\u001b[39m \u001b[39mself\u001b[39m\u001b[39m.\u001b[39mtake(indexer)\n\u001b[0;32m   5880\u001b[0m \u001b[39mif\u001b[39;00m \u001b[39misinstance\u001b[39m(key, Index):\n\u001b[0;32m   5881\u001b[0m     \u001b[39m# GH 42790 - Preserve name from an Index\u001b[39;00m\n",
      "File \u001b[1;32mc:\\Users\\yongsheng.tan\\AppData\\Local\\miniconda3\\envs\\vectorbt\\lib\\site-packages\\pandas\\core\\indexes\\base.py:5941\u001b[0m, in \u001b[0;36mIndex._raise_if_missing\u001b[1;34m(self, key, indexer, axis_name)\u001b[0m\n\u001b[0;32m   5938\u001b[0m     \u001b[39mraise\u001b[39;00m \u001b[39mKeyError\u001b[39;00m(\u001b[39mf\u001b[39m\u001b[39m\"\u001b[39m\u001b[39mNone of [\u001b[39m\u001b[39m{\u001b[39;00mkey\u001b[39m}\u001b[39;00m\u001b[39m] are in the [\u001b[39m\u001b[39m{\u001b[39;00maxis_name\u001b[39m}\u001b[39;00m\u001b[39m]\u001b[39m\u001b[39m\"\u001b[39m)\n\u001b[0;32m   5940\u001b[0m not_found \u001b[39m=\u001b[39m \u001b[39mlist\u001b[39m(ensure_index(key)[missing_mask\u001b[39m.\u001b[39mnonzero()[\u001b[39m0\u001b[39m]]\u001b[39m.\u001b[39munique())\n\u001b[1;32m-> 5941\u001b[0m \u001b[39mraise\u001b[39;00m \u001b[39mKeyError\u001b[39;00m(\u001b[39mf\u001b[39m\u001b[39m\"\u001b[39m\u001b[39m{\u001b[39;00mnot_found\u001b[39m}\u001b[39;00m\u001b[39m not in index\u001b[39m\u001b[39m\"\u001b[39m)\n",
      "\u001b[1;31mKeyError\u001b[0m: \"['h1_open', 'h1_high', 'h1_low', 'h1_close', 'h1_rsi', 'h1_bband_price_upper', 'h1_bband_price_middle', 'h1_bband_price_lower', 'h1_bband_rsi_upper', 'h1_bband_rsi_middle', 'h1_bband_rsi_lower', 'h4_open', 'h4_high', 'h4_low', 'h4_close', 'h4_rsi', 'h4_bband_price_upper', 'h4_bband_price_middle', 'h4_bband_price_lower', 'h4_bband_rsi_upper', 'h4_bband_rsi_middle', 'h4_bband_rsi_lower'] not in index\""
     ]
    }
   ],
   "source": [
    "cols_order = ['m15_close', 'm15_rsi', 'm15_bband_price_upper','m15_bband_price_middle', 'm15_bband_price_lower',\n",
    "              'm15_bband_rsi_upper','m15_bband_rsi_middle', 'm15_bband_rsi_lower',\n",
    "              'h1_open', 'h1_high', 'h1_low', 'h1_close', 'h1_rsi',\n",
    "              'h1_bband_price_upper', 'h1_bband_price_middle', 'h1_bband_price_lower', \n",
    "              'h1_bband_rsi_upper', 'h1_bband_rsi_middle', 'h1_bband_rsi_lower',              \n",
    "              'h4_open', 'h4_high', 'h4_low', 'h4_close', 'h4_rsi',\n",
    "              'h4_bband_price_upper', 'h4_bband_price_middle', 'h4_bband_price_lower', \n",
    "              'h4_bband_rsi_upper', 'h4_bband_rsi_middle', 'h4_bband_rsi_lower'\n",
    "              ]\n",
    "\n",
    "## construct a multi-timeframe dataframe\n",
    "mtf_df = pandas.DataFrame(data)[cols_order]\n",
    "display(mtf_df)   "
   ]
  }
 ],
 "metadata": {
  "kernelspec": {
   "display_name": "vectorbt",
   "language": "python",
   "name": "python3"
  },
  "language_info": {
   "codemirror_mode": {
    "name": "ipython",
    "version": 3
   },
   "file_extension": ".py",
   "mimetype": "text/x-python",
   "name": "python",
   "nbconvert_exporter": "python",
   "pygments_lexer": "ipython3",
   "version": "3.9.17"
  },
  "orig_nbformat": 4
 },
 "nbformat": 4,
 "nbformat_minor": 2
}
