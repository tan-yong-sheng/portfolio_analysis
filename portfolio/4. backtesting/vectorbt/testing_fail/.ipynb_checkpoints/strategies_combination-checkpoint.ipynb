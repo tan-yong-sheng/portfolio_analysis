{
 "cells": [
  {
   "cell_type": "markdown",
   "id": "65b48246-3ed1-4dbb-806c-d28e8d9dd739",
   "metadata": {},
   "source": [
    "# 4 different ways to Combine two (or more) strategies to backtest on multiple assets "
   ]
  },
  {
   "cell_type": "markdown",
   "id": "c8ef41a4-6d49-418f-a98d-9b9de63b25ca",
   "metadata": {},
   "source": [
    "Reference 0: https://github.com/polakowo/vectorbt/blob/master/tests/notebooks/indicators.ipynb\n",
    "\n",
    "Reference 1: strategy combination: https://github.com/sergio12S/youtoube/blob/master/vectorbt/combination_parameters.ipynb\n",
    "\n",
    "Reference 2 - create a custom indicator: https://greyhoundanalytics.com/blog/create-a-custom-indicator-in-vectorbt/\n",
    "\n",
    "Will refer: https://www.youtube.com/watch?v=JOdEZMcvyac&t=11658s"
   ]
  },
  {
   "cell_type": "code",
   "execution_count": 1,
   "id": "3f53cdfd-8a5d-40b6-aefb-7fbb95838fcb",
   "metadata": {},
   "outputs": [],
   "source": [
    "import pandas as pd\n",
    "import numpy\n",
    "import vectorbt as vbt\n",
    "from numba import njit"
   ]
  },
  {
   "cell_type": "code",
   "execution_count": 5,
   "id": "119245e8-6128-4d69-8471-165f6c64a9ee",
   "metadata": {},
   "outputs": [],
   "source": [
    "symbols = [\"BTC-USD\",\"ETH-USD\"]\n",
    "fast_window, slow_window, rsi_window, top, bottom = (180,240, 14, 80,20)\n",
    "fees = 0.001\n",
    "interval = \"1D\""
   ]
  },
  {
   "cell_type": "code",
   "execution_count": null,
   "id": "7ee9d9a9-0eed-4e4e-b7bf-273ef41001e6",
   "metadata": {},
   "outputs": [],
   "source": [
    "data = vbt.YFData.download(symbols,\n",
    "                           start=\"2020-01-01\", \n",
    "                           ).get(\"Close\")\n",
    "data"
   ]
  },
  {
   "cell_type": "markdown",
   "id": "848987c8-daf1-42a1-be73-17a982ec401c",
   "metadata": {},
   "source": [
    "### Approach 1: using \"&\" operator"
   ]
  },
  {
   "cell_type": "markdown",
   "id": "623a9c6e-e755-4543-b2a0-7fd284b3aefd",
   "metadata": {},
   "source": [
    "(Note: my preferred method)"
   ]
  },
  {
   "cell_type": "code",
   "execution_count": null,
   "id": "285d7c2f-48ae-49c6-a637-b28807e66348",
   "metadata": {},
   "outputs": [],
   "source": [
    "rsi = vbt.RSI.run(data, window=rsi_window, short_name =\"RSI\")\n",
    "fast = vbt.MA.run(data, window=fast_window, short_name=\"fast\")\n",
    "slow = vbt.MA.run(data, window=slow_window, short_name=\"slow\")\n",
    "\n",
    "entries = fast.ma_above(slow).vbt & rsi.rsi_below(top).vbt\n",
    "exits = fast.ma_below(slow).vbt & rsi.rsi_above(bottom).vbt\n",
    "\n",
    "pf = vbt.Portfolio.from_signals(data, entries, exits, fees=fees, freq=interval)\n",
    "pf.total_return()"
   ]
  },
  {
   "cell_type": "markdown",
   "id": "a40173ff-8329-4c54-8874-1d46f6b7ce23",
   "metadata": {},
   "source": [
    "### Approach 2: Combine indicators using to_numpy()"
   ]
  },
  {
   "cell_type": "markdown",
   "id": "00bc5318-6f95-4aee-958e-d96b77396bb8",
   "metadata": {},
   "source": [
    "- (a) built-in vbt indicator + numpy "
   ]
  },
  {
   "cell_type": "code",
   "execution_count": null,
   "id": "9294121e-8a74-4fd4-978d-781558ddcba3",
   "metadata": {},
   "outputs": [],
   "source": [
    "def get_signals(data, fast_window, slow_window, rsi_window, top, bottom):\n",
    "    rsi = vbt.RSI.run(data, window=rsi_window, short_name = \"RSI\").rsi.to_numpy()\n",
    "    fast = vbt.MA.run(data, window=fast_window, short_name=\"fast\").ma.to_numpy()\n",
    "    slow = vbt.MA.run(data, window=slow_window, short_name=\"slow\").ma.to_numpy()\n",
    "    entries = (fast > slow) & (rsi < top)\n",
    "    exits = (fast < slow) & (rsi > bottom)\n",
    "    return entries, exits\n",
    "\n",
    "entries, exits = get_signals(data, fast_window, slow_window, \n",
    "                             rsi_window, top, bottom)\n",
    "pf = vbt.Portfolio.from_signals(data, entries, exits, \n",
    "                                fees=fees, freq=interval)\n",
    "pf.total_return()  "
   ]
  },
  {
   "cell_type": "markdown",
   "id": "7ea21558-0b19-4026-8ac9-a0d052bb6179",
   "metadata": {},
   "source": [
    "- (b) talib indicator + numpy\n",
    "\n",
    "(Note: got accuracy problem for talib?)"
   ]
  },
  {
   "cell_type": "code",
   "execution_count": null,
   "id": "662480f6-0bf4-48a0-b427-1d6affb8d3d5",
   "metadata": {},
   "outputs": [],
   "source": [
    "# I try to replicate the above result with talib package but I get inconsistent result for ETH-USD\n",
    "# (e.g., ETH-USD should be -0.262052 but in this example, I get -0.242040 instead)\n",
    "## Possible Reason: talib RSI seems calculated in a very different way compared to others: https://github.com/TA-Lib/ta-lib-python/issues/448\n",
    "\n",
    "def get_signals(data, fast_window, slow_window, rsi_window, top, bottom):\n",
    "    rsi = vbt.talib(\"RSI\").run(data, timeperiod=rsi_window, short_name = \"RSI\").real.to_numpy() # talib got problem calculating RSI?\n",
    "    fast = vbt.talib(\"MA\").run(data, timeperiod=fast_window, short_name=\"fast\").real.to_numpy()\n",
    "    slow = vbt.talib(\"MA\").run(data, timeperiod=slow_window, short_name=\"slow\").real.to_numpy()\n",
    "    entries = (fast > slow) & (rsi < top)\n",
    "    exits = (fast < slow) & (rsi > bottom)\n",
    "    return entries, exits\n",
    "\n",
    "entries, exits = get_signals(data, fast_window, slow_window, \n",
    "                             rsi_window, top, bottom)\n",
    "pf = vbt.Portfolio.from_signals(data, entries, exits, \n",
    "                                fees=fees, freq=interval)\n",
    "pf.total_return()"
   ]
  },
  {
   "cell_type": "markdown",
   "id": "dc1b02eb-973e-4625-b02c-bd69fd2eb81f",
   "metadata": {},
   "source": [
    "### Approach 4: Combine indicators using vbt.IndicatorFactory"
   ]
  },
  {
   "cell_type": "code",
   "execution_count": null,
   "id": "f078f286-1786-43c1-97c2-1dc0a199933a",
   "metadata": {},
   "outputs": [],
   "source": [
    "def combine_rsi_ma(data, fast_window, slow_window, rsi_window, top, bottom):\n",
    "    rsi = vbt.RSI.run(data, window=rsi_window).rsi.to_numpy()\n",
    "    fast = vbt.MA.run(data, window=fast_window).ma.to_numpy()\n",
    "    slow = vbt.MA.run(data, window=slow_window).ma.to_numpy()\n",
    "    indicator = numpy.where((fast > slow) & (rsi < top), 1, 0)\n",
    "    indicator = numpy.where((fast < slow) & (rsi > bottom), -1, indicator)\n",
    "    return indicator\n",
    "\n",
    "indicator_rsi_ma = vbt.IndicatorFactory(\n",
    "    class_name='Combination_RSI_MA',\n",
    "    short_name='RSI_MA',\n",
    "    input_names=['close'],\n",
    "    param_names=['fast_window', 'slow_window', 'rsi_window', 'top', 'bottom'],\n",
    "    output_names=['value'],\n",
    ").from_apply_func(combine_rsi_ma, fast_window=180, \n",
    "                  slow_window=240, rsi_window=14, \n",
    "                  top=70, bottom=30)\n",
    "\n",
    "res = indicator_rsi_ma.run(\n",
    "    data,\n",
    "    fast_window=180,\n",
    "    slow_window=240,\n",
    "    rsi_window=14,\n",
    "    top=80,\n",
    "    bottom=20\n",
    ")\n",
    "\n",
    "entries = res.value_above(0) \n",
    "exits = res.value_below(0) \n",
    "\n",
    "pf = vbt.Portfolio.from_signals(data, entries, exits, \n",
    "                                fees=fees, freq=interval)\n",
    "pf.total_return()"
   ]
  },
  {
   "cell_type": "markdown",
   "id": "c8d8e8ca-8b5e-434e-8424-16bbda33697c",
   "metadata": {},
   "source": [
    "### Approach 4: Create custom indicator without built-in indicator but only vbt.IndicatorFactory"
   ]
  },
  {
   "cell_type": "code",
   "execution_count": null,
   "id": "38df9632-b8e6-43c0-ade7-fdeaa8418b72",
   "metadata": {},
   "outputs": [],
   "source": [
    "# https://vectorbt.dev/api/indicators/factory/#inputs\n",
    "# https://greyhoundanalytics.com/blog/create-a-custom-indicator-in-vectorbt/\n",
    "# https://www.youtube.com/watch?v=57hsQz70vVE&t=209s & https://github.com/mikolaje/TradingTutorial/blob/main/VectorBTTutorial/bollinger_band_strategy.ipynb"
   ]
  },
  {
   "cell_type": "code",
   "execution_count": null,
   "id": "47d8d17c-b84a-4fd8-b88b-a2756a37c82a",
   "metadata": {},
   "outputs": [],
   "source": [
    "@njit\n",
    "def apply_func_nb(price, window, lower, upper):\n",
    "    output = numpy.full(price.shape, numpy.nan, dtype=numpy.float_)\n",
    "    for col in range(price.shape[1]):\n",
    "        for i in range(window[col], price.shape[0]):\n",
    "            mean = numpy.mean(price[i - window[col]:i, col])\n",
    "            output[i, col] = lower[i, col] < mean < upper[i, col]\n",
    "    return output"
   ]
  },
  {
   "cell_type": "code",
   "execution_count": null,
   "id": "949790dc-8f29-405f-b6cb-d1a5f0a3e25d",
   "metadata": {},
   "outputs": [],
   "source": [
    "MyInd = vbt.IndicatorFactory(\n",
    "    input_names=['price'],\n",
    "    param_names=['window', 'lower', 'upper'],\n",
    "    output_names=['signal']\n",
    ").from_apply_func(\n",
    "    apply_func_nb,\n",
    "    param_settings=dict(\n",
    "        window=dict(is_array_like=True, bc_to_input=1, per_column=True),\n",
    "        lower=dict(is_array_like=True, bc_to_input=True),\n",
    "        upper=dict(is_array_like=True, bc_to_input=True)\n",
    "    )\n",
    ")"
   ]
  },
  {
   "cell_type": "code",
   "execution_count": null,
   "id": "cdef97ac-df51-417e-bd09-90ae5a3ca4fb",
   "metadata": {},
   "outputs": [],
   "source": [
    "results = MyInd.run(\n",
    "    data,\n",
    "    window=[numpy.array([2, 3]), numpy.array([3, 4])],\n",
    "    lower=numpy.array([1, 2]),\n",
    "    upper=numpy.array([3, 4]),\n",
    ")\n",
    "results.signal\n"
   ]
  },
  {
   "cell_type": "code",
   "execution_count": null,
   "id": "2c64b642-d1de-4c61-a5a8-cad580601db1",
   "metadata": {},
   "outputs": [],
   "source": [
    "entries = results.signal == 1.0\n",
    "exits = results.signal == -1.0\n",
    "pf = vbt.Portfolio.from_signals(data, entries, exits, \n",
    "                                fees=fees, freq =interval)"
   ]
  },
  {
   "cell_type": "code",
   "execution_count": null,
   "id": "de028f24-e6d9-4569-8258-c88519457fb7",
   "metadata": {},
   "outputs": [],
   "source": [
    "pf.total_return()"
   ]
  },
  {
   "cell_type": "code",
   "execution_count": null,
   "id": "fed8fcdf-cf42-460d-a03a-83d3f95c65e3",
   "metadata": {},
   "outputs": [],
   "source": []
  }
 ],
 "metadata": {
  "kernelspec": {
   "display_name": "Python 3 (ipykernel)",
   "language": "python",
   "name": "python3"
  },
  "language_info": {
   "codemirror_mode": {
    "name": "ipython",
    "version": 3
   },
   "file_extension": ".py",
   "mimetype": "text/x-python",
   "name": "python",
   "nbconvert_exporter": "python",
   "pygments_lexer": "ipython3",
   "version": "3.9.17"
  }
 },
 "nbformat": 4,
 "nbformat_minor": 5
}
