{
 "cells": [
  {
   "cell_type": "code",
   "execution_count": 1,
   "metadata": {},
   "outputs": [],
   "source": [
    "import vectorbt as vbt"
   ]
  },
  {
   "cell_type": "code",
   "execution_count": 2,
   "metadata": {},
   "outputs": [
    {
     "name": "stdout",
     "output_type": "stream",
     "text": [
      "                                   Open          High           Low  \\\n",
      "Datetime                                                              \n",
      "2023-08-02 15:21:00+00:00  29195.980469  29195.980469  29195.980469   \n",
      "2023-08-02 15:22:00+00:00  29190.132812  29190.132812  29190.132812   \n",
      "2023-08-02 15:23:00+00:00  29238.886719  29238.886719  29238.886719   \n",
      "2023-08-02 15:24:00+00:00  29253.746094  29253.746094  29253.746094   \n",
      "2023-08-02 15:25:00+00:00  29269.414062  29269.414062  29269.414062   \n",
      "...                                 ...           ...           ...   \n",
      "2023-08-09 15:13:00+00:00  29749.658203  29749.658203  29749.658203   \n",
      "2023-08-09 15:14:00+00:00  29730.675781  29730.675781  29730.675781   \n",
      "2023-08-09 15:15:00+00:00  29716.365234  29716.365234  29716.365234   \n",
      "2023-08-09 15:16:00+00:00  29726.031250  29726.031250  29726.031250   \n",
      "2023-08-09 15:17:00+00:00  29730.318359  29730.318359  29730.318359   \n",
      "\n",
      "                                  Close    Volume  \n",
      "Datetime                                           \n",
      "2023-08-02 15:21:00+00:00  29195.980469         0  \n",
      "2023-08-02 15:22:00+00:00  29190.132812  17012736  \n",
      "2023-08-02 15:23:00+00:00  29238.886719   2512896  \n",
      "2023-08-02 15:24:00+00:00  29253.746094  15349760  \n",
      "2023-08-02 15:25:00+00:00  29269.414062  69431296  \n",
      "...                                 ...       ...  \n",
      "2023-08-09 15:13:00+00:00  29749.658203  31563776  \n",
      "2023-08-09 15:14:00+00:00  29730.675781   2873344  \n",
      "2023-08-09 15:15:00+00:00  29716.365234         0  \n",
      "2023-08-09 15:16:00+00:00  29726.031250  22370304  \n",
      "2023-08-09 15:17:00+00:00  29730.318359   2406400  \n",
      "\n",
      "[10061 rows x 5 columns]\n"
     ]
    }
   ],
   "source": [
    "cols = [\"Open\",\"High\",\"Low\",\"Close\",\"Volume\"]\n",
    "m1_data= vbt.YFData.download(\"BTC-USD\", missing_index=True, interval=\"1m\").get(cols)\n",
    "print(m1_data)"
   ]
  },
  {
   "cell_type": "code",
   "execution_count": 3,
   "metadata": {},
   "outputs": [
    {
     "name": "stdout",
     "output_type": "stream",
     "text": [
      "================ 15 min close ==================\n",
      "Datetime\n",
      "2023-08-02 15:15:00+00:00    29296.445312\n",
      "2023-08-02 15:30:00+00:00    29317.310547\n",
      "2023-08-02 15:45:00+00:00    29314.318359\n",
      "2023-08-02 16:00:00+00:00    29288.859375\n",
      "2023-08-02 16:15:00+00:00    29253.548828\n",
      "                                 ...     \n",
      "2023-08-09 14:15:00+00:00    29855.462891\n",
      "2023-08-09 14:30:00+00:00    29891.080078\n",
      "2023-08-09 14:45:00+00:00    29765.621094\n",
      "2023-08-09 15:00:00+00:00    29730.675781\n",
      "2023-08-09 15:15:00+00:00    29730.318359\n",
      "Freq: 15T, Name: Close, Length: 673, dtype: float64\n"
     ]
    }
   ],
   "source": [
    "# resample 1 min data to different timeframe\n",
    "m15_data = m1_data.resample(\"15T\").last()\n",
    "h1_data = m1_data.resample(\"1h\").last()\n",
    "h4_data = m1_data.resample(\"4h\").last()\n",
    "\n",
    "# m15 close\n",
    "m15_close = m15_data.Close\n",
    "\n",
    "# h4 data\n",
    "h4_open = h4_data.Open\n",
    "h4_close = h4_data.Close\n",
    "h4_high = h4_data.High\n",
    "h4_low = h4_data.Low\n",
    "\n",
    "## h1 data\n",
    "h1_open  = h1_data.Open\n",
    "h1_close = h1_data.Close\n",
    "h1_high  = h1_data.High\n",
    "h1_low   = h1_data.Low\n",
    "\n",
    "print(\"================ 15 min close ==================\")\n",
    "print(m15_close)\n"
   ]
  },
  {
   "cell_type": "code",
   "execution_count": 4,
   "metadata": {},
   "outputs": [],
   "source": [
    "rsi_period = 21\n",
    "\n",
    "# 15m indicators\n",
    "m15_rsi = vbt.talib(\"RSI\").run(m15_close,[rsi_period]).real.ffill()\n",
    "m15_bbands = vbt.talib(\"BBANDS\").run(m15_close)\n",
    "m15_bbands_rsi = vbt.talib(\"BBANDS\").run(m15_rsi)\n",
    "\n",
    "# h4 indicators\n",
    "h4_rsi = vbt.talib(\"RSI\").run(h4_close).real.ffill()\n",
    "h4_bbands = vbt.talib(\"BBANDS\").run(h4_close)\n",
    "h4_bbands_rsi = vbt.talib(\"BBANDS\").run(h4_rsi)"
   ]
  },
  {
   "cell_type": "code",
   "execution_count": null,
   "metadata": {},
   "outputs": [],
   "source": [
    "bb_upper_fract = 0.99\n",
    "bb_lower_fract = 1.01\n",
    "\n",
    "c1_long_entry = (mtf_df['h4_low'] <= mtf_df['h4_bband_price_lower'])\n",
    "c2_long_entry = (mtf_df['m15_rsi'] <= (bb_lower_fract * mtf_df['m15_bband_rsi_lower']))"
   ]
  }
 ],
 "metadata": {
  "kernelspec": {
   "display_name": "vectorbt",
   "language": "python",
   "name": "python3"
  },
  "language_info": {
   "codemirror_mode": {
    "name": "ipython",
    "version": 3
   },
   "file_extension": ".py",
   "mimetype": "text/x-python",
   "name": "python",
   "nbconvert_exporter": "python",
   "pygments_lexer": "ipython3",
   "version": "3.9.17"
  },
  "orig_nbformat": 4
 },
 "nbformat": 4,
 "nbformat_minor": 2
}
