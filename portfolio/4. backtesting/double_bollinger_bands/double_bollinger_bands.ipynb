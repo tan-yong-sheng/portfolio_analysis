{
 "cells": [
  {
   "cell_type": "markdown",
   "metadata": {},
   "source": [
    "## Vectorbt - Dual Bollinger Bands on single asset"
   ]
  },
  {
   "cell_type": "markdown",
   "metadata": {},
   "source": [
    "Reference 1: https://greyhoundanalytics.com/blog/create-a-custom-indicator-in-vectorbt/ \n",
    "\n",
    "Reference 2: http://qubitquants.pro/strategydev/index.html"
   ]
  },
  {
   "cell_type": "code",
   "execution_count": 65,
   "metadata": {},
   "outputs": [],
   "source": [
    "import vectorbt as vbt\n",
    "import numpy"
   ]
  },
  {
   "cell_type": "code",
   "execution_count": 104,
   "metadata": {},
   "outputs": [
    {
     "name": "stdout",
     "output_type": "stream",
     "text": [
      "                                   Open          High           Low  \\\n",
      "Datetime                                                              \n",
      "2023-07-07 16:00:00+00:00  30410.642578  30412.316406  30403.056641   \n",
      "2023-07-07 16:05:00+00:00  30391.021484  30396.808594  30385.951172   \n",
      "2023-07-07 16:10:00+00:00  30395.443359  30434.644531  30395.443359   \n",
      "2023-07-07 16:15:00+00:00  30414.837891  30414.837891  30387.546875   \n",
      "2023-07-07 16:20:00+00:00  30387.925781  30387.925781  30379.187500   \n",
      "...                                 ...           ...           ...   \n",
      "2023-08-08 13:25:00+00:00  29539.755859  29547.119141  29474.988281   \n",
      "2023-08-08 13:30:00+00:00  29473.226562  29478.996094  29435.845703   \n",
      "2023-08-08 13:35:00+00:00  29429.650391  29429.650391  29367.394531   \n",
      "2023-08-08 13:40:00+00:00  29388.015625  29391.062500  29366.275391   \n",
      "2023-08-08 13:45:00+00:00  29369.138672  29373.371094  29369.138672   \n",
      "\n",
      "                                  Close     Volume  \n",
      "Datetime                                            \n",
      "2023-07-07 16:00:00+00:00  30403.056641          0  \n",
      "2023-07-07 16:05:00+00:00  30385.951172          0  \n",
      "2023-07-07 16:10:00+00:00  30431.652344          0  \n",
      "2023-07-07 16:15:00+00:00  30387.546875          0  \n",
      "2023-07-07 16:20:00+00:00  30379.187500          0  \n",
      "...                                 ...        ...  \n",
      "2023-08-08 13:25:00+00:00  29474.988281   75844608  \n",
      "2023-08-08 13:30:00+00:00  29435.845703  127014912  \n",
      "2023-08-08 13:35:00+00:00  29367.394531  103453696  \n",
      "2023-08-08 13:40:00+00:00  29366.894531  118000640  \n",
      "2023-08-08 13:45:00+00:00  29373.371094    4929536  \n",
      "\n",
      "[9190 rows x 5 columns]\n"
     ]
    }
   ],
   "source": [
    "cols = ['Open', 'High', 'Low', 'Close', 'Volume']\n",
    "ohlcv = vbt.YFData.download(\"BTC-USD\", missing_index=\"drop\",\n",
    "                            start=\"07-08-2023\",\n",
    "                            interval=\"5m\").get(cols)\n",
    "print(ohlcv)"
   ]
  },
  {
   "cell_type": "code",
   "execution_count": 113,
   "metadata": {},
   "outputs": [
    {
     "data": {
      "text/plain": [
       "Datetime\n",
       "2023-07-07 16:00:00+00:00    30403.056641\n",
       "2023-07-07 17:00:00+00:00    30356.871094\n",
       "2023-07-07 18:00:00+00:00    30247.949219\n",
       "2023-07-07 19:00:00+00:00    30174.451172\n",
       "2023-07-07 20:00:00+00:00    30228.275391\n",
       "                                 ...     \n",
       "2023-08-08 09:00:00+00:00    29144.730469\n",
       "2023-08-08 10:00:00+00:00    29164.953125\n",
       "2023-08-08 11:00:00+00:00    29310.738281\n",
       "2023-08-08 12:00:00+00:00    29343.025391\n",
       "2023-08-08 13:00:00+00:00    29611.146484\n",
       "Freq: H, Name: Close, Length: 766, dtype: float64"
      ]
     },
     "execution_count": 113,
     "metadata": {},
     "output_type": "execute_result"
    }
   ],
   "source": [
    "ohlcv[\"Close\"].resample(\"1h\").asfreq()"
   ]
  },
  {
   "cell_type": "code",
   "execution_count": 116,
   "metadata": {},
   "outputs": [
    {
     "data": {
      "text/plain": [
       "Datetime\n",
       "2023-07-07 16:00:00+00:00    30225.230469\n",
       "2023-07-07 20:00:00+00:00    30338.564453\n",
       "2023-07-08 00:00:00+00:00    30287.886719\n",
       "2023-07-08 04:00:00+00:00    30201.736328\n",
       "2023-07-08 08:00:00+00:00    30208.083984\n",
       "                                 ...     \n",
       "2023-08-07 20:00:00+00:00    29183.974609\n",
       "2023-08-08 00:00:00+00:00    29179.650391\n",
       "2023-08-08 04:00:00+00:00    29160.099609\n",
       "2023-08-08 08:00:00+00:00    29397.947266\n",
       "2023-08-08 12:00:00+00:00    29373.371094\n",
       "Freq: 4H, Name: High, Length: 192, dtype: float64"
      ]
     },
     "execution_count": 116,
     "metadata": {},
     "output_type": "execute_result"
    }
   ],
   "source": [
    "ohlcv[\"High\"].resample(\"4h\").last()"
   ]
  },
  {
   "cell_type": "code",
   "execution_count": 119,
   "metadata": {},
   "outputs": [],
   "source": [
    "h4_BBANDS = vbt.BBANDS.run(ohlcv[\"Close\"], window=240)\n",
    "m15_BBANDS = vbt.BBANDS.run(ohlcv[\"Close\"], window=15)\n",
    "m15_RSI = vbt.RSI.run(ohlcv[\"Close\"], window=15) # 15 * 1min = 15 min RSI"
   ]
  },
  {
   "cell_type": "markdown",
   "metadata": {},
   "source": [
    "entry\n",
    "1. H4 \"Low\" price goes below its lower Bollinger band\n",
    "2. 15m RSI goes below its lower Bollinger band\n",
    "\n",
    "exit\n",
    "1. H4 \"High\" price breaks its upper Bollinger band\n",
    "2. 15m RSI breaks above its upper Bollinger band"
   ]
  },
  {
   "cell_type": "code",
   "execution_count": 122,
   "metadata": {},
   "outputs": [],
   "source": [
    "## The two variables `bb_upper_fract` and `bb_lower_fract` are simply some adjustment \n",
    "# parameters for the RSI bollinger bands and they are explained at the end of this article.\n",
    "\n",
    "entries = h4_BBANDS.lower_above(ohlcv[\"Low\"])\\\n",
    "                & m15_RSI.rsi_below(m15_BBANDS.upper)\n",
    "exits = h4_BBANDS.upper_below(ohlcv[\"High\"])\\\n",
    "                    & m15_RSI.rsi_above(m15_BBANDS.upper)"
   ]
  },
  {
   "cell_type": "code",
   "execution_count": 127,
   "metadata": {},
   "outputs": [
    {
     "data": {
      "text/plain": [
       "Datetime\n",
       "2023-07-07 16:00:00+00:00    30403.056641\n",
       "2023-07-07 16:05:00+00:00    30385.951172\n",
       "2023-07-07 16:10:00+00:00    30395.443359\n",
       "2023-07-07 16:15:00+00:00    30387.546875\n",
       "2023-07-07 16:20:00+00:00    30379.187500\n",
       "                                 ...     \n",
       "2023-08-08 13:25:00+00:00    29474.988281\n",
       "2023-08-08 13:30:00+00:00    29435.845703\n",
       "2023-08-08 13:35:00+00:00    29367.394531\n",
       "2023-08-08 13:40:00+00:00    29366.275391\n",
       "2023-08-08 13:45:00+00:00    29369.138672\n",
       "Freq: 5T, Name: Low, Length: 9190, dtype: float64"
      ]
     },
     "execution_count": 127,
     "metadata": {},
     "output_type": "execute_result"
    }
   ],
   "source": [
    "ohlcv[\"Low\"]"
   ]
  },
  {
   "cell_type": "code",
   "execution_count": 126,
   "metadata": {},
   "outputs": [
    {
     "data": {
      "text/plain": [
       "(9190,)"
      ]
     },
     "execution_count": 126,
     "metadata": {},
     "output_type": "execute_result"
    }
   ],
   "source": [
    "m15_BBANDS.middle.shape"
   ]
  },
  {
   "cell_type": "code",
   "execution_count": 123,
   "metadata": {},
   "outputs": [
    {
     "data": {
      "text/plain": [
       "0"
      ]
     },
     "execution_count": 123,
     "metadata": {},
     "output_type": "execute_result"
    }
   ],
   "source": [
    "exits.sum()"
   ]
  },
  {
   "cell_type": "code",
   "execution_count": 125,
   "metadata": {},
   "outputs": [
    {
     "data": {
      "text/plain": [
       "685"
      ]
     },
     "execution_count": 125,
     "metadata": {},
     "output_type": "execute_result"
    }
   ],
   "source": [
    "entries.sum()"
   ]
  }
 ],
 "metadata": {
  "kernelspec": {
   "display_name": "vectorbt",
   "language": "python",
   "name": "python3"
  },
  "language_info": {
   "codemirror_mode": {
    "name": "ipython",
    "version": 3
   },
   "file_extension": ".py",
   "mimetype": "text/x-python",
   "name": "python",
   "nbconvert_exporter": "python",
   "pygments_lexer": "ipython3",
   "version": "3.9.17"
  },
  "orig_nbformat": 4
 },
 "nbformat": 4,
 "nbformat_minor": 2
}
