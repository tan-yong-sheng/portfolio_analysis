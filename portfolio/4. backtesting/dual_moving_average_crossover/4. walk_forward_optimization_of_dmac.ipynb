{
 "cells": [
  {
   "cell_type": "markdown",
   "metadata": {},
   "source": [
    "# Walk forward optimization"
   ]
  },
  {
   "cell_type": "markdown",
   "metadata": {},
   "source": [
    "Reference 1: https://wire.insiderfinance.io/advanced-backtesting-on-nifty-using-walk-forward-analysis-in-python-90da743fcf78\n",
    "\n",
    "Reference 2: https://pyquantnews.com/1000000-backtest-simulations-20-seconds-vectorbt/"
   ]
  },
  {
   "cell_type": "markdown",
   "metadata": {},
   "source": []
  },
  {
   "cell_type": "code",
   "execution_count": null,
   "metadata": {},
   "outputs": [],
   "source": []
  },
  {
   "cell_type": "code",
   "execution_count": null,
   "metadata": {},
   "outputs": [],
   "source": []
  }
 ],
 "metadata": {
  "language_info": {
   "name": "python"
  },
  "orig_nbformat": 4
 },
 "nbformat": 4,
 "nbformat_minor": 2
}
