{
 "cells": [
  {
   "cell_type": "markdown",
   "metadata": {},
   "source": [
    "# Walk forward optimization"
   ]
  },
  {
   "cell_type": "markdown",
   "metadata": {},
   "source": [
    "Reference 1: https://wire.insiderfinance.io/advanced-backtesting-on-nifty-using-walk-forward-analysis-in-python-90da743fcf78\n",
    "\n",
    "Reference 2: https://pyquantnews.com/1000000-backtest-simulations-20-seconds-vectorbt/\n",
    "\n",
    "Reference 3: https://algotrading101.com/learn/walk-forward-optimization/\n",
    "\n",
    "Reference 4 - Interpreting Walk forward Optimization reuslt: https://www.tradelikeamachine.com/backtesting-software-walk-forward-pro/user-guide/interpreting-walk-forward-results"
   ]
  },
  {
   "cell_type": "markdown",
   "metadata": {},
   "source": []
  },
  {
   "cell_type": "markdown",
   "metadata": {},
   "source": []
  },
  {
   "cell_type": "code",
   "execution_count": 41,
   "metadata": {},
   "outputs": [],
   "source": [
    "import numpy as np\n",
    "import scipy.stats as stats\n",
    "import vectorbt as vbt"
   ]
  },
  {
   "cell_type": "code",
   "execution_count": 42,
   "metadata": {},
   "outputs": [],
   "source": [
    "windows = np.arange(10, 50)\n",
    "price = vbt.YFData.download('AAPL').get('Close')"
   ]
  },
  {
   "cell_type": "code",
   "execution_count": 43,
   "metadata": {},
   "outputs": [],
   "source": [
    "(in_price, in_indexes), (out_price, out_indexes) = price.vbt.rolling_split(\n",
    "    n=30, \n",
    "    window_len=365 * 2,\n",
    "    set_lens=(180,),\n",
    "    left_to_right=False,\n",
    ")\n",
    "# Here n = 30 means we are dividing our total datapoints into 30 different windows, with each window lenght *2 from which\n",
    "# 450 are insample data and 50 are out of the sample data"
   ]
  },
  {
   "cell_type": "code",
   "execution_count": 44,
   "metadata": {},
   "outputs": [],
   "source": [
    "def simulate_all_params(price, windows, **kwargs):\n",
    "    fast_ma, slow_ma = vbt.MA.run_combs(\n",
    "        price, windows, r=2, short_names=[\"fast\", \"slow\"]\n",
    "    )\n",
    "    entries = fast_ma.ma_crossed_above(slow_ma)\n",
    "    exits = fast_ma.ma_crossed_below(slow_ma)\n",
    "\n",
    "    pf = vbt.Portfolio.from_signals(price, entries, exits, **kwargs)\n",
    "    return pf.sharpe_ratio()"
   ]
  },
  {
   "cell_type": "code",
   "execution_count": 47,
   "metadata": {},
   "outputs": [],
   "source": [
    "def simulate_best_params(price, best_fast_windows, best_slow_windows, **kwargs):\n",
    "    \n",
    "    fast_ma = vbt.MA.run(price, window=best_fast_windows, per_column=True)\n",
    "    slow_ma = vbt.MA.run(price, window=best_slow_windows, per_column=True)\n",
    "\n",
    "    entries = fast_ma.ma_crossed_above(slow_ma)\n",
    "    exits = fast_ma.ma_crossed_below(slow_ma)\n",
    "\n",
    "    pf = vbt.Portfolio.from_signals(price, entries, exits, **kwargs)\n",
    "    return pf.sharpe_ratio()"
   ]
  },
  {
   "cell_type": "code",
   "execution_count": 36,
   "metadata": {},
   "outputs": [],
   "source": [
    "in_sharpe = simulate_all_params(\n",
    "    in_price, \n",
    "    windows, \n",
    "    direction=\"both\", \n",
    "    freq=\"d\"\n",
    ")"
   ]
  },
  {
   "cell_type": "code",
   "execution_count": 37,
   "metadata": {},
   "outputs": [],
   "source": [
    "out_test_sharpe = simulate_best_params(\n",
    "    out_price, \n",
    "    in_best_fast_windows, \n",
    "    in_best_slow_windows, \n",
    "    direction=\"both\", \n",
    "    freq=\"d\"\n",
    ")"
   ]
  },
  {
   "cell_type": "code",
   "execution_count": 49,
   "metadata": {},
   "outputs": [],
   "source": [
    "in_sample_best = in_sharpe[in_best_index].values\n",
    "out_sample_test = out_test_sharpe.values\n",
    "\n",
    "t, p = stats.ttest_ind(\n",
    "    a=out_sample_test,\n",
    "    b=in_sample_best,\n",
    "    alternative=\"greater\"\n",
    ")"
   ]
  },
  {
   "cell_type": "code",
   "execution_count": 50,
   "metadata": {},
   "outputs": [],
   "source": [
    "in_best_index = get_best_index(in_sharpe)\n",
    "\n",
    "in_best_fast_windows = get_best_params(\n",
    "    in_best_index,\n",
    "    'fast_window'\n",
    ")\n",
    "in_best_slow_windows = get_best_params(\n",
    "    in_best_index,\n",
    "    'slow_window'\n",
    ")\n",
    "in_best_window_pairs = np.array(\n",
    "    list(\n",
    "        zip(\n",
    "            in_best_fast_windows, \n",
    "            in_best_slow_windows\n",
    "        )\n",
    "    )\n",
    ")"
   ]
  },
  {
   "cell_type": "code",
   "execution_count": 51,
   "metadata": {},
   "outputs": [],
   "source": [
    "out_test_sharpe = simulate_best_params(\n",
    "    out_price, \n",
    "    in_best_fast_windows, \n",
    "    in_best_slow_windows, \n",
    "    direction=\"both\", \n",
    "    freq=\"d\"\n",
    ")"
   ]
  },
  {
   "cell_type": "code",
   "execution_count": 52,
   "metadata": {},
   "outputs": [],
   "source": [
    "in_sample_best = in_sharpe[in_best_index].values\n",
    "out_sample_test = out_test_sharpe.values\n",
    "\n",
    "t, p = stats.ttest_ind(\n",
    "    a=out_sample_test,\n",
    "    b=in_sample_best,\n",
    "    alternative=\"greater\"\n",
    ")"
   ]
  },
  {
   "cell_type": "code",
   "execution_count": 53,
   "metadata": {},
   "outputs": [
    {
     "data": {
      "text/plain": [
       "0.9999965553508084"
      ]
     },
     "execution_count": 53,
     "metadata": {},
     "output_type": "execute_result"
    }
   ],
   "source": [
    "p"
   ]
  }
 ],
 "metadata": {
  "kernelspec": {
   "display_name": "vectorbt",
   "language": "python",
   "name": "python3"
  },
  "language_info": {
   "codemirror_mode": {
    "name": "ipython",
    "version": 3
   },
   "file_extension": ".py",
   "mimetype": "text/x-python",
   "name": "python",
   "nbconvert_exporter": "python",
   "pygments_lexer": "ipython3",
   "version": "3.9.17"
  },
  "orig_nbformat": 4
 },
 "nbformat": 4,
 "nbformat_minor": 2
}
