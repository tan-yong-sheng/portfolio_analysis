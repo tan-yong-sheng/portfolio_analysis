{
 "cells": [
  {
   "cell_type": "code",
   "execution_count": 1,
   "metadata": {},
   "outputs": [],
   "source": [
    "# dual moving average strategy\n",
    "import vectorbt as vbt"
   ]
  },
  {
   "cell_type": "markdown",
   "metadata": {},
   "source": [
    "### 1. Get price data of Bitcoin from yahoo finance"
   ]
  },
  {
   "cell_type": "code",
   "execution_count": 9,
   "metadata": {},
   "outputs": [
    {
     "name": "stdout",
     "output_type": "stream",
     "text": [
      "Date\n",
      "2019-12-31 00:00:00+00:00     7193.599121\n",
      "2020-01-01 00:00:00+00:00     7200.174316\n",
      "2020-01-02 00:00:00+00:00     6985.470215\n",
      "2020-01-03 00:00:00+00:00     7344.884277\n",
      "2020-01-04 00:00:00+00:00     7410.656738\n",
      "                                 ...     \n",
      "2023-07-26 00:00:00+00:00    29354.972656\n",
      "2023-07-27 00:00:00+00:00    29210.689453\n",
      "2023-07-28 00:00:00+00:00    29319.246094\n",
      "2023-07-29 00:00:00+00:00    29356.917969\n",
      "2023-07-30 00:00:00+00:00    29306.162109\n",
      "Freq: D, Name: Close, Length: 1308, dtype: float64\n"
     ]
    }
   ],
   "source": [
    "\n",
    "btc_price = vbt.YFData.download(\"BTC-USD\", start=\"2020-01-01\")\n",
    "btc_close_price = btc_price.get(\"Close\")\n",
    "print(btc_close_price)"
   ]
  },
  {
   "cell_type": "code",
   "execution_count": 10,
   "metadata": {},
   "outputs": [],
   "source": [
    "SMA12 = vbt.MA.run(btc_close_price, window=12)\n",
    "SMA24 = vbt.MA.run(btc_close_price, window=24)\n",
    "RSI = vbt.RSI.run(btc_close_price, window = 12)"
   ]
  },
  {
   "cell_type": "code",
   "execution_count": 7,
   "metadata": {},
   "outputs": [],
   "source": [
    "entries = SMA12.ma_crossed_above(SMA24) & RSI.below(30)\n",
    "exits = SMA24.ma_crossed_above(SMA12) & RSI.below(70)"
   ]
  },
  {
   "cell_type": "code",
   "execution_count": 8,
   "metadata": {},
   "outputs": [
    {
     "data": {
      "text/plain": [
       "Start                         2014-09-17 00:00:00+00:00\n",
       "End                           2023-07-30 00:00:00+00:00\n",
       "Period                               3239 days 00:00:00\n",
       "Start Value                                       100.0\n",
       "End Value                                   9382.601057\n",
       "Total Return [%]                            9282.601057\n",
       "Benchmark Return [%]                        6306.994085\n",
       "Max Gross Exposure [%]                            100.0\n",
       "Total Fees Paid                                     0.0\n",
       "Max Drawdown [%]                              74.166546\n",
       "Max Drawdown Duration                 889 days 00:00:00\n",
       "Total Trades                                         71\n",
       "Total Closed Trades                                  71\n",
       "Total Open Trades                                     0\n",
       "Open Trade PnL                                      0.0\n",
       "Win Rate [%]                                  50.704225\n",
       "Best Trade [%]                                231.68396\n",
       "Worst Trade [%]                              -20.998173\n",
       "Avg Winning Trade [%]                         29.953476\n",
       "Avg Losing Trade [%]                          -8.218811\n",
       "Avg Winning Trade Duration             38 days 16:40:00\n",
       "Avg Losing Trade Duration              11 days 14:24:00\n",
       "Profit Factor                                  1.353614\n",
       "Expectancy                                    130.74086\n",
       "Sharpe Ratio                                   1.262965\n",
       "Calmar Ratio                                   0.901003\n",
       "Omega Ratio                                    1.303459\n",
       "Sortino Ratio                                  1.934082\n",
       "dtype: object"
      ]
     },
     "execution_count": 8,
     "metadata": {},
     "output_type": "execute_result"
    }
   ],
   "source": [
    "pf = vbt.Portfolio.from_signals(btc_close_price, entries, exits)\n",
    "pf.stats()"
   ]
  }
 ],
 "metadata": {
  "kernelspec": {
   "display_name": "my_quant_lab",
   "language": "python",
   "name": "python3"
  },
  "language_info": {
   "codemirror_mode": {
    "name": "ipython",
    "version": 3
   },
   "file_extension": ".py",
   "mimetype": "text/x-python",
   "name": "python",
   "nbconvert_exporter": "python",
   "pygments_lexer": "ipython3",
   "version": "3.10.9"
  },
  "orig_nbformat": 4
 },
 "nbformat": 4,
 "nbformat_minor": 2
}
