{
 "cells": [
  {
   "cell_type": "code",
   "execution_count": 1,
   "metadata": {},
   "outputs": [],
   "source": [
    "import vectorbt as vbt\n",
    "import numpy as np\n",
    "import quantstats\n",
    "import warnings\n",
    "\n",
    "warnings.filterwarnings(\"ignore\")"
   ]
  },
  {
   "cell_type": "code",
   "execution_count": 2,
   "metadata": {},
   "outputs": [
    {
     "name": "stdout",
     "output_type": "stream",
     "text": [
      "symbol                          BTC-USD      ETH-USD    LTC-USD\n",
      "Date                                                           \n",
      "2017-11-09 00:00:00+00:00   7143.580078   320.884003  64.269699\n",
      "2017-11-10 00:00:00+00:00   6618.140137   299.252991  59.260101\n",
      "2017-11-11 00:00:00+00:00   6357.600098   314.681000  62.303299\n",
      "2017-11-12 00:00:00+00:00   5950.069824   307.907990  59.005402\n",
      "2017-11-13 00:00:00+00:00   6559.490234   316.716003  61.396500\n",
      "...                                 ...          ...        ...\n",
      "2023-07-30 00:00:00+00:00  29275.308594  1861.643799  94.091057\n",
      "2023-07-31 00:00:00+00:00  29230.111328  1856.162354  92.243134\n",
      "2023-08-01 00:00:00+00:00  29675.732422  1871.792114  93.820404\n",
      "2023-08-02 00:00:00+00:00  29151.958984  1839.089722  87.489059\n",
      "2023-08-06 00:00:00+00:00  29052.117188  1830.642212  82.503464\n",
      "\n",
      "[2094 rows x 3 columns]\n"
     ]
    }
   ],
   "source": [
    "symbols = [\"BTC-USD\", \"ETH-USD\", \"LTC-USD\"]\n",
    "price = vbt.YFData.download(symbols, missing_index='drop').get('Close')\n",
    "print(price)"
   ]
  },
  {
   "cell_type": "code",
   "execution_count": 3,
   "metadata": {},
   "outputs": [],
   "source": [
    "windows = np.arange(2, 101)\n",
    "fast_ma, slow_ma = vbt.MA.run_combs(price, window=windows, r=2, short_names=['fast', 'slow'])\n",
    "entries = fast_ma.ma_crossed_above(slow_ma)\n",
    "exits = fast_ma.ma_crossed_below(slow_ma)"
   ]
  },
  {
   "cell_type": "code",
   "execution_count": 4,
   "metadata": {},
   "outputs": [],
   "source": [
    "pf_kwargs = dict(size=np.inf, fees=0.001, freq='1D')\n",
    "pf = vbt.Portfolio.from_signals(price, entries, exits, \n",
    "                                group_by=True, \n",
    "                                cash_sharing=True,\n",
    "                                **pf_kwargs)"
   ]
  },
  {
   "cell_type": "code",
   "execution_count": 5,
   "metadata": {},
   "outputs": [
    {
     "data": {
      "text/plain": [
       "Start                         2017-11-09 00:00:00+00:00\n",
       "End                           2023-08-06 00:00:00+00:00\n",
       "Period                               2094 days 00:00:00\n",
       "Start Value                                       100.0\n",
       "End Value                                     26.374348\n",
       "Total Return [%]                             -73.625652\n",
       "Benchmark Return [%]                         268.519621\n",
       "Max Gross Exposure [%]                            100.0\n",
       "Total Fees Paid                               52.080218\n",
       "Max Drawdown [%]                              96.086697\n",
       "Max Drawdown Duration                2053 days 00:00:00\n",
       "Total Trades                                        634\n",
       "Total Closed Trades                                 633\n",
       "Total Open Trades                                     1\n",
       "Open Trade PnL                                -0.026374\n",
       "Win Rate [%]                                  46.761453\n",
       "Best Trade [%]                               152.094619\n",
       "Worst Trade [%]                              -33.178601\n",
       "Avg Winning Trade [%]                          4.851184\n",
       "Avg Losing Trade [%]                          -3.883593\n",
       "Avg Winning Trade Duration    4 days 05:45:24.324324324\n",
       "Avg Losing Trade Duration     2 days 10:15:18.694362017\n",
       "Profit Factor                                  0.894991\n",
       "Expectancy                                    -0.116271\n",
       "Sharpe Ratio                                   0.153335\n",
       "Calmar Ratio                                  -0.215745\n",
       "Omega Ratio                                    1.023888\n",
       "Sortino Ratio                                  0.220464\n",
       "Name: group, dtype: object"
      ]
     },
     "execution_count": 5,
     "metadata": {},
     "output_type": "execute_result"
    }
   ],
   "source": [
    "pf.stats()"
   ]
  },
  {
   "cell_type": "code",
   "execution_count": 6,
   "metadata": {},
   "outputs": [
    {
     "ename": "AttributeError",
     "evalue": "'numpy.float64' object has no attribute 'vbt'",
     "output_type": "error",
     "traceback": [
      "\u001b[1;31m---------------------------------------------------------------------------\u001b[0m",
      "\u001b[1;31mAttributeError\u001b[0m                            Traceback (most recent call last)",
      "Cell \u001b[1;32mIn[6], line 1\u001b[0m\n\u001b[1;32m----> 1\u001b[0m fig \u001b[39m=\u001b[39m pf\u001b[39m.\u001b[39;49mtotal_return()\u001b[39m.\u001b[39;49mvbt\u001b[39m.\u001b[39mheatmap(\n\u001b[0;32m      2\u001b[0m     x_level\u001b[39m=\u001b[39m\u001b[39m'\u001b[39m\u001b[39mfast_window\u001b[39m\u001b[39m'\u001b[39m, y_level\u001b[39m=\u001b[39m\u001b[39m'\u001b[39m\u001b[39mslow_window\u001b[39m\u001b[39m'\u001b[39m, slider_level\u001b[39m=\u001b[39m\u001b[39m'\u001b[39m\u001b[39msymbol\u001b[39m\u001b[39m'\u001b[39m, symmetric\u001b[39m=\u001b[39m\u001b[39mTrue\u001b[39;00m,\n\u001b[0;32m      3\u001b[0m     trace_kwargs\u001b[39m=\u001b[39m\u001b[39mdict\u001b[39m(colorbar\u001b[39m=\u001b[39m\u001b[39mdict\u001b[39m(title\u001b[39m=\u001b[39m\u001b[39m'\u001b[39m\u001b[39mTotal return\u001b[39m\u001b[39m'\u001b[39m, tickformat\u001b[39m=\u001b[39m\u001b[39m'\u001b[39m\u001b[39m%\u001b[39m\u001b[39m'\u001b[39m)))\n\u001b[0;32m      4\u001b[0m fig\u001b[39m.\u001b[39mshow()\n",
      "\u001b[1;31mAttributeError\u001b[0m: 'numpy.float64' object has no attribute 'vbt'"
     ]
    }
   ],
   "source": [
    "fig = pf.total_return().vbt.heatmap(\n",
    "    x_level='fast_window', y_level='slow_window', slider_level='symbol', symmetric=True,\n",
    "    trace_kwargs=dict(colorbar=dict(title='Total return', tickformat='%')))\n",
    "fig.show()"
   ]
  },
  {
   "cell_type": "code",
   "execution_count": null,
   "metadata": {},
   "outputs": [
    {
     "data": {
      "text/plain": [
       "Start                         2017-11-09 00:00:00+00:00\n",
       "End                           2023-08-05 00:00:00+00:00\n",
       "Period                               2094 days 00:00:00\n",
       "Start Value                                       100.0\n",
       "End Value                                   1701.052965\n",
       "Total Return [%]                            1601.052965\n",
       "Benchmark Return [%]                         470.884551\n",
       "Max Gross Exposure [%]                            100.0\n",
       "Total Fees Paid                               97.402643\n",
       "Max Drawdown [%]                              70.734951\n",
       "Max Drawdown Duration                 759 days 00:00:00\n",
       "Total Trades                                         54\n",
       "Total Closed Trades                                  54\n",
       "Total Open Trades                                     0\n",
       "Open Trade PnL                                      0.0\n",
       "Win Rate [%]                                  44.444444\n",
       "Best Trade [%]                               120.511071\n",
       "Worst Trade [%]                              -27.772271\n",
       "Avg Winning Trade [%]                         30.377349\n",
       "Avg Losing Trade [%]                          -9.385574\n",
       "Avg Winning Trade Duration             33 days 13:00:00\n",
       "Avg Losing Trade Duration               8 days 18:24:00\n",
       "Profit Factor                                  1.636125\n",
       "Expectancy                                    29.649129\n",
       "Sharpe Ratio                                   1.076508\n",
       "Calmar Ratio                                   0.903076\n",
       "Omega Ratio                                    1.253497\n",
       "Sortino Ratio                                  1.621257\n",
       "Name: (10, 20, ETH-USD), dtype: object"
      ]
     },
     "execution_count": 22,
     "metadata": {},
     "output_type": "execute_result"
    }
   ],
   "source": [
    "pf[(10, 20, 'ETH-USD')].stats()"
   ]
  }
 ],
 "metadata": {
  "kernelspec": {
   "display_name": "vectorbt",
   "language": "python",
   "name": "python3"
  },
  "language_info": {
   "codemirror_mode": {
    "name": "ipython",
    "version": 3
   },
   "file_extension": ".py",
   "mimetype": "text/x-python",
   "name": "python",
   "nbconvert_exporter": "python",
   "pygments_lexer": "ipython3",
   "version": "3.9.17"
  },
  "orig_nbformat": 4
 },
 "nbformat": 4,
 "nbformat_minor": 2
}
