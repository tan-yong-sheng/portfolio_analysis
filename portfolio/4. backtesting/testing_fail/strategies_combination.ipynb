{
 "cells": [
  {
   "cell_type": "markdown",
   "id": "65b48246-3ed1-4dbb-806c-d28e8d9dd739",
   "metadata": {},
   "source": [
    "# 4 different ways to Combine two (or more) strategies to backtest on multiple assets "
   ]
  },
  {
   "cell_type": "markdown",
   "id": "c8ef41a4-6d49-418f-a98d-9b9de63b25ca",
   "metadata": {},
   "source": [
    "Reference 0: https://github.com/polakowo/vectorbt/blob/master/tests/notebooks/indicators.ipynb\n",
    "\n",
    "Reference 1: strategy combination: https://github.com/sergio12S/youtoube/blob/master/vectorbt/combination_parameters.ipynb\n",
    "\n",
    "Reference 2 - create a custom indicator: https://greyhoundanalytics.com/blog/create-a-custom-indicator-in-vectorbt/\n",
    "\n",
    "Will refer: https://www.youtube.com/watch?v=JOdEZMcvyac&t=11658s"
   ]
  },
  {
   "cell_type": "code",
   "execution_count": 1,
   "id": "3f53cdfd-8a5d-40b6-aefb-7fbb95838fcb",
   "metadata": {},
   "outputs": [],
   "source": [
    "import pandas as pd\n",
    "import numpy\n",
    "import vectorbt as vbt\n",
    "from numba import njit"
   ]
  },
  {
   "cell_type": "code",
   "execution_count": 2,
   "id": "119245e8-6128-4d69-8471-165f6c64a9ee",
   "metadata": {},
   "outputs": [],
   "source": [
    "symbols = [\"BTC-USD\",\"ETH-USD\"]\n",
    "fast_window, slow_window, rsi_window, top, bottom = (180,240, 14, 80,20)\n",
    "fees = 0.001\n",
    "interval = \"1D\"\n",
    "start = \"2020-01-01\""
   ]
  },
  {
   "cell_type": "code",
   "execution_count": 3,
   "id": "7ee9d9a9-0eed-4e4e-b7bf-273ef41001e6",
   "metadata": {},
   "outputs": [
    {
     "data": {
      "text/html": [
       "<div>\n",
       "<style scoped>\n",
       "    .dataframe tbody tr th:only-of-type {\n",
       "        vertical-align: middle;\n",
       "    }\n",
       "\n",
       "    .dataframe tbody tr th {\n",
       "        vertical-align: top;\n",
       "    }\n",
       "\n",
       "    .dataframe thead th {\n",
       "        text-align: right;\n",
       "    }\n",
       "</style>\n",
       "<table border=\"1\" class=\"dataframe\">\n",
       "  <thead>\n",
       "    <tr style=\"text-align: right;\">\n",
       "      <th>symbol</th>\n",
       "      <th>BTC-USD</th>\n",
       "      <th>ETH-USD</th>\n",
       "    </tr>\n",
       "    <tr>\n",
       "      <th>Date</th>\n",
       "      <th></th>\n",
       "      <th></th>\n",
       "    </tr>\n",
       "  </thead>\n",
       "  <tbody>\n",
       "    <tr>\n",
       "      <th>2019-12-31 00:00:00+00:00</th>\n",
       "      <td>7193.599121</td>\n",
       "      <td>129.610855</td>\n",
       "    </tr>\n",
       "    <tr>\n",
       "      <th>2020-01-01 00:00:00+00:00</th>\n",
       "      <td>7200.174316</td>\n",
       "      <td>130.802002</td>\n",
       "    </tr>\n",
       "    <tr>\n",
       "      <th>2020-01-02 00:00:00+00:00</th>\n",
       "      <td>6985.470215</td>\n",
       "      <td>127.410179</td>\n",
       "    </tr>\n",
       "    <tr>\n",
       "      <th>2020-01-03 00:00:00+00:00</th>\n",
       "      <td>7344.884277</td>\n",
       "      <td>134.171707</td>\n",
       "    </tr>\n",
       "    <tr>\n",
       "      <th>2020-01-04 00:00:00+00:00</th>\n",
       "      <td>7410.656738</td>\n",
       "      <td>135.069366</td>\n",
       "    </tr>\n",
       "    <tr>\n",
       "      <th>...</th>\n",
       "      <td>...</td>\n",
       "      <td>...</td>\n",
       "    </tr>\n",
       "    <tr>\n",
       "      <th>2023-08-15 00:00:00+00:00</th>\n",
       "      <td>29170.347656</td>\n",
       "      <td>1826.932739</td>\n",
       "    </tr>\n",
       "    <tr>\n",
       "      <th>2023-08-16 00:00:00+00:00</th>\n",
       "      <td>28701.779297</td>\n",
       "      <td>1805.659058</td>\n",
       "    </tr>\n",
       "    <tr>\n",
       "      <th>2023-08-17 00:00:00+00:00</th>\n",
       "      <td>26664.550781</td>\n",
       "      <td>1684.933472</td>\n",
       "    </tr>\n",
       "    <tr>\n",
       "      <th>2023-08-18 00:00:00+00:00</th>\n",
       "      <td>26049.556641</td>\n",
       "      <td>1660.945068</td>\n",
       "    </tr>\n",
       "    <tr>\n",
       "      <th>2023-08-20 00:00:00+00:00</th>\n",
       "      <td>26141.076172</td>\n",
       "      <td>1670.461548</td>\n",
       "    </tr>\n",
       "  </tbody>\n",
       "</table>\n",
       "<p>1328 rows × 2 columns</p>\n",
       "</div>"
      ],
      "text/plain": [
       "symbol                          BTC-USD      ETH-USD\n",
       "Date                                                \n",
       "2019-12-31 00:00:00+00:00   7193.599121   129.610855\n",
       "2020-01-01 00:00:00+00:00   7200.174316   130.802002\n",
       "2020-01-02 00:00:00+00:00   6985.470215   127.410179\n",
       "2020-01-03 00:00:00+00:00   7344.884277   134.171707\n",
       "2020-01-04 00:00:00+00:00   7410.656738   135.069366\n",
       "...                                 ...          ...\n",
       "2023-08-15 00:00:00+00:00  29170.347656  1826.932739\n",
       "2023-08-16 00:00:00+00:00  28701.779297  1805.659058\n",
       "2023-08-17 00:00:00+00:00  26664.550781  1684.933472\n",
       "2023-08-18 00:00:00+00:00  26049.556641  1660.945068\n",
       "2023-08-20 00:00:00+00:00  26141.076172  1670.461548\n",
       "\n",
       "[1328 rows x 2 columns]"
      ]
     },
     "execution_count": 3,
     "metadata": {},
     "output_type": "execute_result"
    }
   ],
   "source": [
    "data = vbt.YFData.download(symbols,\n",
    "                           start=start, \n",
    "                           interval=interval).get(\"Close\")\n",
    "data"
   ]
  },
  {
   "cell_type": "markdown",
   "id": "848987c8-daf1-42a1-be73-17a982ec401c",
   "metadata": {},
   "source": [
    "### Approach 1: using \"&\" operator"
   ]
  },
  {
   "cell_type": "markdown",
   "id": "623a9c6e-e755-4543-b2a0-7fd284b3aefd",
   "metadata": {},
   "source": [
    "(Note: my preferred method)"
   ]
  },
  {
   "cell_type": "code",
   "execution_count": 4,
   "id": "285d7c2f-48ae-49c6-a637-b28807e66348",
   "metadata": {},
   "outputs": [
    {
     "data": {
      "text/plain": [
       "fast_window  slow_window  RSI_window  symbol \n",
       "180          240          14          BTC-USD    2.254842\n",
       "                                      ETH-USD    5.267745\n",
       "Name: total_return, dtype: float64"
      ]
     },
     "execution_count": 4,
     "metadata": {},
     "output_type": "execute_result"
    }
   ],
   "source": [
    "rsi = vbt.RSI.run(data, window=rsi_window, short_name =\"RSI\")\n",
    "fast = vbt.MA.run(data, window=fast_window, short_name=\"fast\")\n",
    "slow = vbt.MA.run(data, window=slow_window, short_name=\"slow\")\n",
    "\n",
    "entries = fast.ma_above(slow).vbt & rsi.rsi_below(top).vbt\n",
    "exits = fast.ma_below(slow).vbt & rsi.rsi_above(bottom).vbt\n",
    "\n",
    "pf = vbt.Portfolio.from_signals(data, entries, exits, fees=fees, freq=interval)\n",
    "pf.total_return()"
   ]
  },
  {
   "cell_type": "markdown",
   "id": "a40173ff-8329-4c54-8874-1d46f6b7ce23",
   "metadata": {},
   "source": [
    "### Approach 2: Combine indicators using to_numpy()"
   ]
  },
  {
   "cell_type": "markdown",
   "id": "00bc5318-6f95-4aee-958e-d96b77396bb8",
   "metadata": {},
   "source": [
    "- (a) built-in vbt indicator + numpy "
   ]
  },
  {
   "cell_type": "code",
   "execution_count": 5,
   "id": "9294121e-8a74-4fd4-978d-781558ddcba3",
   "metadata": {},
   "outputs": [
    {
     "data": {
      "text/plain": [
       "symbol\n",
       "BTC-USD    2.254842\n",
       "ETH-USD    5.267745\n",
       "Name: total_return, dtype: float64"
      ]
     },
     "execution_count": 5,
     "metadata": {},
     "output_type": "execute_result"
    }
   ],
   "source": [
    "def get_signals(data, fast_window, slow_window, rsi_window, top, bottom):\n",
    "    rsi = vbt.RSI.run(data, window=rsi_window, short_name = \"RSI\").rsi.to_numpy()\n",
    "    fast = vbt.MA.run(data, window=fast_window, short_name=\"fast\").ma.to_numpy()\n",
    "    slow = vbt.MA.run(data, window=slow_window, short_name=\"slow\").ma.to_numpy()\n",
    "    entries = (fast > slow) & (rsi < top)\n",
    "    exits = (fast < slow) & (rsi > bottom)\n",
    "    return entries, exits\n",
    "\n",
    "entries, exits = get_signals(data, fast_window, slow_window, \n",
    "                             rsi_window, top, bottom)\n",
    "pf = vbt.Portfolio.from_signals(data, entries, exits, \n",
    "                                fees=fees, freq=interval)\n",
    "pf.total_return()  "
   ]
  },
  {
   "cell_type": "markdown",
   "id": "7ea21558-0b19-4026-8ac9-a0d052bb6179",
   "metadata": {},
   "source": [
    "- (b) talib indicator + numpy\n",
    "\n",
    "(Note: got accuracy problem for talib?)"
   ]
  },
  {
   "cell_type": "code",
   "execution_count": 6,
   "id": "662480f6-0bf4-48a0-b427-1d6affb8d3d5",
   "metadata": {},
   "outputs": [
    {
     "data": {
      "text/plain": [
       "symbol\n",
       "BTC-USD    2.254842\n",
       "ETH-USD    5.437713\n",
       "Name: total_return, dtype: float64"
      ]
     },
     "execution_count": 6,
     "metadata": {},
     "output_type": "execute_result"
    }
   ],
   "source": [
    "# I try to replicate the above result with talib package but I get inconsistent result for ETH-USD\n",
    "# (e.g., ETH-USD should be -0.262052 but in this example, I get -0.242040 instead)\n",
    "## Possible Reason: talib RSI seems calculated in a very different way compared to others: https://github.com/TA-Lib/ta-lib-python/issues/448\n",
    "\n",
    "def get_signals(data, fast_window, slow_window, rsi_window, top, bottom):\n",
    "    rsi = vbt.talib(\"RSI\").run(data, timeperiod=rsi_window, short_name = \"RSI\").real.to_numpy() # talib got problem calculating RSI?\n",
    "    fast = vbt.talib(\"MA\").run(data, timeperiod=fast_window, short_name=\"fast\").real.to_numpy()\n",
    "    slow = vbt.talib(\"MA\").run(data, timeperiod=slow_window, short_name=\"slow\").real.to_numpy()\n",
    "    entries = (fast > slow) & (rsi < top)\n",
    "    exits = (fast < slow) & (rsi > bottom)\n",
    "    return entries, exits\n",
    "\n",
    "entries, exits = get_signals(data, fast_window, slow_window, \n",
    "                             rsi_window, top, bottom)\n",
    "pf = vbt.Portfolio.from_signals(data, entries, exits, \n",
    "                                fees=fees, freq=interval)\n",
    "pf.total_return()"
   ]
  },
  {
   "cell_type": "markdown",
   "id": "dc1b02eb-973e-4625-b02c-bd69fd2eb81f",
   "metadata": {},
   "source": [
    "### Approach 4: Combine indicators using vbt.IndicatorFactory"
   ]
  },
  {
   "cell_type": "code",
   "execution_count": 7,
   "id": "f078f286-1786-43c1-97c2-1dc0a199933a",
   "metadata": {},
   "outputs": [
    {
     "data": {
      "text/plain": [
       "RSI_MA_fast_window  RSI_MA_slow_window  RSI_MA_rsi_window  RSI_MA_top  RSI_MA_bottom  symbol \n",
       "180                 240                 14                 80          20             BTC-USD    2.254842\n",
       "                                                                                      ETH-USD    5.267745\n",
       "Name: total_return, dtype: float64"
      ]
     },
     "execution_count": 7,
     "metadata": {},
     "output_type": "execute_result"
    }
   ],
   "source": [
    "def combine_rsi_ma(data, fast_window, slow_window, rsi_window, top, bottom):\n",
    "    rsi = vbt.RSI.run(data, window=rsi_window).rsi.to_numpy()\n",
    "    fast = vbt.MA.run(data, window=fast_window).ma.to_numpy()\n",
    "    slow = vbt.MA.run(data, window=slow_window).ma.to_numpy()\n",
    "    indicator = numpy.where((fast > slow) & (rsi < top), 1, 0)\n",
    "    indicator = numpy.where((fast < slow) & (rsi > bottom), -1, indicator)\n",
    "    return indicator\n",
    "\n",
    "indicator_rsi_ma = vbt.IndicatorFactory(\n",
    "    class_name='Combination_RSI_MA',\n",
    "    short_name='RSI_MA',\n",
    "    input_names=['close'],\n",
    "    param_names=['fast_window', 'slow_window', 'rsi_window', 'top', 'bottom'],\n",
    "    output_names=['value'],\n",
    ").from_apply_func(combine_rsi_ma, fast_window=180, \n",
    "                  slow_window=240, rsi_window=14, \n",
    "                  top=70, bottom=30)\n",
    "\n",
    "res = indicator_rsi_ma.run(\n",
    "    data,\n",
    "    fast_window=180,\n",
    "    slow_window=240,\n",
    "    rsi_window=14,\n",
    "    top=80,\n",
    "    bottom=20\n",
    ")\n",
    "\n",
    "entries = res.value_above(0) \n",
    "exits = res.value_below(0) \n",
    "\n",
    "pf = vbt.Portfolio.from_signals(data, entries, exits, \n",
    "                                fees=fees, freq=interval)\n",
    "pf.total_return()"
   ]
  },
  {
   "cell_type": "markdown",
   "id": "c8d8e8ca-8b5e-434e-8424-16bbda33697c",
   "metadata": {},
   "source": [
    "### Approach 4: Create custom indicator without built-in indicator but only vbt.IndicatorFactory"
   ]
  },
  {
   "cell_type": "code",
   "execution_count": 34,
   "id": "38df9632-b8e6-43c0-ade7-fdeaa8418b72",
   "metadata": {},
   "outputs": [],
   "source": [
    "# https://vectorbt.dev/api/indicators/factory/#inputs\n",
    "# https://greyhoundanalytics.com/blog/create-a-custom-indicator-in-vectorbt/\n",
    "# https://www.youtube.com/watch?v=57hsQz70vVE&t=209s & https://github.com/mikolaje/TradingTutorial/blob/main/VectorBTTutorial/bollinger_band_strategy.ipynb"
   ]
  },
  {
   "cell_type": "code",
   "execution_count": 35,
   "id": "47d8d17c-b84a-4fd8-b88b-a2756a37c82a",
   "metadata": {},
   "outputs": [],
   "source": []
  },
  {
   "cell_type": "code",
   "execution_count": 36,
   "id": "949790dc-8f29-405f-b6cb-d1a5f0a3e25d",
   "metadata": {},
   "outputs": [],
   "source": []
  }
 ],
 "metadata": {
  "kernelspec": {
   "display_name": "Python 3 (ipykernel)",
   "language": "python",
   "name": "python3"
  },
  "language_info": {
   "codemirror_mode": {
    "name": "ipython",
    "version": 3
   },
   "file_extension": ".py",
   "mimetype": "text/x-python",
   "name": "python",
   "nbconvert_exporter": "python",
   "pygments_lexer": "ipython3",
   "version": "3.9.17"
  }
 },
 "nbformat": 4,
 "nbformat_minor": 5
}
