{
 "cells": [
  {
   "cell_type": "code",
   "execution_count": 7,
   "metadata": {},
   "outputs": [],
   "source": [
    "import vectorbt as vbt"
   ]
  },
  {
   "cell_type": "code",
   "execution_count": 8,
   "metadata": {},
   "outputs": [
    {
     "name": "stdout",
     "output_type": "stream",
     "text": [
      "Date\n",
      "2019-12-31 05:00:00+00:00    152.596542\n",
      "2020-01-02 05:00:00+00:00    155.422043\n",
      "2020-01-03 05:00:00+00:00    153.486786\n",
      "2020-01-06 05:00:00+00:00    153.883499\n",
      "2020-01-07 05:00:00+00:00    152.480438\n",
      "                                ...    \n",
      "2023-07-31 04:00:00+00:00    335.920013\n",
      "2023-08-01 04:00:00+00:00    336.339996\n",
      "2023-08-02 04:00:00+00:00    327.500000\n",
      "2023-08-03 04:00:00+00:00    326.660004\n",
      "2023-08-04 04:00:00+00:00    327.779999\n",
      "Name: Close, Length: 905, dtype: float64\n"
     ]
    }
   ],
   "source": [
    "close_price = vbt.YFData.download(\"MSFT\", start=\"2020-01-01\", missing_index=True).get(\"Close\")\n",
    "print(close_price)"
   ]
  },
  {
   "cell_type": "code",
   "execution_count": 35,
   "metadata": {},
   "outputs": [
    {
     "data": {
      "text/plain": [
       "Date\n",
       "2019-12-31 05:00:00+00:00          NaN\n",
       "2020-01-02 05:00:00+00:00          NaN\n",
       "2020-01-03 05:00:00+00:00          NaN\n",
       "2020-01-06 05:00:00+00:00          NaN\n",
       "2020-01-07 05:00:00+00:00          NaN\n",
       "                               ...    \n",
       "2023-07-31 04:00:00+00:00    47.542212\n",
       "2023-08-01 04:00:00+00:00    47.871868\n",
       "2023-08-02 04:00:00+00:00    41.902887\n",
       "2023-08-03 04:00:00+00:00    41.374968\n",
       "2023-08-04 04:00:00+00:00    42.416670\n",
       "Name: (14, Close), Length: 905, dtype: float64"
      ]
     },
     "execution_count": 35,
     "metadata": {},
     "output_type": "execute_result"
    }
   ],
   "source": [
    "RSI = vbt.talib(\"RSI\").run(close_price, timeperiod=14).real\n",
    "RSI"
   ]
  },
  {
   "cell_type": "code",
   "execution_count": 30,
   "metadata": {},
   "outputs": [
    {
     "data": {
      "text/plain": [
       "Date\n",
       "2020-01-30 05:00:00+00:00    True\n",
       "2020-02-04 05:00:00+00:00    True\n",
       "2020-02-05 05:00:00+00:00    True\n",
       "2020-02-06 05:00:00+00:00    True\n",
       "2020-02-07 05:00:00+00:00    True\n",
       "                             ... \n",
       "2023-06-05 04:00:00+00:00    True\n",
       "2023-06-06 04:00:00+00:00    True\n",
       "2023-06-14 04:00:00+00:00    True\n",
       "2023-07-17 04:00:00+00:00    True\n",
       "2023-07-18 04:00:00+00:00    True\n",
       "Name: (14, Close), Length: 161, dtype: bool"
      ]
     },
     "execution_count": 30,
     "metadata": {},
     "output_type": "execute_result"
    }
   ],
   "source": [
    "RSI_14 = vbt.RSI.run(close_price, window=14)\n",
    "RSI_14.rsi_above(70)[RSI_14.rsi_above(70)==True]"
   ]
  }
 ],
 "metadata": {
  "kernelspec": {
   "display_name": "vectorbt",
   "language": "python",
   "name": "python3"
  },
  "language_info": {
   "codemirror_mode": {
    "name": "ipython",
    "version": 3
   },
   "file_extension": ".py",
   "mimetype": "text/x-python",
   "name": "python",
   "nbconvert_exporter": "python",
   "pygments_lexer": "ipython3",
   "version": "3.9.17"
  },
  "orig_nbformat": 4
 },
 "nbformat": 4,
 "nbformat_minor": 2
}
