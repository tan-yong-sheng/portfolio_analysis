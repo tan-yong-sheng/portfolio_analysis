{
 "cells": [
  {
   "cell_type": "code",
   "execution_count": 2,
   "metadata": {},
   "outputs": [],
   "source": [
    "import vectorbt as vbt"
   ]
  },
  {
   "cell_type": "code",
   "execution_count": 4,
   "metadata": {},
   "outputs": [
    {
     "data": {
      "text/plain": [
       "Date\n",
       "2020-12-31 05:00:00+00:00    23.549999\n",
       "2021-01-04 05:00:00+00:00    23.370001\n",
       "2021-01-05 05:00:00+00:00    24.600000\n",
       "2021-01-06 05:00:00+00:00    23.540001\n",
       "2021-01-07 05:00:00+00:00    25.000000\n",
       "                               ...    \n",
       "2023-07-31 04:00:00+00:00    19.840000\n",
       "2023-08-01 04:00:00+00:00    19.990000\n",
       "2023-08-02 04:00:00+00:00    18.969999\n",
       "2023-08-03 04:00:00+00:00    18.709999\n",
       "2023-08-04 04:00:00+00:00    18.200001\n",
       "Name: Close, Length: 652, dtype: float64"
      ]
     },
     "execution_count": 4,
     "metadata": {},
     "output_type": "execute_result"
    }
   ],
   "source": [
    "price = vbt.YFData.download(\"PLTR\",missing_index=\"drop\",\n",
    "                            start=\"2021-01-01\").get(\"Close\")\n",
    "price"
   ]
  }
 ],
 "metadata": {
  "kernelspec": {
   "display_name": "vectorbt",
   "language": "python",
   "name": "python3"
  },
  "language_info": {
   "codemirror_mode": {
    "name": "ipython",
    "version": 3
   },
   "file_extension": ".py",
   "mimetype": "text/x-python",
   "name": "python",
   "nbconvert_exporter": "python",
   "pygments_lexer": "ipython3",
   "version": "3.9.17"
  },
  "orig_nbformat": 4
 },
 "nbformat": 4,
 "nbformat_minor": 2
}
